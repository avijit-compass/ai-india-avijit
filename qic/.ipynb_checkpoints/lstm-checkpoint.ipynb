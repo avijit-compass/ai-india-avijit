{
 "cells": [
  {
   "cell_type": "code",
   "execution_count": 2,
   "id": "014e3473",
   "metadata": {},
   "outputs": [],
   "source": [
    "import torch\n",
    "import torch.nn as nn\n",
    "from torchtext import data\n",
    "from collections import Counter\n",
    "import pandas as pd\n",
    "import numpy as np\n",
    "import re\n",
    "import string\n",
    "from sklearn.model_selection import train_test_split\n",
    "from torch.utils.data import Dataset\n",
    "from torch.utils.data import DataLoader\n",
    "import torch.nn.functional as F\n",
    "import torch.optim as optim\n",
    "from torch.nn.utils.rnn import pack_padded_sequence\n",
    "\n",
    "\n",
    "import pandas as pd\n",
    "import matplotlib\n",
    "import numpy as np\n",
    "import matplotlib.pyplot as plt\n",
    "%matplotlib inline"
   ]
  },
  {
   "cell_type": "code",
   "execution_count": 5,
   "id": "33574caf",
   "metadata": {},
   "outputs": [
    {
     "data": {
      "text/plain": [
       "<torch._C.Generator at 0x10d311390>"
      ]
     },
     "execution_count": 5,
     "metadata": {},
     "output_type": "execute_result"
    }
   ],
   "source": [
    "#Reproducing same results\n",
    "SEED = 2019\n",
    "\n",
    "#Torch\n",
    "torch.manual_seed(SEED)"
   ]
  },
  {
   "cell_type": "code",
   "execution_count": 6,
   "id": "b0593f75",
   "metadata": {},
   "outputs": [],
   "source": [
    "#input\n",
    "x = torch.tensor([[1,2, 12,34, 56,78, 90,80],\n",
    "                 [12,45, 99,67, 6,23, 77,82],\n",
    "                 [3,24, 6,99, 12,56, 21,22]])"
   ]
  },
  {
   "cell_type": "code",
   "execution_count": 7,
   "id": "e4362f3f",
   "metadata": {},
   "outputs": [
    {
     "data": {
      "text/plain": [
       "tensor([[ 1,  2, 12, 34, 56, 78, 90, 80],\n",
       "        [12, 45, 99, 67,  6, 23, 77, 82],\n",
       "        [ 3, 24,  6, 99, 12, 56, 21, 22]])"
      ]
     },
     "execution_count": 7,
     "metadata": {},
     "output_type": "execute_result"
    }
   ],
   "source": [
    "x"
   ]
  },
  {
   "cell_type": "code",
   "execution_count": 8,
   "id": "4d5c4c58",
   "metadata": {},
   "outputs": [],
   "source": [
    "model1 = nn.Embedding(100, 7, padding_idx=0)\n",
    "model2 = nn.LSTM(input_size=7, hidden_size=3, num_layers=1, batch_first=True)"
   ]
  },
  {
   "cell_type": "code",
   "execution_count": 9,
   "id": "844cea31",
   "metadata": {},
   "outputs": [],
   "source": [
    "out1 = model1(x)\n",
    "out2 = model2(out1)"
   ]
  },
  {
   "cell_type": "code",
   "execution_count": 10,
   "id": "2cd209bc",
   "metadata": {},
   "outputs": [
    {
     "data": {
      "text/plain": [
       "torch.Size([3, 8, 7])"
      ]
     },
     "execution_count": 10,
     "metadata": {},
     "output_type": "execute_result"
    }
   ],
   "source": [
    "out1.shape"
   ]
  },
  {
   "cell_type": "code",
   "execution_count": 11,
   "id": "332dc9a9",
   "metadata": {},
   "outputs": [
    {
     "data": {
      "text/plain": [
       "tensor([[ 0.0102, -0.2805,  0.0241],\n",
       "        [ 0.2553,  0.2843, -0.0492],\n",
       "        [ 0.3574,  0.0928,  0.0606]], grad_fn=<SelectBackward>)"
      ]
     },
     "execution_count": 11,
     "metadata": {},
     "output_type": "execute_result"
    }
   ],
   "source": [
    "out2[1][0][-1]"
   ]
  },
  {
   "cell_type": "markdown",
   "id": "bb42f333",
   "metadata": {},
   "source": [
    "# Model Building"
   ]
  },
  {
   "cell_type": "code",
   "execution_count": 8,
   "id": "dae8d079",
   "metadata": {},
   "outputs": [],
   "source": [
    "import pickle5 as pickle\n",
    "with open('/Users/avijit.saha/Downloads/sample.pkl', \"rb\") as fh:\n",
    "  df_sam = pickle.load(fh)"
   ]
  },
  {
   "cell_type": "code",
   "execution_count": 9,
   "id": "a706d4e7",
   "metadata": {},
   "outputs": [
    {
     "data": {
      "text/html": [
       "<div>\n",
       "<style scoped>\n",
       "    .dataframe tbody tr th:only-of-type {\n",
       "        vertical-align: middle;\n",
       "    }\n",
       "\n",
       "    .dataframe tbody tr th {\n",
       "        vertical-align: top;\n",
       "    }\n",
       "\n",
       "    .dataframe thead th {\n",
       "        text-align: right;\n",
       "    }\n",
       "</style>\n",
       "<table border=\"1\" class=\"dataframe\">\n",
       "  <thead>\n",
       "    <tr style=\"text-align: right;\">\n",
       "      <th></th>\n",
       "      <th>Query_Entered</th>\n",
       "      <th>selected_suggestion_source</th>\n",
       "    </tr>\n",
       "  </thead>\n",
       "  <tbody>\n",
       "    <tr>\n",
       "      <th>0</th>\n",
       "      <td>20854</td>\n",
       "      <td>zip_code</td>\n",
       "    </tr>\n",
       "    <tr>\n",
       "      <th>1</th>\n",
       "      <td>paph1018386</td>\n",
       "      <td>mrsid</td>\n",
       "    </tr>\n",
       "    <tr>\n",
       "      <th>2</th>\n",
       "      <td>33 sleeper st</td>\n",
       "      <td>address_free_text</td>\n",
       "    </tr>\n",
       "    <tr>\n",
       "      <th>3</th>\n",
       "      <td>1118 berwind road, wynnewood, pa, 19096</td>\n",
       "      <td>address</td>\n",
       "    </tr>\n",
       "    <tr>\n",
       "      <th>4</th>\n",
       "      <td>127 valley road, ardmore, pa, 19003</td>\n",
       "      <td>address</td>\n",
       "    </tr>\n",
       "  </tbody>\n",
       "</table>\n",
       "</div>"
      ],
      "text/plain": [
       "                             Query_Entered selected_suggestion_source\n",
       "0                                    20854                   zip_code\n",
       "1                              paph1018386                      mrsid\n",
       "2                            33 sleeper st          address_free_text\n",
       "3  1118 berwind road, wynnewood, pa, 19096                    address\n",
       "4      127 valley road, ardmore, pa, 19003                    address"
      ]
     },
     "execution_count": 9,
     "metadata": {},
     "output_type": "execute_result"
    }
   ],
   "source": [
    "df_sam.head()"
   ]
  },
  {
   "cell_type": "code",
   "execution_count": 12,
   "id": "723ed333",
   "metadata": {},
   "outputs": [
    {
     "ename": "FileNotFoundError",
     "evalue": "[Errno 2] No such file or directory: '/Users/avijit.saha/Downloads/Womens Clothing E-Commerce Reviews.csv'",
     "output_type": "error",
     "traceback": [
      "\u001b[0;31m---------------------------------------------------------------------------\u001b[0m",
      "\u001b[0;31mFileNotFoundError\u001b[0m                         Traceback (most recent call last)",
      "\u001b[0;32m/var/folders/39/0nx9_jb11cq6d5wlsc8yq4g40000gp/T/ipykernel_44192/2620965217.py\u001b[0m in \u001b[0;36m<module>\u001b[0;34m\u001b[0m\n\u001b[0;32m----> 1\u001b[0;31m \u001b[0mdf\u001b[0m \u001b[0;34m=\u001b[0m \u001b[0mpd\u001b[0m\u001b[0;34m.\u001b[0m\u001b[0mread_csv\u001b[0m\u001b[0;34m(\u001b[0m\u001b[0;34m\"/Users/avijit.saha/Downloads/Womens Clothing E-Commerce Reviews.csv\"\u001b[0m\u001b[0;34m)\u001b[0m\u001b[0;34m\u001b[0m\u001b[0;34m\u001b[0m\u001b[0m\n\u001b[0m",
      "\u001b[0;32m~/.pyenv/versions/3.7.9/envs/venv/lib/python3.7/site-packages/pandas/util/_decorators.py\u001b[0m in \u001b[0;36mwrapper\u001b[0;34m(*args, **kwargs)\u001b[0m\n\u001b[1;32m    309\u001b[0m                     \u001b[0mstacklevel\u001b[0m\u001b[0;34m=\u001b[0m\u001b[0mstacklevel\u001b[0m\u001b[0;34m,\u001b[0m\u001b[0;34m\u001b[0m\u001b[0;34m\u001b[0m\u001b[0m\n\u001b[1;32m    310\u001b[0m                 )\n\u001b[0;32m--> 311\u001b[0;31m             \u001b[0;32mreturn\u001b[0m \u001b[0mfunc\u001b[0m\u001b[0;34m(\u001b[0m\u001b[0;34m*\u001b[0m\u001b[0margs\u001b[0m\u001b[0;34m,\u001b[0m \u001b[0;34m**\u001b[0m\u001b[0mkwargs\u001b[0m\u001b[0;34m)\u001b[0m\u001b[0;34m\u001b[0m\u001b[0;34m\u001b[0m\u001b[0m\n\u001b[0m\u001b[1;32m    312\u001b[0m \u001b[0;34m\u001b[0m\u001b[0m\n\u001b[1;32m    313\u001b[0m         \u001b[0;32mreturn\u001b[0m \u001b[0mwrapper\u001b[0m\u001b[0;34m\u001b[0m\u001b[0;34m\u001b[0m\u001b[0m\n",
      "\u001b[0;32m~/.pyenv/versions/3.7.9/envs/venv/lib/python3.7/site-packages/pandas/io/parsers/readers.py\u001b[0m in \u001b[0;36mread_csv\u001b[0;34m(filepath_or_buffer, sep, delimiter, header, names, index_col, usecols, squeeze, prefix, mangle_dupe_cols, dtype, engine, converters, true_values, false_values, skipinitialspace, skiprows, skipfooter, nrows, na_values, keep_default_na, na_filter, verbose, skip_blank_lines, parse_dates, infer_datetime_format, keep_date_col, date_parser, dayfirst, cache_dates, iterator, chunksize, compression, thousands, decimal, lineterminator, quotechar, quoting, doublequote, escapechar, comment, encoding, encoding_errors, dialect, error_bad_lines, warn_bad_lines, on_bad_lines, delim_whitespace, low_memory, memory_map, float_precision, storage_options)\u001b[0m\n\u001b[1;32m    584\u001b[0m     \u001b[0mkwds\u001b[0m\u001b[0;34m.\u001b[0m\u001b[0mupdate\u001b[0m\u001b[0;34m(\u001b[0m\u001b[0mkwds_defaults\u001b[0m\u001b[0;34m)\u001b[0m\u001b[0;34m\u001b[0m\u001b[0;34m\u001b[0m\u001b[0m\n\u001b[1;32m    585\u001b[0m \u001b[0;34m\u001b[0m\u001b[0m\n\u001b[0;32m--> 586\u001b[0;31m     \u001b[0;32mreturn\u001b[0m \u001b[0m_read\u001b[0m\u001b[0;34m(\u001b[0m\u001b[0mfilepath_or_buffer\u001b[0m\u001b[0;34m,\u001b[0m \u001b[0mkwds\u001b[0m\u001b[0;34m)\u001b[0m\u001b[0;34m\u001b[0m\u001b[0;34m\u001b[0m\u001b[0m\n\u001b[0m\u001b[1;32m    587\u001b[0m \u001b[0;34m\u001b[0m\u001b[0m\n\u001b[1;32m    588\u001b[0m \u001b[0;34m\u001b[0m\u001b[0m\n",
      "\u001b[0;32m~/.pyenv/versions/3.7.9/envs/venv/lib/python3.7/site-packages/pandas/io/parsers/readers.py\u001b[0m in \u001b[0;36m_read\u001b[0;34m(filepath_or_buffer, kwds)\u001b[0m\n\u001b[1;32m    480\u001b[0m \u001b[0;34m\u001b[0m\u001b[0m\n\u001b[1;32m    481\u001b[0m     \u001b[0;31m# Create the parser.\u001b[0m\u001b[0;34m\u001b[0m\u001b[0;34m\u001b[0m\u001b[0;34m\u001b[0m\u001b[0m\n\u001b[0;32m--> 482\u001b[0;31m     \u001b[0mparser\u001b[0m \u001b[0;34m=\u001b[0m \u001b[0mTextFileReader\u001b[0m\u001b[0;34m(\u001b[0m\u001b[0mfilepath_or_buffer\u001b[0m\u001b[0;34m,\u001b[0m \u001b[0;34m**\u001b[0m\u001b[0mkwds\u001b[0m\u001b[0;34m)\u001b[0m\u001b[0;34m\u001b[0m\u001b[0;34m\u001b[0m\u001b[0m\n\u001b[0m\u001b[1;32m    483\u001b[0m \u001b[0;34m\u001b[0m\u001b[0m\n\u001b[1;32m    484\u001b[0m     \u001b[0;32mif\u001b[0m \u001b[0mchunksize\u001b[0m \u001b[0;32mor\u001b[0m \u001b[0miterator\u001b[0m\u001b[0;34m:\u001b[0m\u001b[0;34m\u001b[0m\u001b[0;34m\u001b[0m\u001b[0m\n",
      "\u001b[0;32m~/.pyenv/versions/3.7.9/envs/venv/lib/python3.7/site-packages/pandas/io/parsers/readers.py\u001b[0m in \u001b[0;36m__init__\u001b[0;34m(self, f, engine, **kwds)\u001b[0m\n\u001b[1;32m    809\u001b[0m             \u001b[0mself\u001b[0m\u001b[0;34m.\u001b[0m\u001b[0moptions\u001b[0m\u001b[0;34m[\u001b[0m\u001b[0;34m\"has_index_names\"\u001b[0m\u001b[0;34m]\u001b[0m \u001b[0;34m=\u001b[0m \u001b[0mkwds\u001b[0m\u001b[0;34m[\u001b[0m\u001b[0;34m\"has_index_names\"\u001b[0m\u001b[0;34m]\u001b[0m\u001b[0;34m\u001b[0m\u001b[0;34m\u001b[0m\u001b[0m\n\u001b[1;32m    810\u001b[0m \u001b[0;34m\u001b[0m\u001b[0m\n\u001b[0;32m--> 811\u001b[0;31m         \u001b[0mself\u001b[0m\u001b[0;34m.\u001b[0m\u001b[0m_engine\u001b[0m \u001b[0;34m=\u001b[0m \u001b[0mself\u001b[0m\u001b[0;34m.\u001b[0m\u001b[0m_make_engine\u001b[0m\u001b[0;34m(\u001b[0m\u001b[0mself\u001b[0m\u001b[0;34m.\u001b[0m\u001b[0mengine\u001b[0m\u001b[0;34m)\u001b[0m\u001b[0;34m\u001b[0m\u001b[0;34m\u001b[0m\u001b[0m\n\u001b[0m\u001b[1;32m    812\u001b[0m \u001b[0;34m\u001b[0m\u001b[0m\n\u001b[1;32m    813\u001b[0m     \u001b[0;32mdef\u001b[0m \u001b[0mclose\u001b[0m\u001b[0;34m(\u001b[0m\u001b[0mself\u001b[0m\u001b[0;34m)\u001b[0m\u001b[0;34m:\u001b[0m\u001b[0;34m\u001b[0m\u001b[0;34m\u001b[0m\u001b[0m\n",
      "\u001b[0;32m~/.pyenv/versions/3.7.9/envs/venv/lib/python3.7/site-packages/pandas/io/parsers/readers.py\u001b[0m in \u001b[0;36m_make_engine\u001b[0;34m(self, engine)\u001b[0m\n\u001b[1;32m   1038\u001b[0m             )\n\u001b[1;32m   1039\u001b[0m         \u001b[0;31m# error: Too many arguments for \"ParserBase\"\u001b[0m\u001b[0;34m\u001b[0m\u001b[0;34m\u001b[0m\u001b[0;34m\u001b[0m\u001b[0m\n\u001b[0;32m-> 1040\u001b[0;31m         \u001b[0;32mreturn\u001b[0m \u001b[0mmapping\u001b[0m\u001b[0;34m[\u001b[0m\u001b[0mengine\u001b[0m\u001b[0;34m]\u001b[0m\u001b[0;34m(\u001b[0m\u001b[0mself\u001b[0m\u001b[0;34m.\u001b[0m\u001b[0mf\u001b[0m\u001b[0;34m,\u001b[0m \u001b[0;34m**\u001b[0m\u001b[0mself\u001b[0m\u001b[0;34m.\u001b[0m\u001b[0moptions\u001b[0m\u001b[0;34m)\u001b[0m  \u001b[0;31m# type: ignore[call-arg]\u001b[0m\u001b[0;34m\u001b[0m\u001b[0;34m\u001b[0m\u001b[0m\n\u001b[0m\u001b[1;32m   1041\u001b[0m \u001b[0;34m\u001b[0m\u001b[0m\n\u001b[1;32m   1042\u001b[0m     \u001b[0;32mdef\u001b[0m \u001b[0m_failover_to_python\u001b[0m\u001b[0;34m(\u001b[0m\u001b[0mself\u001b[0m\u001b[0;34m)\u001b[0m\u001b[0;34m:\u001b[0m\u001b[0;34m\u001b[0m\u001b[0;34m\u001b[0m\u001b[0m\n",
      "\u001b[0;32m~/.pyenv/versions/3.7.9/envs/venv/lib/python3.7/site-packages/pandas/io/parsers/c_parser_wrapper.py\u001b[0m in \u001b[0;36m__init__\u001b[0;34m(self, src, **kwds)\u001b[0m\n\u001b[1;32m     49\u001b[0m \u001b[0;34m\u001b[0m\u001b[0m\n\u001b[1;32m     50\u001b[0m         \u001b[0;31m# open handles\u001b[0m\u001b[0;34m\u001b[0m\u001b[0;34m\u001b[0m\u001b[0;34m\u001b[0m\u001b[0m\n\u001b[0;32m---> 51\u001b[0;31m         \u001b[0mself\u001b[0m\u001b[0;34m.\u001b[0m\u001b[0m_open_handles\u001b[0m\u001b[0;34m(\u001b[0m\u001b[0msrc\u001b[0m\u001b[0;34m,\u001b[0m \u001b[0mkwds\u001b[0m\u001b[0;34m)\u001b[0m\u001b[0;34m\u001b[0m\u001b[0;34m\u001b[0m\u001b[0m\n\u001b[0m\u001b[1;32m     52\u001b[0m         \u001b[0;32massert\u001b[0m \u001b[0mself\u001b[0m\u001b[0;34m.\u001b[0m\u001b[0mhandles\u001b[0m \u001b[0;32mis\u001b[0m \u001b[0;32mnot\u001b[0m \u001b[0;32mNone\u001b[0m\u001b[0;34m\u001b[0m\u001b[0;34m\u001b[0m\u001b[0m\n\u001b[1;32m     53\u001b[0m \u001b[0;34m\u001b[0m\u001b[0m\n",
      "\u001b[0;32m~/.pyenv/versions/3.7.9/envs/venv/lib/python3.7/site-packages/pandas/io/parsers/base_parser.py\u001b[0m in \u001b[0;36m_open_handles\u001b[0;34m(self, src, kwds)\u001b[0m\n\u001b[1;32m    227\u001b[0m             \u001b[0mmemory_map\u001b[0m\u001b[0;34m=\u001b[0m\u001b[0mkwds\u001b[0m\u001b[0;34m.\u001b[0m\u001b[0mget\u001b[0m\u001b[0;34m(\u001b[0m\u001b[0;34m\"memory_map\"\u001b[0m\u001b[0;34m,\u001b[0m \u001b[0;32mFalse\u001b[0m\u001b[0;34m)\u001b[0m\u001b[0;34m,\u001b[0m\u001b[0;34m\u001b[0m\u001b[0;34m\u001b[0m\u001b[0m\n\u001b[1;32m    228\u001b[0m             \u001b[0mstorage_options\u001b[0m\u001b[0;34m=\u001b[0m\u001b[0mkwds\u001b[0m\u001b[0;34m.\u001b[0m\u001b[0mget\u001b[0m\u001b[0;34m(\u001b[0m\u001b[0;34m\"storage_options\"\u001b[0m\u001b[0;34m,\u001b[0m \u001b[0;32mNone\u001b[0m\u001b[0;34m)\u001b[0m\u001b[0;34m,\u001b[0m\u001b[0;34m\u001b[0m\u001b[0;34m\u001b[0m\u001b[0m\n\u001b[0;32m--> 229\u001b[0;31m             \u001b[0merrors\u001b[0m\u001b[0;34m=\u001b[0m\u001b[0mkwds\u001b[0m\u001b[0;34m.\u001b[0m\u001b[0mget\u001b[0m\u001b[0;34m(\u001b[0m\u001b[0;34m\"encoding_errors\"\u001b[0m\u001b[0;34m,\u001b[0m \u001b[0;34m\"strict\"\u001b[0m\u001b[0;34m)\u001b[0m\u001b[0;34m,\u001b[0m\u001b[0;34m\u001b[0m\u001b[0;34m\u001b[0m\u001b[0m\n\u001b[0m\u001b[1;32m    230\u001b[0m         )\n\u001b[1;32m    231\u001b[0m \u001b[0;34m\u001b[0m\u001b[0m\n",
      "\u001b[0;32m~/.pyenv/versions/3.7.9/envs/venv/lib/python3.7/site-packages/pandas/io/common.py\u001b[0m in \u001b[0;36mget_handle\u001b[0;34m(path_or_buf, mode, encoding, compression, memory_map, is_text, errors, storage_options)\u001b[0m\n\u001b[1;32m    704\u001b[0m                 \u001b[0mencoding\u001b[0m\u001b[0;34m=\u001b[0m\u001b[0mioargs\u001b[0m\u001b[0;34m.\u001b[0m\u001b[0mencoding\u001b[0m\u001b[0;34m,\u001b[0m\u001b[0;34m\u001b[0m\u001b[0;34m\u001b[0m\u001b[0m\n\u001b[1;32m    705\u001b[0m                 \u001b[0merrors\u001b[0m\u001b[0;34m=\u001b[0m\u001b[0merrors\u001b[0m\u001b[0;34m,\u001b[0m\u001b[0;34m\u001b[0m\u001b[0;34m\u001b[0m\u001b[0m\n\u001b[0;32m--> 706\u001b[0;31m                 \u001b[0mnewline\u001b[0m\u001b[0;34m=\u001b[0m\u001b[0;34m\"\"\u001b[0m\u001b[0;34m,\u001b[0m\u001b[0;34m\u001b[0m\u001b[0;34m\u001b[0m\u001b[0m\n\u001b[0m\u001b[1;32m    707\u001b[0m             )\n\u001b[1;32m    708\u001b[0m         \u001b[0;32melse\u001b[0m\u001b[0;34m:\u001b[0m\u001b[0;34m\u001b[0m\u001b[0;34m\u001b[0m\u001b[0m\n",
      "\u001b[0;31mFileNotFoundError\u001b[0m: [Errno 2] No such file or directory: '/Users/avijit.saha/Downloads/Womens Clothing E-Commerce Reviews.csv'"
     ]
    }
   ],
   "source": [
    "df = pd.read_csv(\"/Users/avijit.saha/Downloads/Womens Clothing E-Commerce Reviews.csv\")"
   ]
  },
  {
   "cell_type": "code",
   "execution_count": 114,
   "id": "e4bd99dc",
   "metadata": {},
   "outputs": [
    {
     "data": {
      "text/plain": [
       "(23486, 11)"
      ]
     },
     "execution_count": 114,
     "metadata": {},
     "output_type": "execute_result"
    }
   ],
   "source": [
    "df.shape"
   ]
  },
  {
   "cell_type": "code",
   "execution_count": 115,
   "id": "900fad08",
   "metadata": {},
   "outputs": [
    {
     "data": {
      "text/html": [
       "<div>\n",
       "<style scoped>\n",
       "    .dataframe tbody tr th:only-of-type {\n",
       "        vertical-align: middle;\n",
       "    }\n",
       "\n",
       "    .dataframe tbody tr th {\n",
       "        vertical-align: top;\n",
       "    }\n",
       "\n",
       "    .dataframe thead th {\n",
       "        text-align: right;\n",
       "    }\n",
       "</style>\n",
       "<table border=\"1\" class=\"dataframe\">\n",
       "  <thead>\n",
       "    <tr style=\"text-align: right;\">\n",
       "      <th></th>\n",
       "      <th>Unnamed: 0</th>\n",
       "      <th>Clothing ID</th>\n",
       "      <th>Age</th>\n",
       "      <th>Title</th>\n",
       "      <th>Review Text</th>\n",
       "      <th>Rating</th>\n",
       "      <th>Recommended IND</th>\n",
       "      <th>Positive Feedback Count</th>\n",
       "      <th>Division Name</th>\n",
       "      <th>Department Name</th>\n",
       "      <th>Class Name</th>\n",
       "    </tr>\n",
       "  </thead>\n",
       "  <tbody>\n",
       "    <tr>\n",
       "      <th>0</th>\n",
       "      <td>0</td>\n",
       "      <td>767</td>\n",
       "      <td>33</td>\n",
       "      <td>NaN</td>\n",
       "      <td>Absolutely wonderful - silky and sexy and comf...</td>\n",
       "      <td>4</td>\n",
       "      <td>1</td>\n",
       "      <td>0</td>\n",
       "      <td>Initmates</td>\n",
       "      <td>Intimate</td>\n",
       "      <td>Intimates</td>\n",
       "    </tr>\n",
       "    <tr>\n",
       "      <th>1</th>\n",
       "      <td>1</td>\n",
       "      <td>1080</td>\n",
       "      <td>34</td>\n",
       "      <td>NaN</td>\n",
       "      <td>Love this dress!  it's sooo pretty.  i happene...</td>\n",
       "      <td>5</td>\n",
       "      <td>1</td>\n",
       "      <td>4</td>\n",
       "      <td>General</td>\n",
       "      <td>Dresses</td>\n",
       "      <td>Dresses</td>\n",
       "    </tr>\n",
       "    <tr>\n",
       "      <th>2</th>\n",
       "      <td>2</td>\n",
       "      <td>1077</td>\n",
       "      <td>60</td>\n",
       "      <td>Some major design flaws</td>\n",
       "      <td>I had such high hopes for this dress and reall...</td>\n",
       "      <td>3</td>\n",
       "      <td>0</td>\n",
       "      <td>0</td>\n",
       "      <td>General</td>\n",
       "      <td>Dresses</td>\n",
       "      <td>Dresses</td>\n",
       "    </tr>\n",
       "    <tr>\n",
       "      <th>3</th>\n",
       "      <td>3</td>\n",
       "      <td>1049</td>\n",
       "      <td>50</td>\n",
       "      <td>My favorite buy!</td>\n",
       "      <td>I love, love, love this jumpsuit. it's fun, fl...</td>\n",
       "      <td>5</td>\n",
       "      <td>1</td>\n",
       "      <td>0</td>\n",
       "      <td>General Petite</td>\n",
       "      <td>Bottoms</td>\n",
       "      <td>Pants</td>\n",
       "    </tr>\n",
       "    <tr>\n",
       "      <th>4</th>\n",
       "      <td>4</td>\n",
       "      <td>847</td>\n",
       "      <td>47</td>\n",
       "      <td>Flattering shirt</td>\n",
       "      <td>This shirt is very flattering to all due to th...</td>\n",
       "      <td>5</td>\n",
       "      <td>1</td>\n",
       "      <td>6</td>\n",
       "      <td>General</td>\n",
       "      <td>Tops</td>\n",
       "      <td>Blouses</td>\n",
       "    </tr>\n",
       "  </tbody>\n",
       "</table>\n",
       "</div>"
      ],
      "text/plain": [
       "   Unnamed: 0  Clothing ID  Age                    Title  \\\n",
       "0           0          767   33                      NaN   \n",
       "1           1         1080   34                      NaN   \n",
       "2           2         1077   60  Some major design flaws   \n",
       "3           3         1049   50         My favorite buy!   \n",
       "4           4          847   47         Flattering shirt   \n",
       "\n",
       "                                         Review Text  Rating  Recommended IND  \\\n",
       "0  Absolutely wonderful - silky and sexy and comf...       4                1   \n",
       "1  Love this dress!  it's sooo pretty.  i happene...       5                1   \n",
       "2  I had such high hopes for this dress and reall...       3                0   \n",
       "3  I love, love, love this jumpsuit. it's fun, fl...       5                1   \n",
       "4  This shirt is very flattering to all due to th...       5                1   \n",
       "\n",
       "   Positive Feedback Count   Division Name Department Name Class Name  \n",
       "0                        0       Initmates        Intimate  Intimates  \n",
       "1                        4         General         Dresses    Dresses  \n",
       "2                        0         General         Dresses    Dresses  \n",
       "3                        0  General Petite         Bottoms      Pants  \n",
       "4                        6         General            Tops    Blouses  "
      ]
     },
     "execution_count": 115,
     "metadata": {},
     "output_type": "execute_result"
    }
   ],
   "source": [
    "df.head()"
   ]
  },
  {
   "cell_type": "code",
   "execution_count": 116,
   "id": "91e540ca",
   "metadata": {},
   "outputs": [],
   "source": [
    "df_mod = df[[\"Review Text\", \"Rating\"]].copy()"
   ]
  },
  {
   "cell_type": "code",
   "execution_count": 117,
   "id": "da91c60f",
   "metadata": {},
   "outputs": [
    {
     "data": {
      "text/html": [
       "<div>\n",
       "<style scoped>\n",
       "    .dataframe tbody tr th:only-of-type {\n",
       "        vertical-align: middle;\n",
       "    }\n",
       "\n",
       "    .dataframe tbody tr th {\n",
       "        vertical-align: top;\n",
       "    }\n",
       "\n",
       "    .dataframe thead th {\n",
       "        text-align: right;\n",
       "    }\n",
       "</style>\n",
       "<table border=\"1\" class=\"dataframe\">\n",
       "  <thead>\n",
       "    <tr style=\"text-align: right;\">\n",
       "      <th></th>\n",
       "      <th>Review Text</th>\n",
       "      <th>Rating</th>\n",
       "    </tr>\n",
       "  </thead>\n",
       "  <tbody>\n",
       "    <tr>\n",
       "      <th>0</th>\n",
       "      <td>Absolutely wonderful - silky and sexy and comf...</td>\n",
       "      <td>4</td>\n",
       "    </tr>\n",
       "    <tr>\n",
       "      <th>1</th>\n",
       "      <td>Love this dress!  it's sooo pretty.  i happene...</td>\n",
       "      <td>5</td>\n",
       "    </tr>\n",
       "    <tr>\n",
       "      <th>2</th>\n",
       "      <td>I had such high hopes for this dress and reall...</td>\n",
       "      <td>3</td>\n",
       "    </tr>\n",
       "    <tr>\n",
       "      <th>3</th>\n",
       "      <td>I love, love, love this jumpsuit. it's fun, fl...</td>\n",
       "      <td>5</td>\n",
       "    </tr>\n",
       "    <tr>\n",
       "      <th>4</th>\n",
       "      <td>This shirt is very flattering to all due to th...</td>\n",
       "      <td>5</td>\n",
       "    </tr>\n",
       "  </tbody>\n",
       "</table>\n",
       "</div>"
      ],
      "text/plain": [
       "                                         Review Text  Rating\n",
       "0  Absolutely wonderful - silky and sexy and comf...       4\n",
       "1  Love this dress!  it's sooo pretty.  i happene...       5\n",
       "2  I had such high hopes for this dress and reall...       3\n",
       "3  I love, love, love this jumpsuit. it's fun, fl...       5\n",
       "4  This shirt is very flattering to all due to th...       5"
      ]
     },
     "execution_count": 117,
     "metadata": {},
     "output_type": "execute_result"
    }
   ],
   "source": [
    "df_mod.head()"
   ]
  },
  {
   "cell_type": "code",
   "execution_count": 118,
   "id": "9b675120",
   "metadata": {},
   "outputs": [],
   "source": [
    "df_mod.rename(columns={\"Review Text\":\"review\", \"Rating\":\"rating\"}, inplace=True)"
   ]
  },
  {
   "cell_type": "code",
   "execution_count": 119,
   "id": "2316fdad",
   "metadata": {},
   "outputs": [
    {
     "data": {
      "text/html": [
       "<div>\n",
       "<style scoped>\n",
       "    .dataframe tbody tr th:only-of-type {\n",
       "        vertical-align: middle;\n",
       "    }\n",
       "\n",
       "    .dataframe tbody tr th {\n",
       "        vertical-align: top;\n",
       "    }\n",
       "\n",
       "    .dataframe thead th {\n",
       "        text-align: right;\n",
       "    }\n",
       "</style>\n",
       "<table border=\"1\" class=\"dataframe\">\n",
       "  <thead>\n",
       "    <tr style=\"text-align: right;\">\n",
       "      <th></th>\n",
       "      <th>review</th>\n",
       "      <th>rating</th>\n",
       "    </tr>\n",
       "  </thead>\n",
       "  <tbody>\n",
       "    <tr>\n",
       "      <th>0</th>\n",
       "      <td>Absolutely wonderful - silky and sexy and comf...</td>\n",
       "      <td>4</td>\n",
       "    </tr>\n",
       "    <tr>\n",
       "      <th>1</th>\n",
       "      <td>Love this dress!  it's sooo pretty.  i happene...</td>\n",
       "      <td>5</td>\n",
       "    </tr>\n",
       "    <tr>\n",
       "      <th>2</th>\n",
       "      <td>I had such high hopes for this dress and reall...</td>\n",
       "      <td>3</td>\n",
       "    </tr>\n",
       "    <tr>\n",
       "      <th>3</th>\n",
       "      <td>I love, love, love this jumpsuit. it's fun, fl...</td>\n",
       "      <td>5</td>\n",
       "    </tr>\n",
       "    <tr>\n",
       "      <th>4</th>\n",
       "      <td>This shirt is very flattering to all due to th...</td>\n",
       "      <td>5</td>\n",
       "    </tr>\n",
       "  </tbody>\n",
       "</table>\n",
       "</div>"
      ],
      "text/plain": [
       "                                              review  rating\n",
       "0  Absolutely wonderful - silky and sexy and comf...       4\n",
       "1  Love this dress!  it's sooo pretty.  i happene...       5\n",
       "2  I had such high hopes for this dress and reall...       3\n",
       "3  I love, love, love this jumpsuit. it's fun, fl...       5\n",
       "4  This shirt is very flattering to all due to th...       5"
      ]
     },
     "execution_count": 119,
     "metadata": {},
     "output_type": "execute_result"
    }
   ],
   "source": [
    "df_mod.head()"
   ]
  },
  {
   "cell_type": "code",
   "execution_count": 120,
   "id": "f32b1f5d",
   "metadata": {},
   "outputs": [
    {
     "data": {
      "text/plain": [
       "review    845\n",
       "rating      0\n",
       "dtype: int64"
      ]
     },
     "execution_count": 120,
     "metadata": {},
     "output_type": "execute_result"
    }
   ],
   "source": [
    "df_mod.isna().sum()"
   ]
  },
  {
   "cell_type": "code",
   "execution_count": 121,
   "id": "f20895c1",
   "metadata": {},
   "outputs": [
    {
     "data": {
      "text/plain": [
       "(23486, 2)"
      ]
     },
     "execution_count": 121,
     "metadata": {},
     "output_type": "execute_result"
    }
   ],
   "source": [
    "df_mod.shape"
   ]
  },
  {
   "cell_type": "code",
   "execution_count": 122,
   "id": "f327bfc7",
   "metadata": {},
   "outputs": [],
   "source": [
    "df_mod = df_mod.dropna().copy()"
   ]
  },
  {
   "cell_type": "code",
   "execution_count": 123,
   "id": "6123c101",
   "metadata": {},
   "outputs": [
    {
     "data": {
      "text/plain": [
       "(22641, 2)"
      ]
     },
     "execution_count": 123,
     "metadata": {},
     "output_type": "execute_result"
    }
   ],
   "source": [
    "df_mod.shape"
   ]
  },
  {
   "cell_type": "code",
   "execution_count": 124,
   "id": "a55c16d5",
   "metadata": {},
   "outputs": [],
   "source": [
    "def preprocess(text):\n",
    "    # remove punctuation, digit, and whitespace\n",
    "    regex = re.compile('[' + re.escape(string.punctuation) + '\\\\t\\\\r\\\\n]')\n",
    "    tmp = regex.sub(' ', text.lower())\n",
    "    return tmp.split()"
   ]
  },
  {
   "cell_type": "code",
   "execution_count": 125,
   "id": "4071ab29",
   "metadata": {},
   "outputs": [],
   "source": [
    "df_mod[\"review_tok\"] = df_mod.review.apply(lambda x:preprocess(x))"
   ]
  },
  {
   "cell_type": "code",
   "execution_count": 126,
   "id": "ee056e60",
   "metadata": {},
   "outputs": [
    {
     "data": {
      "text/html": [
       "<div>\n",
       "<style scoped>\n",
       "    .dataframe tbody tr th:only-of-type {\n",
       "        vertical-align: middle;\n",
       "    }\n",
       "\n",
       "    .dataframe tbody tr th {\n",
       "        vertical-align: top;\n",
       "    }\n",
       "\n",
       "    .dataframe thead th {\n",
       "        text-align: right;\n",
       "    }\n",
       "</style>\n",
       "<table border=\"1\" class=\"dataframe\">\n",
       "  <thead>\n",
       "    <tr style=\"text-align: right;\">\n",
       "      <th></th>\n",
       "      <th>review</th>\n",
       "      <th>rating</th>\n",
       "      <th>review_tok</th>\n",
       "    </tr>\n",
       "  </thead>\n",
       "  <tbody>\n",
       "    <tr>\n",
       "      <th>0</th>\n",
       "      <td>Absolutely wonderful - silky and sexy and comf...</td>\n",
       "      <td>4</td>\n",
       "      <td>[absolutely, wonderful, silky, and, sexy, and,...</td>\n",
       "    </tr>\n",
       "    <tr>\n",
       "      <th>1</th>\n",
       "      <td>Love this dress!  it's sooo pretty.  i happene...</td>\n",
       "      <td>5</td>\n",
       "      <td>[love, this, dress, it, s, sooo, pretty, i, ha...</td>\n",
       "    </tr>\n",
       "    <tr>\n",
       "      <th>2</th>\n",
       "      <td>I had such high hopes for this dress and reall...</td>\n",
       "      <td>3</td>\n",
       "      <td>[i, had, such, high, hopes, for, this, dress, ...</td>\n",
       "    </tr>\n",
       "    <tr>\n",
       "      <th>3</th>\n",
       "      <td>I love, love, love this jumpsuit. it's fun, fl...</td>\n",
       "      <td>5</td>\n",
       "      <td>[i, love, love, love, this, jumpsuit, it, s, f...</td>\n",
       "    </tr>\n",
       "    <tr>\n",
       "      <th>4</th>\n",
       "      <td>This shirt is very flattering to all due to th...</td>\n",
       "      <td>5</td>\n",
       "      <td>[this, shirt, is, very, flattering, to, all, d...</td>\n",
       "    </tr>\n",
       "  </tbody>\n",
       "</table>\n",
       "</div>"
      ],
      "text/plain": [
       "                                              review  rating  \\\n",
       "0  Absolutely wonderful - silky and sexy and comf...       4   \n",
       "1  Love this dress!  it's sooo pretty.  i happene...       5   \n",
       "2  I had such high hopes for this dress and reall...       3   \n",
       "3  I love, love, love this jumpsuit. it's fun, fl...       5   \n",
       "4  This shirt is very flattering to all due to th...       5   \n",
       "\n",
       "                                          review_tok  \n",
       "0  [absolutely, wonderful, silky, and, sexy, and,...  \n",
       "1  [love, this, dress, it, s, sooo, pretty, i, ha...  \n",
       "2  [i, had, such, high, hopes, for, this, dress, ...  \n",
       "3  [i, love, love, love, this, jumpsuit, it, s, f...  \n",
       "4  [this, shirt, is, very, flattering, to, all, d...  "
      ]
     },
     "execution_count": 126,
     "metadata": {},
     "output_type": "execute_result"
    }
   ],
   "source": [
    "df_mod.head()"
   ]
  },
  {
   "cell_type": "code",
   "execution_count": 93,
   "id": "8cc2ba75",
   "metadata": {},
   "outputs": [],
   "source": [
    "# Building dictionary"
   ]
  },
  {
   "cell_type": "code",
   "execution_count": 127,
   "id": "69ee5b80",
   "metadata": {},
   "outputs": [],
   "source": [
    "vocab = Counter()\n",
    "for review in df_mod.review_tok:\n",
    "    vocab.update(review)"
   ]
  },
  {
   "cell_type": "code",
   "execution_count": 128,
   "id": "415aa4d2",
   "metadata": {},
   "outputs": [
    {
     "data": {
      "text/plain": [
       "14171"
      ]
     },
     "execution_count": 128,
     "metadata": {},
     "output_type": "execute_result"
    }
   ],
   "source": [
    "len(vocab)"
   ]
  },
  {
   "cell_type": "code",
   "execution_count": 129,
   "id": "55245d99",
   "metadata": {},
   "outputs": [],
   "source": [
    "for word in list(vocab):\n",
    "    if vocab[word]<5:\n",
    "        del vocab[word]"
   ]
  },
  {
   "cell_type": "code",
   "execution_count": 130,
   "id": "91f03de9",
   "metadata": {},
   "outputs": [
    {
     "data": {
      "text/plain": [
       "5001"
      ]
     },
     "execution_count": 130,
     "metadata": {},
     "output_type": "execute_result"
    }
   ],
   "source": [
    "len(vocab)"
   ]
  },
  {
   "cell_type": "code",
   "execution_count": 131,
   "id": "6947c570",
   "metadata": {},
   "outputs": [],
   "source": [
    "# Buildig vocab to index\n",
    "vocab2idx = {'':0, 'UNK':1}\n",
    "for word in list(vocab):\n",
    "    vocab2idx[word] = len(vocab2idx)"
   ]
  },
  {
   "cell_type": "code",
   "execution_count": 494,
   "id": "62dcb94d",
   "metadata": {},
   "outputs": [],
   "source": [
    "# Encode reviews\n",
    "def encode(text, vocab2idx, N=50):\n",
    "    loc_enc = np.zeros(N, dtype=int)\n",
    "    \n",
    "    idx = []\n",
    "    for word in text:\n",
    "        idx.append(vocab2idx.get(word, vocab2idx['UNK']))\n",
    "    length = min(N, len(idx))\n",
    "    loc_enc[:length] = idx[:length]\n",
    "    \n",
    "    return pd.Series([np.array(loc_enc), length])"
   ]
  },
  {
   "cell_type": "code",
   "execution_count": 495,
   "id": "46a5643e",
   "metadata": {},
   "outputs": [],
   "source": [
    "df_mod[['review_enc', 'length']] = df_mod[\"review_tok\"].apply(lambda x:encode(x, vocab2idx))"
   ]
  },
  {
   "cell_type": "code",
   "execution_count": 496,
   "id": "70cce184",
   "metadata": {},
   "outputs": [
    {
     "data": {
      "text/html": [
       "<div>\n",
       "<style scoped>\n",
       "    .dataframe tbody tr th:only-of-type {\n",
       "        vertical-align: middle;\n",
       "    }\n",
       "\n",
       "    .dataframe tbody tr th {\n",
       "        vertical-align: top;\n",
       "    }\n",
       "\n",
       "    .dataframe thead th {\n",
       "        text-align: right;\n",
       "    }\n",
       "</style>\n",
       "<table border=\"1\" class=\"dataframe\">\n",
       "  <thead>\n",
       "    <tr style=\"text-align: right;\">\n",
       "      <th></th>\n",
       "      <th>review</th>\n",
       "      <th>rating</th>\n",
       "      <th>review_tok</th>\n",
       "      <th>review_enc</th>\n",
       "      <th>length</th>\n",
       "    </tr>\n",
       "  </thead>\n",
       "  <tbody>\n",
       "    <tr>\n",
       "      <th>0</th>\n",
       "      <td>Absolutely wonderful - silky and sexy and comf...</td>\n",
       "      <td>4</td>\n",
       "      <td>[absolutely, wonderful, silky, and, sexy, and,...</td>\n",
       "      <td>[2, 3, 4, 5, 6, 5, 7, 0, 0, 0, 0, 0, 0, 0, 0, ...</td>\n",
       "      <td>7</td>\n",
       "    </tr>\n",
       "    <tr>\n",
       "      <th>1</th>\n",
       "      <td>Love this dress!  it's sooo pretty.  i happene...</td>\n",
       "      <td>5</td>\n",
       "      <td>[love, this, dress, it, s, sooo, pretty, i, ha...</td>\n",
       "      <td>[8, 9, 10, 11, 12, 13, 14, 15, 16, 17, 18, 11,...</td>\n",
       "      <td>50</td>\n",
       "    </tr>\n",
       "    <tr>\n",
       "      <th>2</th>\n",
       "      <td>I had such high hopes for this dress and reall...</td>\n",
       "      <td>3</td>\n",
       "      <td>[i, had, such, high, hopes, for, this, dress, ...</td>\n",
       "      <td>[15, 53, 54, 55, 56, 57, 9, 10, 5, 58, 59, 11,...</td>\n",
       "      <td>50</td>\n",
       "    </tr>\n",
       "    <tr>\n",
       "      <th>3</th>\n",
       "      <td>I love, love, love this jumpsuit. it's fun, fl...</td>\n",
       "      <td>5</td>\n",
       "      <td>[i, love, love, love, this, jumpsuit, it, s, f...</td>\n",
       "      <td>[15, 8, 8, 8, 9, 105, 11, 12, 106, 107, 5, 108...</td>\n",
       "      <td>23</td>\n",
       "    </tr>\n",
       "    <tr>\n",
       "      <th>4</th>\n",
       "      <td>This shirt is very flattering to all due to th...</td>\n",
       "      <td>5</td>\n",
       "      <td>[this, shirt, is, very, flattering, to, all, d...</td>\n",
       "      <td>[9, 116, 51, 86, 117, 17, 118, 119, 17, 36, 12...</td>\n",
       "      <td>36</td>\n",
       "    </tr>\n",
       "  </tbody>\n",
       "</table>\n",
       "</div>"
      ],
      "text/plain": [
       "                                              review  rating  \\\n",
       "0  Absolutely wonderful - silky and sexy and comf...       4   \n",
       "1  Love this dress!  it's sooo pretty.  i happene...       5   \n",
       "2  I had such high hopes for this dress and reall...       3   \n",
       "3  I love, love, love this jumpsuit. it's fun, fl...       5   \n",
       "4  This shirt is very flattering to all due to th...       5   \n",
       "\n",
       "                                          review_tok  \\\n",
       "0  [absolutely, wonderful, silky, and, sexy, and,...   \n",
       "1  [love, this, dress, it, s, sooo, pretty, i, ha...   \n",
       "2  [i, had, such, high, hopes, for, this, dress, ...   \n",
       "3  [i, love, love, love, this, jumpsuit, it, s, f...   \n",
       "4  [this, shirt, is, very, flattering, to, all, d...   \n",
       "\n",
       "                                          review_enc  length  \n",
       "0  [2, 3, 4, 5, 6, 5, 7, 0, 0, 0, 0, 0, 0, 0, 0, ...       7  \n",
       "1  [8, 9, 10, 11, 12, 13, 14, 15, 16, 17, 18, 11,...      50  \n",
       "2  [15, 53, 54, 55, 56, 57, 9, 10, 5, 58, 59, 11,...      50  \n",
       "3  [15, 8, 8, 8, 9, 105, 11, 12, 106, 107, 5, 108...      23  \n",
       "4  [9, 116, 51, 86, 117, 17, 118, 119, 17, 36, 12...      36  "
      ]
     },
     "execution_count": 496,
     "metadata": {},
     "output_type": "execute_result"
    }
   ],
   "source": [
    "df_mod.head()"
   ]
  },
  {
   "cell_type": "code",
   "execution_count": 501,
   "id": "896b9b78",
   "metadata": {},
   "outputs": [
    {
     "data": {
      "text/plain": [
       "5    12540\n",
       "4     4908\n",
       "3     2823\n",
       "2     1549\n",
       "1      821\n",
       "Name: rating, dtype: int64"
      ]
     },
     "execution_count": 501,
     "metadata": {},
     "output_type": "execute_result"
    }
   ],
   "source": [
    "df_mod.rating.value_counts()"
   ]
  },
  {
   "cell_type": "code",
   "execution_count": 502,
   "id": "98ff60b4",
   "metadata": {},
   "outputs": [
    {
     "data": {
      "text/plain": [
       "tensor([15, 53, 54, 55, 56, 57,  9, 10,  5, 58, 59, 11, 17, 60, 57, 39, 15, 61,\n",
       "        29, 36, 31, 62, 63, 64, 65, 66, 15, 67,  9, 17, 46,  1, 62, 68, 62, 19,\n",
       "        69, 70, 15, 71, 72, 73, 11, 74, 15, 75, 11, 19, 31, 76])"
      ]
     },
     "execution_count": 502,
     "metadata": {},
     "output_type": "execute_result"
    }
   ],
   "source": [
    "torch.from_numpy(df_mod['review_enc'].iloc[2])"
   ]
  },
  {
   "cell_type": "code",
   "execution_count": 504,
   "id": "39dc4857",
   "metadata": {},
   "outputs": [],
   "source": [
    "df_train, df_test = train_test_split(df_mod, test_size=0.2, random_state=2021, stratify=df_mod['rating'])"
   ]
  },
  {
   "cell_type": "code",
   "execution_count": 523,
   "id": "5ce50c9c",
   "metadata": {},
   "outputs": [],
   "source": [
    "class dataset(Dataset):\n",
    "    def __init__(self, df):\n",
    "        self.X = df['review_enc']\n",
    "        self.len = df['length']\n",
    "        self.y = df['rating']\n",
    "        \n",
    "    def __len__(self):\n",
    "        return len(self.y)\n",
    "    \n",
    "    def __getitem__(self, idx):\n",
    "        return (torch.from_numpy(self.X.iloc[idx]), self.y.iloc[idx]-1, self.len.iloc[idx])"
   ]
  },
  {
   "cell_type": "code",
   "execution_count": 524,
   "id": "b6c4947c",
   "metadata": {},
   "outputs": [],
   "source": [
    "data_train = dataset(df_train)\n",
    "data_test = dataset(df_test)\n",
    "\n",
    "\n",
    "train_loader = DataLoader(data_train, batch_size=64, shuffle=True, num_workers=4)\n",
    "test_loader = DataLoader(data_test, batch_size=64, shuffle=True, num_workers=4)"
   ]
  },
  {
   "cell_type": "code",
   "execution_count": 509,
   "id": "d1649289",
   "metadata": {},
   "outputs": [],
   "source": [
    "class LSTM_fixed_len(torch.nn.Module) :\n",
    "    def __init__(self, vocab_size, embedding_dim, hidden_dim) :\n",
    "        super().__init__()\n",
    "        self.embeddings = nn.Embedding(vocab_size, embedding_dim, padding_idx=0)\n",
    "        self.lstm = nn.LSTM(embedding_dim, hidden_dim, batch_first=True)\n",
    "        self.linear = nn.Linear(hidden_dim, 5)\n",
    "        self.dropout = nn.Dropout(0.5)\n",
    "        \n",
    "    def forward(self, x):\n",
    "        x = self.embeddings(x)\n",
    "        x = self.dropout(x)\n",
    "        lstm_out, (ht, ct) = self.lstm(x)\n",
    "        return self.linear(ht[-1])"
   ]
  },
  {
   "cell_type": "code",
   "execution_count": 392,
   "id": "b24006e9",
   "metadata": {},
   "outputs": [],
   "source": [
    "#input\n",
    "x = torch.tensor([[1,2, 12,34, 56,78, 90,80],\n",
    "                 [12,45, 99,67, 6,23, 77,82],\n",
    "                 [3,24, 6,99, 12,56, 21,22]])"
   ]
  },
  {
   "cell_type": "code",
   "execution_count": 530,
   "id": "94983acf",
   "metadata": {},
   "outputs": [],
   "source": [
    "def train(train_loader, test_loader, model, epochs=10, lr=.001):\n",
    "    \n",
    "    optimizer = optim.Adam(model.parameters(), lr=lr)   \n",
    "    for epoch in range(epochs):\n",
    "        model.train()\n",
    "        print (\"epoch=\", epoch)\n",
    "        epoch_loss = 0\n",
    "        data_points = 0\n",
    "        for idx, (X, y, seq_len) in enumerate(train_loader):\n",
    "            optimizer.zero_grad()\n",
    "            y_hat = model.forward(X, seq_len)\n",
    "            loss = F.cross_entropy(y_hat, y)\n",
    "            loss.backward()\n",
    "            optimizer.step()\n",
    "            epoch_loss +=loss.item()*y.shape[0]\n",
    "            data_points +=y.shape[0]\n",
    "        print(\"loss=\", epoch_loss/data_points)\n",
    "        print(\"acc\", evaluate(test_loader, model))\n",
    "\n",
    "\n",
    "def evaluate(test_loader, model):\n",
    "    model.eval()\n",
    "    with torch.no_grad():\n",
    "        total = 0\n",
    "        correct = 0\n",
    "        for idx, (X, y, seq_len) in enumerate(test_loader):\n",
    "                y_hat = model.forward(X, seq_len)\n",
    "                total +=y.shape[0]\n",
    "                pred = torch.max(y_hat, 1)[1]\n",
    "                #print(y_hat.shape, pred.shape)\n",
    "                #print(y)\n",
    "                correct +=(pred==y).float().sum().item()\n",
    "        return correct/total"
   ]
  },
  {
   "cell_type": "code",
   "execution_count": 511,
   "id": "f284c2de",
   "metadata": {},
   "outputs": [
    {
     "name": "stdout",
     "output_type": "stream",
     "text": [
      "epoch= 0\n",
      "loss= 1.261880891904393\n",
      "acc 0.5537646279531906\n",
      "epoch= 1\n",
      "loss= 1.2114780450456977\n",
      "acc 0.5537646279531906\n",
      "epoch= 2\n",
      "loss= 1.1705284594647034\n",
      "acc 0.5537646279531906\n",
      "epoch= 3\n",
      "loss= 1.1163364282345183\n",
      "acc 0.5619342018105542\n",
      "epoch= 4\n",
      "loss= 1.0792723875163721\n",
      "acc 0.5661293883859572\n",
      "epoch= 5\n",
      "loss= 1.0533142190939968\n",
      "acc 0.5725325678957828\n",
      "epoch= 6\n",
      "loss= 1.032483571620375\n",
      "acc 0.5762861558843012\n",
      "epoch= 7\n",
      "loss= 1.0116044900021368\n",
      "acc 0.5822477368072422\n",
      "epoch= 8\n",
      "loss= 0.9994016512965145\n",
      "acc 0.5795981452859351\n",
      "epoch= 9\n",
      "loss= 0.9795861574870538\n",
      "acc 0.5848973283285493\n",
      "epoch= 10\n",
      "loss= 0.9659550259475573\n",
      "acc 0.593066902185913\n",
      "epoch= 11\n",
      "loss= 0.9558992735488676\n",
      "acc 0.592183705012144\n",
      "epoch= 12\n",
      "loss= 0.9434706353888495\n",
      "acc 0.5979244866416428\n",
      "epoch= 13\n",
      "loss= 0.9326073061872286\n",
      "acc 0.5935085007727975\n",
      "epoch= 14\n",
      "loss= 0.9270760593902938\n",
      "acc 0.5992492824022964\n",
      "epoch= 15\n",
      "loss= 0.91793511592036\n",
      "acc 0.5937293000662398\n",
      "epoch= 16\n",
      "loss= 0.911052312320197\n",
      "acc 0.5974828880547582\n",
      "epoch= 17\n",
      "loss= 0.9048567601732989\n",
      "acc 0.5994700816957386\n",
      "epoch= 18\n",
      "loss= 0.8999225760517188\n",
      "acc 0.6069772576727754\n",
      "epoch= 19\n",
      "loss= 0.8881919365047145\n",
      "acc 0.6014572753367189\n",
      "epoch= 20\n",
      "loss= 0.882498653954415\n",
      "acc 0.6036652682711415\n",
      "epoch= 21\n",
      "loss= 0.8784041937585433\n",
      "acc 0.6067564583793332\n",
      "epoch= 22\n",
      "loss= 0.8742608048890589\n",
      "acc 0.6012364760432767\n",
      "epoch= 23\n",
      "loss= 0.8683232930439521\n",
      "acc 0.6063148597924487\n",
      "epoch= 24\n",
      "loss= 0.8587491750295929\n",
      "acc 0.6018988739236034\n",
      "epoch= 25\n",
      "loss= 0.8515417780134787\n",
      "acc 0.6012364760432767\n",
      "epoch= 26\n",
      "loss= 0.8512321266184426\n",
      "acc 0.5928461028924707\n",
      "epoch= 27\n",
      "loss= 0.8430350018474323\n",
      "acc 0.6043276661514683\n",
      "epoch= 28\n",
      "loss= 0.836429478422913\n",
      "acc 0.6087436520203136\n",
      "epoch= 29\n",
      "loss= 0.8320266503327306\n",
      "acc 0.6005740781629498\n"
     ]
    }
   ],
   "source": [
    "model = LSTM_fixed_len(5003, 50, 30)\n",
    "train(train_loader, test_loader, model, 30)"
   ]
  },
  {
   "cell_type": "code",
   "execution_count": 531,
   "id": "e4ace41f",
   "metadata": {},
   "outputs": [],
   "source": [
    "class LSTM(torch.nn.Module) :\n",
    "    def __init__(self, vocab_size, embedding_dim, hidden_dim) :\n",
    "        super().__init__()\n",
    "        self.embeddings = nn.Embedding(vocab_size, embedding_dim, padding_idx=0)\n",
    "        self.lstm = nn.LSTM(embedding_dim, hidden_dim, batch_first=True)\n",
    "        self.linear = nn.Linear(hidden_dim, 5)\n",
    "        self.dropout = nn.Dropout(0.5)\n",
    "        \n",
    "    def forward(self, x, s):\n",
    "        x = self.embeddings(x)\n",
    "        x = self.dropout(x)\n",
    "        x_pack = pack_padded_sequence(x, s, batch_first=True, enforce_sorted=False)\n",
    "        lstm_out, (ht, ct) = self.lstm(x_pack)\n",
    "        return self.linear(ht[-1])"
   ]
  },
  {
   "cell_type": "code",
   "execution_count": 532,
   "id": "177f0673",
   "metadata": {},
   "outputs": [
    {
     "name": "stdout",
     "output_type": "stream",
     "text": [
      "epoch= 0\n",
      "loss= 1.2800337364732588\n",
      "acc 0.5537646279531906\n",
      "epoch= 1\n",
      "loss= 1.1626213171878046\n",
      "acc 0.5570766173548245\n",
      "epoch= 2\n",
      "loss= 1.1166247773928692\n",
      "acc 0.5619342018105542\n",
      "epoch= 3\n",
      "loss= 1.083168048951314\n",
      "acc 0.5742989622433208\n",
      "epoch= 4\n",
      "loss= 1.0526198879568822\n",
      "acc 0.5818061382203576\n",
      "epoch= 5\n",
      "loss= 1.0225979184514642\n",
      "acc 0.5844557297416648\n",
      "epoch= 6\n",
      "loss= 1.0067604626446647\n",
      "acc 0.5795981452859351\n",
      "epoch= 7\n",
      "loss= 0.9921890960565304\n",
      "acc 0.5842349304482226\n",
      "epoch= 8\n",
      "loss= 0.9749310646377267\n",
      "acc 0.5979244866416428\n",
      "epoch= 9\n",
      "loss= 0.9636543007705742\n",
      "acc 0.5908589092514904\n",
      "epoch= 10\n",
      "loss= 0.9576086711546558\n",
      "acc 0.5860013247957606\n",
      "epoch= 11\n",
      "loss= 0.9447720253004203\n",
      "acc 0.5928461028924707\n",
      "epoch= 12\n",
      "loss= 0.9402801027988797\n",
      "acc 0.6005740781629498\n",
      "epoch= 13\n",
      "loss= 0.9281576869765777\n",
      "acc 0.589754912784279\n",
      "epoch= 14\n",
      "loss= 0.9168257631177195\n",
      "acc 0.6014572753367189\n",
      "epoch= 15\n",
      "loss= 0.9136046171188354\n",
      "acc 0.5963788915875469\n",
      "epoch= 16\n",
      "loss= 0.9119088752952145\n",
      "acc 0.6018988739236034\n",
      "epoch= 17\n",
      "loss= 0.8997076370690821\n",
      "acc 0.5932877014793553\n",
      "epoch= 18\n",
      "loss= 0.8925354230109036\n",
      "acc 0.6049900640317951\n",
      "epoch= 19\n",
      "loss= 0.8871904847478698\n",
      "acc 0.5983660852285273\n",
      "epoch= 20\n",
      "loss= 0.8796737379404345\n",
      "acc 0.6056524619121219\n",
      "epoch= 21\n",
      "loss= 0.8732161210198285\n",
      "acc 0.608302053433429\n",
      "epoch= 22\n",
      "loss= 0.8672230380583988\n",
      "acc 0.6071980569662178\n",
      "epoch= 23\n",
      "loss= 0.8629054867336691\n",
      "acc 0.6080812541399867\n",
      "epoch= 24\n",
      "loss= 0.8649719439631216\n",
      "acc 0.6142636343563701\n",
      "epoch= 25\n",
      "loss= 0.8608706650380111\n",
      "acc 0.6120556414219475\n",
      "epoch= 26\n",
      "loss= 0.850684591611788\n",
      "acc 0.6162508279973504\n",
      "epoch= 27\n",
      "loss= 0.8460480935160768\n",
      "acc 0.6164716272907926\n",
      "epoch= 28\n",
      "loss= 0.8374245661728795\n",
      "acc 0.6182380216383307\n",
      "epoch= 29\n",
      "loss= 0.8341445556377775\n",
      "acc 0.613380437182601\n"
     ]
    }
   ],
   "source": [
    "model = LSTM(5003, 50, 30)\n",
    "train(train_loader, test_loader, model, 30)"
   ]
  },
  {
   "cell_type": "code",
   "execution_count": 543,
   "id": "24d19e10",
   "metadata": {},
   "outputs": [],
   "source": [
    "# Bidirectional LSTM\n",
    "\n",
    "class BiLSTM(torch.nn.Module) :\n",
    "    def __init__(self, vocab_size, embedding_dim, hidden_dim) :\n",
    "        super().__init__()\n",
    "        self.embeddings = nn.Embedding(vocab_size, embedding_dim, padding_idx=0)\n",
    "        self.lstm = nn.LSTM(embedding_dim, hidden_dim, batch_first=True, bidirectional=True)\n",
    "        self.linear = nn.Linear(2*hidden_dim, 5)\n",
    "        self.dropout = nn.Dropout(0.5)\n",
    "        \n",
    "    def forward(self, x, s):\n",
    "        x = self.embeddings(x)\n",
    "        x = self.dropout(x)\n",
    "        x_pack = pack_padded_sequence(x, s, batch_first=True, enforce_sorted=False)\n",
    "        lstm_out, (ht, ct) = self.lstm(x_pack)\n",
    "        hidden = torch.cat((ht[0,:,:], ht[1,:,:]), dim = 1)\n",
    "        return self.linear(hidden)"
   ]
  },
  {
   "cell_type": "code",
   "execution_count": 544,
   "id": "b2bbe088",
   "metadata": {},
   "outputs": [
    {
     "name": "stdout",
     "output_type": "stream",
     "text": [
      "epoch= 0\n",
      "loss= 1.2434799315230165\n",
      "acc 0.5537646279531906\n",
      "epoch= 1\n",
      "loss= 1.129668059913514\n",
      "acc 0.561713402517112\n",
      "epoch= 2\n",
      "loss= 1.0716807254632876\n",
      "acc 0.5745197615367631\n",
      "epoch= 3\n",
      "loss= 1.0389155772886511\n",
      "acc 0.5780525502318392\n",
      "epoch= 4\n",
      "loss= 1.0092403697040815\n",
      "acc 0.591300507838375\n",
      "epoch= 5\n",
      "loss= 0.9842380887628023\n",
      "acc 0.5935085007727975\n",
      "epoch= 6\n",
      "loss= 0.9677349164713398\n",
      "acc 0.5994700816957386\n",
      "epoch= 7\n",
      "loss= 0.9539482816790523\n",
      "acc 0.6069772576727754\n",
      "epoch= 8\n",
      "loss= 0.9416161790332188\n",
      "acc 0.6027820710973725\n",
      "epoch= 9\n",
      "loss= 0.9297439053707325\n",
      "acc 0.6047692647383528\n",
      "epoch= 10\n",
      "loss= 0.91992730155008\n",
      "acc 0.6144844336498123\n",
      "epoch= 11\n",
      "loss= 0.9107914164715015\n",
      "acc 0.6087436520203136\n",
      "epoch= 12\n",
      "loss= 0.897179790394045\n",
      "acc 0.617575623758004\n",
      "epoch= 13\n",
      "loss= 0.8893210477205553\n",
      "acc 0.6171340251711195\n",
      "epoch= 14\n",
      "loss= 0.8796429665686806\n",
      "acc 0.6169132258776772\n",
      "epoch= 15\n",
      "loss= 0.8768055710691445\n",
      "acc 0.6208876131596379\n",
      "epoch= 16\n",
      "loss= 0.8672870456540542\n",
      "acc 0.6153676308235814\n",
      "epoch= 17\n",
      "loss= 0.8600939880832766\n",
      "acc 0.6200044159858689\n",
      "epoch= 18\n",
      "loss= 0.8564465227059678\n",
      "acc 0.6162508279973504\n",
      "epoch= 19\n",
      "loss= 0.8413127492257647\n",
      "acc 0.6189004195186575\n",
      "epoch= 20\n",
      "loss= 0.8386585567107049\n",
      "acc 0.6177964230514462\n",
      "epoch= 21\n",
      "loss= 0.8344070138442643\n",
      "acc 0.617575623758004\n",
      "epoch= 22\n",
      "loss= 0.823500161878633\n",
      "acc 0.624420401854714\n",
      "epoch= 23\n",
      "loss= 0.8231088118923848\n",
      "acc 0.6211084124530801\n",
      "epoch= 24\n",
      "loss= 0.8188029782510899\n",
      "acc 0.623537204680945\n",
      "epoch= 25\n",
      "loss= 0.8095968643683848\n",
      "acc 0.6272907926694634\n",
      "epoch= 26\n",
      "loss= 0.8089187141020812\n",
      "acc 0.6290571870170015\n",
      "epoch= 27\n",
      "loss= 0.7980694105262891\n",
      "acc 0.6230956060940605\n",
      "epoch= 28\n",
      "loss= 0.8022334272364424\n",
      "acc 0.6268491940825789\n",
      "epoch= 29\n",
      "loss= 0.7887006746374676\n",
      "acc 0.6248620004415986\n"
     ]
    }
   ],
   "source": [
    "model = BiLSTM(5003, 50, 30)\n",
    "train(train_loader, test_loader, model, 30)"
   ]
  },
  {
   "cell_type": "code",
   "execution_count": null,
   "id": "1da4d863",
   "metadata": {},
   "outputs": [],
   "source": []
  },
  {
   "cell_type": "code",
   "execution_count": null,
   "id": "68f26735",
   "metadata": {},
   "outputs": [],
   "source": []
  },
  {
   "cell_type": "code",
   "execution_count": 3,
   "id": "15bee422",
   "metadata": {},
   "outputs": [],
   "source": [
    "a = torch.tensor([[1,1], [2,2]])"
   ]
  },
  {
   "cell_type": "code",
   "execution_count": 4,
   "id": "25c43883",
   "metadata": {},
   "outputs": [
    {
     "data": {
      "text/plain": [
       "tensor([[1, 1],\n",
       "        [2, 2]])"
      ]
     },
     "execution_count": 4,
     "metadata": {},
     "output_type": "execute_result"
    }
   ],
   "source": [
    "a"
   ]
  },
  {
   "cell_type": "code",
   "execution_count": 5,
   "id": "9ace257d",
   "metadata": {},
   "outputs": [],
   "source": [
    "b = torch.tensor([[[1,1], [2,2]], [[1,1], [2,2]]])"
   ]
  },
  {
   "cell_type": "code",
   "execution_count": 6,
   "id": "447f1de9",
   "metadata": {},
   "outputs": [
    {
     "data": {
      "text/plain": [
       "tensor([[[1, 1],\n",
       "         [2, 2]],\n",
       "\n",
       "        [[1, 1],\n",
       "         [2, 2]]])"
      ]
     },
     "execution_count": 6,
     "metadata": {},
     "output_type": "execute_result"
    }
   ],
   "source": [
    "b"
   ]
  },
  {
   "cell_type": "code",
   "execution_count": null,
   "id": "ef5b0ec1",
   "metadata": {},
   "outputs": [],
   "source": [
    "torch.bmm(b, a.unsqueeze(2))"
   ]
  },
  {
   "cell_type": "code",
   "execution_count": 10,
   "id": "f9d337b8",
   "metadata": {},
   "outputs": [
    {
     "data": {
      "text/plain": [
       "tensor([[[1],\n",
       "         [1]],\n",
       "\n",
       "        [[2],\n",
       "         [2]]])"
      ]
     },
     "execution_count": 10,
     "metadata": {},
     "output_type": "execute_result"
    }
   ],
   "source": [
    "a.unsqueeze(2).s"
   ]
  },
  {
   "cell_type": "code",
   "execution_count": 13,
   "id": "bcabba3f",
   "metadata": {},
   "outputs": [
    {
     "data": {
      "text/plain": [
       "tensor([[2, 4],\n",
       "        [4, 8]])"
      ]
     },
     "execution_count": 13,
     "metadata": {},
     "output_type": "execute_result"
    }
   ],
   "source": [
    "torch.bmm(b, a.unsqueeze(2)).squeeze()"
   ]
  },
  {
   "cell_type": "code",
   "execution_count": null,
   "id": "59439994",
   "metadata": {},
   "outputs": [],
   "source": []
  },
  {
   "cell_type": "code",
   "execution_count": null,
   "id": "53b5ffb0",
   "metadata": {},
   "outputs": [],
   "source": []
  },
  {
   "cell_type": "code",
   "execution_count": null,
   "id": "be74641a",
   "metadata": {},
   "outputs": [],
   "source": []
  },
  {
   "cell_type": "code",
   "execution_count": null,
   "id": "4453a755",
   "metadata": {},
   "outputs": [],
   "source": []
  },
  {
   "cell_type": "code",
   "execution_count": null,
   "id": "21ec34a7",
   "metadata": {},
   "outputs": [],
   "source": []
  },
  {
   "cell_type": "code",
   "execution_count": null,
   "id": "7ce9d055",
   "metadata": {},
   "outputs": [],
   "source": []
  },
  {
   "cell_type": "code",
   "execution_count": null,
   "id": "2b80d79b",
   "metadata": {},
   "outputs": [],
   "source": []
  },
  {
   "cell_type": "code",
   "execution_count": null,
   "id": "732b6991",
   "metadata": {},
   "outputs": [],
   "source": []
  },
  {
   "cell_type": "code",
   "execution_count": null,
   "id": "50b624ce",
   "metadata": {},
   "outputs": [],
   "source": []
  },
  {
   "cell_type": "code",
   "execution_count": null,
   "id": "d0448512",
   "metadata": {},
   "outputs": [],
   "source": []
  },
  {
   "cell_type": "code",
   "execution_count": null,
   "id": "6b0e0cd5",
   "metadata": {},
   "outputs": [],
   "source": []
  },
  {
   "cell_type": "code",
   "execution_count": null,
   "id": "c209c3c7",
   "metadata": {},
   "outputs": [],
   "source": []
  },
  {
   "cell_type": "code",
   "execution_count": null,
   "id": "5d9fbf16",
   "metadata": {},
   "outputs": [],
   "source": []
  },
  {
   "cell_type": "code",
   "execution_count": null,
   "id": "1daf02e5",
   "metadata": {},
   "outputs": [],
   "source": []
  },
  {
   "cell_type": "code",
   "execution_count": null,
   "id": "7ecb979d",
   "metadata": {},
   "outputs": [],
   "source": []
  },
  {
   "cell_type": "code",
   "execution_count": null,
   "id": "beafa49d",
   "metadata": {},
   "outputs": [],
   "source": []
  },
  {
   "cell_type": "code",
   "execution_count": null,
   "id": "0eaabce9",
   "metadata": {},
   "outputs": [],
   "source": []
  },
  {
   "cell_type": "code",
   "execution_count": null,
   "id": "58b4cfb6",
   "metadata": {},
   "outputs": [],
   "source": []
  },
  {
   "cell_type": "code",
   "execution_count": null,
   "id": "8a5a1d3b",
   "metadata": {},
   "outputs": [],
   "source": []
  },
  {
   "cell_type": "code",
   "execution_count": null,
   "id": "8939af2f",
   "metadata": {},
   "outputs": [],
   "source": []
  },
  {
   "cell_type": "code",
   "execution_count": null,
   "id": "fc2355a9",
   "metadata": {},
   "outputs": [],
   "source": []
  },
  {
   "cell_type": "code",
   "execution_count": null,
   "id": "9dfb536e",
   "metadata": {},
   "outputs": [],
   "source": []
  },
  {
   "cell_type": "code",
   "execution_count": null,
   "id": "c757693f",
   "metadata": {},
   "outputs": [],
   "source": []
  },
  {
   "cell_type": "code",
   "execution_count": null,
   "id": "93ca0491",
   "metadata": {},
   "outputs": [],
   "source": []
  }
 ],
 "metadata": {
  "kernelspec": {
   "display_name": "Python 3 (ipykernel)",
   "language": "python",
   "name": "python3"
  },
  "language_info": {
   "codemirror_mode": {
    "name": "ipython",
    "version": 3
   },
   "file_extension": ".py",
   "mimetype": "text/x-python",
   "name": "python",
   "nbconvert_exporter": "python",
   "pygments_lexer": "ipython3",
   "version": "3.7.9"
  }
 },
 "nbformat": 4,
 "nbformat_minor": 5
}
