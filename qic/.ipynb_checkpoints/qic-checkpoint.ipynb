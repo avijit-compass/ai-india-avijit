{
 "cells": [
  {
   "cell_type": "code",
   "execution_count": 589,
   "id": "f8b91795",
   "metadata": {},
   "outputs": [],
   "source": [
    "import torch\n",
    "import torch.nn as nn\n",
    "from collections import Counter\n",
    "import pandas as pd\n",
    "import numpy as np\n",
    "import re\n",
    "import string\n",
    "from sklearn.model_selection import train_test_split\n",
    "from torch.utils.data import Dataset\n",
    "from torch.utils.data import DataLoader\n",
    "import torch.nn.functional as F\n",
    "import torch.optim as optim\n",
    "from torch.nn.utils.rnn import pack_padded_sequence\n",
    "\n",
    "\n",
    "import pandas as pd\n",
    "import matplotlib\n",
    "import numpy as np\n",
    "import matplotlib.pyplot as plt\n",
    "%matplotlib inline\n",
    "from nltk import word_tokenize, ngrams\n",
    "from sklearn.metrics import precision_recall_curve, accuracy_score, classification_report, average_precision_score, confusion_matrix\n",
    "from scipy.sparse import hstack, vstack"
   ]
  },
  {
   "cell_type": "code",
   "execution_count": 53,
   "id": "d9f2f2f8",
   "metadata": {},
   "outputs": [
    {
     "name": "stdout",
     "output_type": "stream",
     "text": [
      "1.9.0\n",
      "Python 3.7.9\r\n"
     ]
    }
   ],
   "source": [
    "print(torch.__version__)\n",
    "!python --version"
   ]
  },
  {
   "cell_type": "code",
   "execution_count": 666,
   "id": "b727f69d",
   "metadata": {},
   "outputs": [],
   "source": [
    "import pickle5 as pickle\n",
    "with open('/Users/avijit.saha/Downloads/sample.pkl', \"rb\") as fh:\n",
    "  df_sam = pickle.load(fh)"
   ]
  },
  {
   "cell_type": "code",
   "execution_count": 667,
   "id": "7797502c",
   "metadata": {},
   "outputs": [
    {
     "data": {
      "text/html": [
       "<div>\n",
       "<style scoped>\n",
       "    .dataframe tbody tr th:only-of-type {\n",
       "        vertical-align: middle;\n",
       "    }\n",
       "\n",
       "    .dataframe tbody tr th {\n",
       "        vertical-align: top;\n",
       "    }\n",
       "\n",
       "    .dataframe thead th {\n",
       "        text-align: right;\n",
       "    }\n",
       "</style>\n",
       "<table border=\"1\" class=\"dataframe\">\n",
       "  <thead>\n",
       "    <tr style=\"text-align: right;\">\n",
       "      <th></th>\n",
       "      <th>Query_Entered</th>\n",
       "      <th>selected_suggestion_source</th>\n",
       "    </tr>\n",
       "  </thead>\n",
       "  <tbody>\n",
       "    <tr>\n",
       "      <th>0</th>\n",
       "      <td>20854</td>\n",
       "      <td>zip_code</td>\n",
       "    </tr>\n",
       "    <tr>\n",
       "      <th>1</th>\n",
       "      <td>paph1018386</td>\n",
       "      <td>mrsid</td>\n",
       "    </tr>\n",
       "    <tr>\n",
       "      <th>2</th>\n",
       "      <td>33 sleeper st</td>\n",
       "      <td>address_free_text</td>\n",
       "    </tr>\n",
       "    <tr>\n",
       "      <th>3</th>\n",
       "      <td>1118 berwind road, wynnewood, pa, 19096</td>\n",
       "      <td>address</td>\n",
       "    </tr>\n",
       "    <tr>\n",
       "      <th>4</th>\n",
       "      <td>127 valley road, ardmore, pa, 19003</td>\n",
       "      <td>address</td>\n",
       "    </tr>\n",
       "  </tbody>\n",
       "</table>\n",
       "</div>"
      ],
      "text/plain": [
       "                             Query_Entered selected_suggestion_source\n",
       "0                                    20854                   zip_code\n",
       "1                              paph1018386                      mrsid\n",
       "2                            33 sleeper st          address_free_text\n",
       "3  1118 berwind road, wynnewood, pa, 19096                    address\n",
       "4      127 valley road, ardmore, pa, 19003                    address"
      ]
     },
     "execution_count": 667,
     "metadata": {},
     "output_type": "execute_result"
    }
   ],
   "source": [
    "df_sam.head()"
   ]
  },
  {
   "cell_type": "markdown",
   "id": "0afd65b5",
   "metadata": {},
   "source": [
    "# Query overlap analysis"
   ]
  },
  {
   "cell_type": "code",
   "execution_count": 450,
   "id": "d8940443",
   "metadata": {},
   "outputs": [
    {
     "data": {
      "text/plain": [
       "(864621,)"
      ]
     },
     "execution_count": 450,
     "metadata": {},
     "output_type": "execute_result"
    }
   ],
   "source": [
    "df_sam.Query_Entered.shape, df_sam.Query_Entered.nunique()"
   ]
  },
  {
   "cell_type": "code",
   "execution_count": 451,
   "id": "2fc171dd",
   "metadata": {},
   "outputs": [
    {
     "data": {
      "text/plain": [
       "374788"
      ]
     },
     "execution_count": 451,
     "metadata": {},
     "output_type": "execute_result"
    }
   ],
   "source": [
    "df_sam.Query_Entered.nunique()"
   ]
  },
  {
   "cell_type": "code",
   "execution_count": 459,
   "id": "5f5ae302",
   "metadata": {},
   "outputs": [
    {
     "data": {
      "text/plain": [
       "<AxesSubplot:>"
      ]
     },
     "execution_count": 459,
     "metadata": {},
     "output_type": "execute_result"
    },
    {
     "data": {
      "image/png": "[encoded data removed]",
      "text/plain": [
       "<Figure size 432x288 with 1 Axes>"
      ]
     },
     "metadata": {
      "needs_background": "light"
     },
     "output_type": "display_data"
    }
   ],
   "source": [
    "df_sam.groupby('Query_Entered').count().reset_index()['selected_suggestion_source'].hist(range=(1, 6), bins=5)"
   ]
  },
  {
   "cell_type": "code",
   "execution_count": 687,
   "id": "cc4faea0",
   "metadata": {},
   "outputs": [
    {
     "data": {
      "text/plain": [
       "0.352943081419489"
      ]
     },
     "execution_count": 687,
     "metadata": {},
     "output_type": "execute_result"
    }
   ],
   "source": [
    "305162/864621"
   ]
  },
  {
   "cell_type": "code",
   "execution_count": 686,
   "id": "3c7465b8",
   "metadata": {},
   "outputs": [
    {
     "data": {
      "text/plain": [
       "1      305162\n",
       "2       28977\n",
       "3        9280\n",
       "4        4496\n",
       "5        2820\n",
       "        ...  \n",
       "524         1\n",
       "471         1\n",
       "526         1\n",
       "268         1\n",
       "441         1\n",
       "Name: selected_suggestion_source, Length: 411, dtype: int64"
      ]
     },
     "execution_count": 686,
     "metadata": {},
     "output_type": "execute_result"
    }
   ],
   "source": [
    "df_sam.groupby('Query_Entered').count()['selected_suggestion_source'].value_counts()"
   ]
  },
  {
   "cell_type": "code",
   "execution_count": 668,
   "id": "8383e453",
   "metadata": {},
   "outputs": [],
   "source": [
    "# Replace [,#] with space. Keeping - as it is. As in certain cases, it is required\n",
    "def preprocess(df):\n",
    "  return df.Query_Entered.apply(lambda x: ' '.join(x.split()))\n",
    "  \n",
    "df_sam.Query_Entered = preprocess(df_sam)"
   ]
  },
  {
   "cell_type": "code",
   "execution_count": 610,
   "id": "59242e14",
   "metadata": {},
   "outputs": [
    {
     "data": {
      "text/plain": [
       "((864621,), 364427)"
      ]
     },
     "execution_count": 610,
     "metadata": {},
     "output_type": "execute_result"
    }
   ],
   "source": [
    "df_sam.Query_Entered.shape, df_sam.Query_Entered.nunique()"
   ]
  },
  {
   "cell_type": "code",
   "execution_count": 477,
   "id": "0b7568f4",
   "metadata": {},
   "outputs": [
    {
     "data": {
      "text/plain": [
       "Text(0.5, 0, 'Number of unique queries')"
      ]
     },
     "execution_count": 477,
     "metadata": {},
     "output_type": "execute_result"
    },
    {
     "data": {
      "image/png": "[encoded data removed]",
      "text/plain": [
       "<Figure size 432x288 with 1 Axes>"
      ]
     },
     "metadata": {
      "needs_background": "light"
     },
     "output_type": "display_data"
    }
   ],
   "source": [
    "df_sam.groupby('Query_Entered').count().reset_index()['selected_suggestion_source'].hist(range=(1, 6), bins=5)"
   ]
  },
  {
   "cell_type": "code",
   "execution_count": null,
   "id": "21a20a8f",
   "metadata": {},
   "outputs": [],
   "source": []
  },
  {
   "cell_type": "code",
   "execution_count": 473,
   "id": "b642bd55",
   "metadata": {},
   "outputs": [],
   "source": [
    "def preprocessing(s):\n",
    "    s = re.sub(r'[^a-z0-9 ]+', ' ', s)\n",
    "    s = ' '.join(s.split())\n",
    "    return s\n",
    "\n",
    "df_sam['trans_query'] = df_sam.Query_Entered.apply(lambda x:preprocessing(x))"
   ]
  },
  {
   "cell_type": "code",
   "execution_count": 474,
   "id": "0664b722",
   "metadata": {},
   "outputs": [
    {
     "data": {
      "text/html": [
       "<div>\n",
       "<style scoped>\n",
       "    .dataframe tbody tr th:only-of-type {\n",
       "        vertical-align: middle;\n",
       "    }\n",
       "\n",
       "    .dataframe tbody tr th {\n",
       "        vertical-align: top;\n",
       "    }\n",
       "\n",
       "    .dataframe thead th {\n",
       "        text-align: right;\n",
       "    }\n",
       "</style>\n",
       "<table border=\"1\" class=\"dataframe\">\n",
       "  <thead>\n",
       "    <tr style=\"text-align: right;\">\n",
       "      <th></th>\n",
       "      <th>Query_Entered</th>\n",
       "      <th>selected_suggestion_source</th>\n",
       "      <th>trans_query</th>\n",
       "    </tr>\n",
       "  </thead>\n",
       "  <tbody>\n",
       "    <tr>\n",
       "      <th>0</th>\n",
       "      <td>20854</td>\n",
       "      <td>zip_code</td>\n",
       "      <td>20854</td>\n",
       "    </tr>\n",
       "    <tr>\n",
       "      <th>1</th>\n",
       "      <td>paph1018386</td>\n",
       "      <td>mrsid</td>\n",
       "      <td>paph1018386</td>\n",
       "    </tr>\n",
       "    <tr>\n",
       "      <th>2</th>\n",
       "      <td>33 sleeper st</td>\n",
       "      <td>address_free_text</td>\n",
       "      <td>33 sleeper st</td>\n",
       "    </tr>\n",
       "    <tr>\n",
       "      <th>3</th>\n",
       "      <td>1118 berwind road, wynnewood, pa, 19096</td>\n",
       "      <td>address</td>\n",
       "      <td>1118 berwind road wynnewood pa 19096</td>\n",
       "    </tr>\n",
       "    <tr>\n",
       "      <th>4</th>\n",
       "      <td>127 valley road, ardmore, pa, 19003</td>\n",
       "      <td>address</td>\n",
       "      <td>127 valley road ardmore pa 19003</td>\n",
       "    </tr>\n",
       "  </tbody>\n",
       "</table>\n",
       "</div>"
      ],
      "text/plain": [
       "                             Query_Entered selected_suggestion_source  \\\n",
       "0                                    20854                   zip_code   \n",
       "1                              paph1018386                      mrsid   \n",
       "2                            33 sleeper st          address_free_text   \n",
       "3  1118 berwind road, wynnewood, pa, 19096                    address   \n",
       "4      127 valley road, ardmore, pa, 19003                    address   \n",
       "\n",
       "                            trans_query  \n",
       "0                                 20854  \n",
       "1                           paph1018386  \n",
       "2                         33 sleeper st  \n",
       "3  1118 berwind road wynnewood pa 19096  \n",
       "4      127 valley road ardmore pa 19003  "
      ]
     },
     "execution_count": 474,
     "metadata": {},
     "output_type": "execute_result"
    }
   ],
   "source": [
    "df_sam.head()"
   ]
  },
  {
   "cell_type": "code",
   "execution_count": 475,
   "id": "7731ff5b",
   "metadata": {},
   "outputs": [
    {
     "data": {
      "text/plain": [
       "((864621,), 359934)"
      ]
     },
     "execution_count": 475,
     "metadata": {},
     "output_type": "execute_result"
    }
   ],
   "source": [
    "df_sam.trans_query.shape, df_sam.trans_query.nunique()"
   ]
  },
  {
   "cell_type": "code",
   "execution_count": 480,
   "id": "3183e597",
   "metadata": {},
   "outputs": [
    {
     "data": {
      "text/plain": [
       "Text(0, 0.5, 'Number of unique queries')"
      ]
     },
     "execution_count": 480,
     "metadata": {},
     "output_type": "execute_result"
    },
    {
     "data": {
      "image/png": "[encoded data removed]",
      "text/plain": [
       "<Figure size 432x288 with 1 Axes>"
      ]
     },
     "metadata": {
      "needs_background": "light"
     },
     "output_type": "display_data"
    }
   ],
   "source": [
    "df_sam.groupby('trans_query').count().reset_index()['selected_suggestion_source'].hist(range=(1, 6), bins=5)\n",
    "plt.xlabel('With count')\n",
    "plt.ylabel('Number of unique queries')"
   ]
  },
  {
   "cell_type": "code",
   "execution_count": 521,
   "id": "b2230e94",
   "metadata": {},
   "outputs": [],
   "source": [
    "df_sam['query_char'] = df_sam.Query_Entered.apply(lambda x:list(x))"
   ]
  },
  {
   "cell_type": "code",
   "execution_count": 522,
   "id": "1f042f5f",
   "metadata": {},
   "outputs": [
    {
     "data": {
      "text/html": [
       "<div>\n",
       "<style scoped>\n",
       "    .dataframe tbody tr th:only-of-type {\n",
       "        vertical-align: middle;\n",
       "    }\n",
       "\n",
       "    .dataframe tbody tr th {\n",
       "        vertical-align: top;\n",
       "    }\n",
       "\n",
       "    .dataframe thead th {\n",
       "        text-align: right;\n",
       "    }\n",
       "</style>\n",
       "<table border=\"1\" class=\"dataframe\">\n",
       "  <thead>\n",
       "    <tr style=\"text-align: right;\">\n",
       "      <th></th>\n",
       "      <th>Query_Entered</th>\n",
       "      <th>selected_suggestion_source</th>\n",
       "      <th>query_char</th>\n",
       "    </tr>\n",
       "  </thead>\n",
       "  <tbody>\n",
       "    <tr>\n",
       "      <th>0</th>\n",
       "      <td>20854</td>\n",
       "      <td>zip_code</td>\n",
       "      <td>[2, 0, 8, 5, 4]</td>\n",
       "    </tr>\n",
       "    <tr>\n",
       "      <th>1</th>\n",
       "      <td>paph1018386</td>\n",
       "      <td>mrsid</td>\n",
       "      <td>[p, a, p, h, 1, 0, 1, 8, 3, 8, 6]</td>\n",
       "    </tr>\n",
       "    <tr>\n",
       "      <th>2</th>\n",
       "      <td>33 sleeper st</td>\n",
       "      <td>address_free_text</td>\n",
       "      <td>[3, 3,  , s, l, e, e, p, e, r,  , s, t]</td>\n",
       "    </tr>\n",
       "    <tr>\n",
       "      <th>3</th>\n",
       "      <td>1118 berwind road, wynnewood, pa, 19096</td>\n",
       "      <td>address</td>\n",
       "      <td>[1, 1, 1, 8,  , b, e, r, w, i, n, d,  , r, o, ...</td>\n",
       "    </tr>\n",
       "    <tr>\n",
       "      <th>4</th>\n",
       "      <td>127 valley road, ardmore, pa, 19003</td>\n",
       "      <td>address</td>\n",
       "      <td>[1, 2, 7,  , v, a, l, l, e, y,  , r, o, a, d, ...</td>\n",
       "    </tr>\n",
       "  </tbody>\n",
       "</table>\n",
       "</div>"
      ],
      "text/plain": [
       "                             Query_Entered selected_suggestion_source  \\\n",
       "0                                    20854                   zip_code   \n",
       "1                              paph1018386                      mrsid   \n",
       "2                            33 sleeper st          address_free_text   \n",
       "3  1118 berwind road, wynnewood, pa, 19096                    address   \n",
       "4      127 valley road, ardmore, pa, 19003                    address   \n",
       "\n",
       "                                          query_char  \n",
       "0                                    [2, 0, 8, 5, 4]  \n",
       "1                  [p, a, p, h, 1, 0, 1, 8, 3, 8, 6]  \n",
       "2            [3, 3,  , s, l, e, e, p, e, r,  , s, t]  \n",
       "3  [1, 1, 1, 8,  , b, e, r, w, i, n, d,  , r, o, ...  \n",
       "4  [1, 2, 7,  , v, a, l, l, e, y,  , r, o, a, d, ...  "
      ]
     },
     "execution_count": 522,
     "metadata": {},
     "output_type": "execute_result"
    }
   ],
   "source": [
    "df_sam.head()"
   ]
  },
  {
   "cell_type": "code",
   "execution_count": 671,
   "id": "1e8fc926",
   "metadata": {},
   "outputs": [],
   "source": [
    "# merge everything but address\n",
    "df_sam['label'] = df_sam.selected_suggestion_source.apply(lambda x: 1 if x=='address' else 0)"
   ]
  },
  {
   "cell_type": "code",
   "execution_count": 672,
   "id": "0fcc2514",
   "metadata": {},
   "outputs": [
    {
     "data": {
      "text/plain": [
       "0    669552\n",
       "1    195069\n",
       "Name: label, dtype: int64"
      ]
     },
     "execution_count": 672,
     "metadata": {},
     "output_type": "execute_result"
    }
   ],
   "source": [
    "df_sam['label'].value_counts()"
   ]
  },
  {
   "cell_type": "markdown",
   "id": "5cadb276",
   "metadata": {},
   "source": [
    "# Train test split"
   ]
  },
  {
   "cell_type": "code",
   "execution_count": 613,
   "id": "2effa76a",
   "metadata": {},
   "outputs": [],
   "source": [
    "df_train, df_test = train_test_split(\n",
    "    df_sam, test_size=0.25, random_state=42, stratify=df_sam['label'])\n",
    "\n",
    "df_train = df_train.copy()\n",
    "df_test = df_test.copy()"
   ]
  },
  {
   "cell_type": "markdown",
   "id": "972a43a6",
   "metadata": {},
   "source": [
    "# Char LSTM"
   ]
  },
  {
   "cell_type": "code",
   "execution_count": 526,
   "id": "4e48c0bd",
   "metadata": {},
   "outputs": [],
   "source": [
    "vocab = Counter()\n",
    "for query in df_train.query_char:\n",
    "    vocab.update(query)"
   ]
  },
  {
   "cell_type": "code",
   "execution_count": 527,
   "id": "0a783ab9",
   "metadata": {},
   "outputs": [],
   "source": [
    "for char in list(vocab):\n",
    "    if vocab[char]<100:\n",
    "        del vocab[char]"
   ]
  },
  {
   "cell_type": "code",
   "execution_count": 528,
   "id": "bbfa40cd",
   "metadata": {},
   "outputs": [],
   "source": [
    "# Buildig vocab to index\n",
    "vocab2idx = {'':0, 'UNK':1}\n",
    "for char in list(vocab):\n",
    "    vocab2idx[char] = len(vocab2idx)"
   ]
  },
  {
   "cell_type": "code",
   "execution_count": 529,
   "id": "74d26d2d",
   "metadata": {},
   "outputs": [],
   "source": [
    "# Encode queries\n",
    "def encode(text, vocab2idx, N=20):\n",
    "    loc_enc = np.zeros(N, dtype=int)\n",
    "    \n",
    "    idx = []\n",
    "    for char in text:\n",
    "        idx.append(vocab2idx.get(char, vocab2idx['UNK']))\n",
    "    length = min(N, len(idx))\n",
    "    loc_enc[:length] = idx[:length]\n",
    "    \n",
    "    return pd.Series([np.array(loc_enc), length])"
   ]
  },
  {
   "cell_type": "code",
   "execution_count": 530,
   "id": "f3ed11ff",
   "metadata": {},
   "outputs": [],
   "source": [
    "df_train[['query_char', 'length']] = df_train[\"query_char\"].apply(lambda x:encode(x, vocab2idx))\n",
    "df_test[['query_char', 'length']] = df_test[\"query_char\"].apply(lambda x:encode(x, vocab2idx))"
   ]
  },
  {
   "cell_type": "code",
   "execution_count": 531,
   "id": "11bbdaf6",
   "metadata": {},
   "outputs": [
    {
     "data": {
      "text/html": [
       "<div>\n",
       "<style scoped>\n",
       "    .dataframe tbody tr th:only-of-type {\n",
       "        vertical-align: middle;\n",
       "    }\n",
       "\n",
       "    .dataframe tbody tr th {\n",
       "        vertical-align: top;\n",
       "    }\n",
       "\n",
       "    .dataframe thead th {\n",
       "        text-align: right;\n",
       "    }\n",
       "</style>\n",
       "<table border=\"1\" class=\"dataframe\">\n",
       "  <thead>\n",
       "    <tr style=\"text-align: right;\">\n",
       "      <th></th>\n",
       "      <th>Query_Entered</th>\n",
       "      <th>selected_suggestion_source</th>\n",
       "      <th>query_char</th>\n",
       "      <th>label</th>\n",
       "      <th>length</th>\n",
       "    </tr>\n",
       "  </thead>\n",
       "  <tbody>\n",
       "    <tr>\n",
       "      <th>14495</th>\n",
       "      <td>257 west</td>\n",
       "      <td>recentviewedlistings</td>\n",
       "      <td>[2, 3, 4, 5, 6, 7, 8, 9, 0, 0, 0, 0, 0, 0, 0, ...</td>\n",
       "      <td>0</td>\n",
       "      <td>8</td>\n",
       "    </tr>\n",
       "    <tr>\n",
       "      <th>229022</th>\n",
       "      <td>5120 s mariposa dr, gilbert, az 85298</td>\n",
       "      <td>address</td>\n",
       "      <td>[3, 10, 2, 11, 5, 8, 5, 12, 13, 14, 15, 16, 17...</td>\n",
       "      <td>1</td>\n",
       "      <td>20</td>\n",
       "    </tr>\n",
       "    <tr>\n",
       "      <th>749757</th>\n",
       "      <td>569 hem</td>\n",
       "      <td>0</td>\n",
       "      <td>[3, 26, 25, 5, 27, 7, 12, 0, 0, 0, 0, 0, 0, 0,...</td>\n",
       "      <td>0</td>\n",
       "      <td>7</td>\n",
       "    </tr>\n",
       "    <tr>\n",
       "      <th>21883</th>\n",
       "      <td>bron</td>\n",
       "      <td>city</td>\n",
       "      <td>[22, 14, 17, 28, 0, 0, 0, 0, 0, 0, 0, 0, 0, 0,...</td>\n",
       "      <td>0</td>\n",
       "      <td>4</td>\n",
       "    </tr>\n",
       "    <tr>\n",
       "      <th>493675</th>\n",
       "      <td>sleep</td>\n",
       "      <td>city</td>\n",
       "      <td>[8, 21, 7, 7, 16, 0, 0, 0, 0, 0, 0, 0, 0, 0, 0...</td>\n",
       "      <td>0</td>\n",
       "      <td>5</td>\n",
       "    </tr>\n",
       "  </tbody>\n",
       "</table>\n",
       "</div>"
      ],
      "text/plain": [
       "                                Query_Entered selected_suggestion_source  \\\n",
       "14495                                257 west       recentviewedlistings   \n",
       "229022  5120 s mariposa dr, gilbert, az 85298                    address   \n",
       "749757                                569 hem                          0   \n",
       "21883                                    bron                       city   \n",
       "493675                                  sleep                       city   \n",
       "\n",
       "                                               query_char  label  length  \n",
       "14495   [2, 3, 4, 5, 6, 7, 8, 9, 0, 0, 0, 0, 0, 0, 0, ...      0       8  \n",
       "229022  [3, 10, 2, 11, 5, 8, 5, 12, 13, 14, 15, 16, 17...      1      20  \n",
       "749757  [3, 26, 25, 5, 27, 7, 12, 0, 0, 0, 0, 0, 0, 0,...      0       7  \n",
       "21883   [22, 14, 17, 28, 0, 0, 0, 0, 0, 0, 0, 0, 0, 0,...      0       4  \n",
       "493675  [8, 21, 7, 7, 16, 0, 0, 0, 0, 0, 0, 0, 0, 0, 0...      0       5  "
      ]
     },
     "execution_count": 531,
     "metadata": {},
     "output_type": "execute_result"
    }
   ],
   "source": [
    "df_train.head()"
   ]
  },
  {
   "cell_type": "code",
   "execution_count": 532,
   "id": "da82774a",
   "metadata": {},
   "outputs": [
    {
     "data": {
      "text/plain": [
       "<torch._C.Generator at 0x112948390>"
      ]
     },
     "execution_count": 532,
     "metadata": {},
     "output_type": "execute_result"
    }
   ],
   "source": [
    "#Reproducing same results\n",
    "SEED = 2021\n",
    "torch.manual_seed(SEED)"
   ]
  },
  {
   "cell_type": "code",
   "execution_count": 533,
   "id": "c3d20076",
   "metadata": {},
   "outputs": [],
   "source": [
    "class dataset(Dataset):\n",
    "    def __init__(self, df):\n",
    "        self.X = df.query_char\n",
    "        #self.len = df['length']\n",
    "        self.y = df.label.astype(float)\n",
    "        \n",
    "    def __len__(self):\n",
    "        return len(self.y)\n",
    "    \n",
    "    def __getitem__(self, idx):\n",
    "        #return (torch.from_numpy(self.X.iloc[idx]), self.y.iloc[idx]-1, self.len.iloc[idx])\n",
    "        return (torch.from_numpy(self.X.iloc[idx]), self.y.iloc[idx])"
   ]
  },
  {
   "cell_type": "code",
   "execution_count": 534,
   "id": "8569524c",
   "metadata": {},
   "outputs": [],
   "source": [
    "data_train = dataset(df_train)\n",
    "data_test = dataset(df_test)\n",
    "\n",
    "train_loader = DataLoader(data_train, batch_size=64, shuffle=True, num_workers=4)\n",
    "test_loader = DataLoader(data_test, batch_size=64, shuffle=True, num_workers=4)"
   ]
  },
  {
   "cell_type": "code",
   "execution_count": 535,
   "id": "f8f4e8da",
   "metadata": {},
   "outputs": [],
   "source": [
    "class LSTM_fixed_len(torch.nn.Module) :\n",
    "    def __init__(self, vocab_size, embedding_dim, hidden_dim) :\n",
    "        super().__init__()\n",
    "        self.embeddings = nn.Embedding(vocab_size, embedding_dim, padding_idx=0)\n",
    "        self.lstm = nn.LSTM(embedding_dim, hidden_dim, batch_first=True)\n",
    "        self.linear = nn.Linear(hidden_dim, 1)\n",
    "        self.dropout = nn.Dropout(0.5)\n",
    "        \n",
    "    def forward(self, x):\n",
    "        x = self.embeddings(x)\n",
    "        x = self.dropout(x)\n",
    "        lstm_out, (ht, ct) = self.lstm(x)\n",
    "        return self.linear(ht[-1])"
   ]
  },
  {
   "cell_type": "code",
   "execution_count": 536,
   "id": "fb2954ba",
   "metadata": {},
   "outputs": [],
   "source": [
    "def train(train_loader, test_loader, model, epochs=10, lr=.001):\n",
    "    \n",
    "    criterion = nn.BCEWithLogitsLoss()\n",
    "    optimizer = optim.Adam(model.parameters(), lr=lr)   \n",
    "    for epoch in range(epochs):\n",
    "        model.train()\n",
    "        print (\"epoch=\", epoch)\n",
    "        epoch_loss = 0\n",
    "        data_points = 0\n",
    "        for idx, (X, y) in enumerate(train_loader):\n",
    "            optimizer.zero_grad()\n",
    "            y_hat = model.forward(X)\n",
    "            loss = criterion(y_hat, y.unsqueeze(1))\n",
    "            loss.backward()\n",
    "            optimizer.step()\n",
    "            epoch_loss += loss.item()*y.shape[0]\n",
    "            data_points += y.shape[0]\n",
    "        print(\"loss=\", epoch_loss/data_points)\n",
    "        #print(\"acc\", evaluate(test_loader, model))\n",
    "        evaluate(test_loader, model)\n",
    "\n",
    "\n",
    "def evaluate(test_loader, model):\n",
    "    model.eval()\n",
    "    with torch.no_grad():\n",
    "        \n",
    "        y_true = []\n",
    "        y_pred_prob = []\n",
    "        y_pred_tag = []\n",
    "        \n",
    "        for idx, (X, y) in enumerate(test_loader):\n",
    "                y_loc = model.forward(X)\n",
    "                #y_hat_tag = torch.round(torch.sigmoid(y_hat))\n",
    "                y_loc_prob = torch.sigmoid(y_loc.reshape((-1,)))\n",
    "                y_loc_tag = torch.round(y_loc_prob)\n",
    "                \n",
    "                \n",
    "                y_true.extend(y.tolist())\n",
    "                y_pred_prob.extend(y_loc_prob.tolist())\n",
    "                y_pred_tag.extend(y_loc_tag.tolist())\n",
    "                \n",
    "        print_metric_v0(y_true, y_pred_prob, y_pred_tag)"
   ]
  },
  {
   "cell_type": "code",
   "execution_count": 537,
   "id": "7287cd5c",
   "metadata": {},
   "outputs": [],
   "source": [
    "# Metric\n",
    "def print_metric_v0(y_true, y_pred_prob, y_pred_tag):\n",
    "    \n",
    "    print(\"Accuracy:: \", accuracy_score(y_true, y_pred_tag), '\\n\\n')\n",
    "    \n",
    "    print(\"AuPR:: \", average_precision_score(y_true, y_pred_prob), '\\n\\n')\n",
    "\n",
    "    print(classification_report(y_true, y_pred_tag, digits=4), '\\n\\n')\n",
    "    \n",
    "    #y_der_prob = [prob if label == 1 else 1-prob for label, prob in zip(y_true, y_pred_prob)]\n",
    "    \n",
    "    precision, recall, thresholds = precision_recall_curve(\n",
    "        y_true, y_pred_prob)\n",
    "    plt.plot(recall, precision)\n",
    "    plt.xlabel('Recall')\n",
    "    plt.ylabel('Precision')"
   ]
  },
  {
   "cell_type": "code",
   "execution_count": 538,
   "id": "7d38daf5",
   "metadata": {},
   "outputs": [
    {
     "name": "stdout",
     "output_type": "stream",
     "text": [
      "epoch= 0\n"
     ]
    },
    {
     "name": "stderr",
     "output_type": "stream",
     "text": [
      "[W ParallelNative.cpp:212] Warning: Cannot set number of intraop threads after parallel work has started or after set_num_threads call when using native parallel backend (function set_num_threads)\n",
      "[W ParallelNative.cpp:212] Warning: Cannot set number of intraop threads after parallel work has started or after set_num_threads call when using native parallel backend (function set_num_threads)\n",
      "[W ParallelNative.cpp:212] Warning: Cannot set number of intraop threads after parallel work has started or after set_num_threads call when using native parallel backend (function set_num_threads)\n",
      "[W ParallelNative.cpp:212] Warning: Cannot set number of intraop threads after parallel work has started or after set_num_threads call when using native parallel backend (function set_num_threads)\n"
     ]
    },
    {
     "name": "stdout",
     "output_type": "stream",
     "text": [
      "loss= 0.29399466398239904\n"
     ]
    },
    {
     "name": "stderr",
     "output_type": "stream",
     "text": [
      "[W ParallelNative.cpp:212] Warning: Cannot set number of intraop threads after parallel work has started or after set_num_threads call when using native parallel backend (function set_num_threads)\n",
      "[W ParallelNative.cpp:212] Warning: Cannot set number of intraop threads after parallel work has started or after set_num_threads call when using native parallel backend (function set_num_threads)\n",
      "[W ParallelNative.cpp:212] Warning: Cannot set number of intraop threads after parallel work has started or after set_num_threads call when using native parallel backend (function set_num_threads)\n",
      "[W ParallelNative.cpp:212] Warning: Cannot set number of intraop threads after parallel work has started or after set_num_threads call when using native parallel backend (function set_num_threads)\n"
     ]
    },
    {
     "name": "stdout",
     "output_type": "stream",
     "text": [
      "Accuracy::  0.8566220692462851 \n",
      "\n",
      "\n",
      "AuPR::  0.6955996118779492 \n",
      "\n",
      "\n",
      "              precision    recall  f1-score   support\n",
      "\n",
      "         0.0     0.9444    0.8658    0.9034    167389\n",
      "         1.0     0.6417    0.8252    0.7220     48767\n",
      "\n",
      "    accuracy                         0.8566    216156\n",
      "   macro avg     0.7931    0.8455    0.8127    216156\n",
      "weighted avg     0.8762    0.8566    0.8625    216156\n",
      " \n",
      "\n",
      "\n",
      "epoch= 1\n"
     ]
    },
    {
     "name": "stderr",
     "output_type": "stream",
     "text": [
      "[W ParallelNative.cpp:212] Warning: Cannot set number of intraop threads after parallel work has started or after set_num_threads call when using native parallel backend (function set_num_threads)\n",
      "[W ParallelNative.cpp:212] Warning: Cannot set number of intraop threads after parallel work has started or after set_num_threads call when using native parallel backend (function set_num_threads)\n",
      "[W ParallelNative.cpp:212] Warning: Cannot set number of intraop threads after parallel work has started or after set_num_threads call when using native parallel backend (function set_num_threads)\n",
      "[W ParallelNative.cpp:212] Warning: Cannot set number of intraop threads after parallel work has started or after set_num_threads call when using native parallel backend (function set_num_threads)\n"
     ]
    },
    {
     "name": "stdout",
     "output_type": "stream",
     "text": [
      "loss= 0.28023503760797197\n"
     ]
    },
    {
     "name": "stderr",
     "output_type": "stream",
     "text": [
      "[W ParallelNative.cpp:212] Warning: Cannot set number of intraop threads after parallel work has started or after set_num_threads call when using native parallel backend (function set_num_threads)\n",
      "[W ParallelNative.cpp:212] Warning: Cannot set number of intraop threads after parallel work has started or after set_num_threads call when using native parallel backend (function set_num_threads)\n",
      "[W ParallelNative.cpp:212] Warning: Cannot set number of intraop threads after parallel work has started or after set_num_threads call when using native parallel backend (function set_num_threads)\n",
      "[W ParallelNative.cpp:212] Warning: Cannot set number of intraop threads after parallel work has started or after set_num_threads call when using native parallel backend (function set_num_threads)\n"
     ]
    },
    {
     "name": "stdout",
     "output_type": "stream",
     "text": [
      "Accuracy::  0.8578110253705657 \n",
      "\n",
      "\n",
      "AuPR::  0.706768315785505 \n",
      "\n",
      "\n",
      "              precision    recall  f1-score   support\n",
      "\n",
      "         0.0     0.9532    0.8586    0.9034    167389\n",
      "         1.0     0.6379    0.8552    0.7307     48767\n",
      "\n",
      "    accuracy                         0.8578    216156\n",
      "   macro avg     0.7955    0.8569    0.8171    216156\n",
      "weighted avg     0.8820    0.8578    0.8644    216156\n",
      " \n",
      "\n",
      "\n",
      "epoch= 2\n"
     ]
    },
    {
     "name": "stderr",
     "output_type": "stream",
     "text": [
      "[W ParallelNative.cpp:212] Warning: Cannot set number of intraop threads after parallel work has started or after set_num_threads call when using native parallel backend (function set_num_threads)\n",
      "[W ParallelNative.cpp:212] Warning: Cannot set number of intraop threads after parallel work has started or after set_num_threads call when using native parallel backend (function set_num_threads)\n",
      "[W ParallelNative.cpp:212] Warning: Cannot set number of intraop threads after parallel work has started or after set_num_threads call when using native parallel backend (function set_num_threads)\n",
      "[W ParallelNative.cpp:212] Warning: Cannot set number of intraop threads after parallel work has started or after set_num_threads call when using native parallel backend (function set_num_threads)\n"
     ]
    },
    {
     "name": "stdout",
     "output_type": "stream",
     "text": [
      "loss= 0.2778492296719865\n"
     ]
    },
    {
     "name": "stderr",
     "output_type": "stream",
     "text": [
      "[W ParallelNative.cpp:212] Warning: Cannot set number of intraop threads after parallel work has started or after set_num_threads call when using native parallel backend (function set_num_threads)\n",
      "[W ParallelNative.cpp:212] Warning: Cannot set number of intraop threads after parallel work has started or after set_num_threads call when using native parallel backend (function set_num_threads)\n",
      "[W ParallelNative.cpp:212] Warning: Cannot set number of intraop threads after parallel work has started or after set_num_threads call when using native parallel backend (function set_num_threads)\n",
      "[W ParallelNative.cpp:212] Warning: Cannot set number of intraop threads after parallel work has started or after set_num_threads call when using native parallel backend (function set_num_threads)\n"
     ]
    },
    {
     "name": "stdout",
     "output_type": "stream",
     "text": [
      "Accuracy::  0.8603508577138733 \n",
      "\n",
      "\n",
      "AuPR::  0.7111682886113017 \n",
      "\n",
      "\n",
      "              precision    recall  f1-score   support\n",
      "\n",
      "         0.0     0.9393    0.8763    0.9067    167389\n",
      "         1.0     0.6549    0.8055    0.7224     48767\n",
      "\n",
      "    accuracy                         0.8604    216156\n",
      "   macro avg     0.7971    0.8409    0.8146    216156\n",
      "weighted avg     0.8751    0.8604    0.8651    216156\n",
      " \n",
      "\n",
      "\n",
      "epoch= 3\n"
     ]
    },
    {
     "name": "stderr",
     "output_type": "stream",
     "text": [
      "[W ParallelNative.cpp:212] Warning: Cannot set number of intraop threads after parallel work has started or after set_num_threads call when using native parallel backend (function set_num_threads)\n",
      "[W ParallelNative.cpp:212] Warning: Cannot set number of intraop threads after parallel work has started or after set_num_threads call when using native parallel backend (function set_num_threads)\n",
      "[W ParallelNative.cpp:212] Warning: Cannot set number of intraop threads after parallel work has started or after set_num_threads call when using native parallel backend (function set_num_threads)\n",
      "[W ParallelNative.cpp:212] Warning: Cannot set number of intraop threads after parallel work has started or after set_num_threads call when using native parallel backend (function set_num_threads)\n"
     ]
    },
    {
     "name": "stdout",
     "output_type": "stream",
     "text": [
      "loss= 0.2760876541836779\n"
     ]
    },
    {
     "name": "stderr",
     "output_type": "stream",
     "text": [
      "[W ParallelNative.cpp:212] Warning: Cannot set number of intraop threads after parallel work has started or after set_num_threads call when using native parallel backend (function set_num_threads)\n",
      "[W ParallelNative.cpp:212] Warning: Cannot set number of intraop threads after parallel work has started or after set_num_threads call when using native parallel backend (function set_num_threads)\n",
      "[W ParallelNative.cpp:212] Warning: Cannot set number of intraop threads after parallel work has started or after set_num_threads call when using native parallel backend (function set_num_threads)\n",
      "[W ParallelNative.cpp:212] Warning: Cannot set number of intraop threads after parallel work has started or after set_num_threads call when using native parallel backend (function set_num_threads)\n"
     ]
    },
    {
     "name": "stdout",
     "output_type": "stream",
     "text": [
      "Accuracy::  0.8629739632487647 \n",
      "\n",
      "\n",
      "AuPR::  0.7143730473618959 \n",
      "\n",
      "\n",
      "              precision    recall  f1-score   support\n",
      "\n",
      "         0.0     0.9362    0.8832    0.9090    167389\n",
      "         1.0     0.6644    0.7934    0.7232     48767\n",
      "\n",
      "    accuracy                         0.8630    216156\n",
      "   macro avg     0.8003    0.8383    0.8161    216156\n",
      "weighted avg     0.8749    0.8630    0.8670    216156\n",
      " \n",
      "\n",
      "\n",
      "epoch= 4\n"
     ]
    },
    {
     "name": "stderr",
     "output_type": "stream",
     "text": [
      "[W ParallelNative.cpp:212] Warning: Cannot set number of intraop threads after parallel work has started or after set_num_threads call when using native parallel backend (function set_num_threads)\n",
      "[W ParallelNative.cpp:212] Warning: Cannot set number of intraop threads after parallel work has started or after set_num_threads call when using native parallel backend (function set_num_threads)\n",
      "[W ParallelNative.cpp:212] Warning: Cannot set number of intraop threads after parallel work has started or after set_num_threads call when using native parallel backend (function set_num_threads)\n",
      "[W ParallelNative.cpp:212] Warning: Cannot set number of intraop threads after parallel work has started or after set_num_threads call when using native parallel backend (function set_num_threads)\n"
     ]
    },
    {
     "name": "stdout",
     "output_type": "stream",
     "text": [
      "loss= 0.27492588386927397\n"
     ]
    },
    {
     "name": "stderr",
     "output_type": "stream",
     "text": [
      "[W ParallelNative.cpp:212] Warning: Cannot set number of intraop threads after parallel work has started or after set_num_threads call when using native parallel backend (function set_num_threads)\n",
      "[W ParallelNative.cpp:212] Warning: Cannot set number of intraop threads after parallel work has started or after set_num_threads call when using native parallel backend (function set_num_threads)\n",
      "[W ParallelNative.cpp:212] Warning: Cannot set number of intraop threads after parallel work has started or after set_num_threads call when using native parallel backend (function set_num_threads)\n",
      "[W ParallelNative.cpp:212] Warning: Cannot set number of intraop threads after parallel work has started or after set_num_threads call when using native parallel backend (function set_num_threads)\n"
     ]
    },
    {
     "name": "stdout",
     "output_type": "stream",
     "text": [
      "Accuracy::  0.8631960250929884 \n",
      "\n",
      "\n",
      "AuPR::  0.7154991524248769 \n",
      "\n",
      "\n",
      "              precision    recall  f1-score   support\n",
      "\n",
      "         0.0     0.9291    0.8914    0.9098    167389\n",
      "         1.0     0.6728    0.7664    0.7165     48767\n",
      "\n",
      "    accuracy                         0.8632    216156\n",
      "   macro avg     0.8009    0.8289    0.8132    216156\n",
      "weighted avg     0.8712    0.8632    0.8662    216156\n",
      " \n",
      "\n",
      "\n",
      "epoch= 5\n"
     ]
    },
    {
     "name": "stderr",
     "output_type": "stream",
     "text": [
      "[W ParallelNative.cpp:212] Warning: Cannot set number of intraop threads after parallel work has started or after set_num_threads call when using native parallel backend (function set_num_threads)\n",
      "[W ParallelNative.cpp:212] Warning: Cannot set number of intraop threads after parallel work has started or after set_num_threads call when using native parallel backend (function set_num_threads)\n",
      "[W ParallelNative.cpp:212] Warning: Cannot set number of intraop threads after parallel work has started or after set_num_threads call when using native parallel backend (function set_num_threads)\n",
      "[W ParallelNative.cpp:212] Warning: Cannot set number of intraop threads after parallel work has started or after set_num_threads call when using native parallel backend (function set_num_threads)\n"
     ]
    },
    {
     "name": "stdout",
     "output_type": "stream",
     "text": [
      "loss= 0.2738714838478459\n"
     ]
    },
    {
     "name": "stderr",
     "output_type": "stream",
     "text": [
      "[W ParallelNative.cpp:212] Warning: Cannot set number of intraop threads after parallel work has started or after set_num_threads call when using native parallel backend (function set_num_threads)\n",
      "[W ParallelNative.cpp:212] Warning: Cannot set number of intraop threads after parallel work has started or after set_num_threads call when using native parallel backend (function set_num_threads)\n",
      "[W ParallelNative.cpp:212] Warning: Cannot set number of intraop threads after parallel work has started or after set_num_threads call when using native parallel backend (function set_num_threads)\n",
      "[W ParallelNative.cpp:212] Warning: Cannot set number of intraop threads after parallel work has started or after set_num_threads call when using native parallel backend (function set_num_threads)\n"
     ]
    },
    {
     "name": "stdout",
     "output_type": "stream",
     "text": [
      "Accuracy::  0.8640657673161976 \n",
      "\n",
      "\n",
      "AuPR::  0.7184477985543177 \n",
      "\n",
      "\n",
      "              precision    recall  f1-score   support\n",
      "\n",
      "         0.0     0.9365    0.8845    0.9097    167389\n",
      "         1.0     0.6669    0.7940    0.7250     48767\n",
      "\n",
      "    accuracy                         0.8641    216156\n",
      "   macro avg     0.8017    0.8393    0.8173    216156\n",
      "weighted avg     0.8757    0.8641    0.8680    216156\n",
      " \n",
      "\n",
      "\n",
      "epoch= 6\n"
     ]
    },
    {
     "name": "stderr",
     "output_type": "stream",
     "text": [
      "[W ParallelNative.cpp:212] Warning: Cannot set number of intraop threads after parallel work has started or after set_num_threads call when using native parallel backend (function set_num_threads)\n",
      "[W ParallelNative.cpp:212] Warning: Cannot set number of intraop threads after parallel work has started or after set_num_threads call when using native parallel backend (function set_num_threads)\n",
      "[W ParallelNative.cpp:212] Warning: Cannot set number of intraop threads after parallel work has started or after set_num_threads call when using native parallel backend (function set_num_threads)\n",
      "[W ParallelNative.cpp:212] Warning: Cannot set number of intraop threads after parallel work has started or after set_num_threads call when using native parallel backend (function set_num_threads)\n"
     ]
    },
    {
     "name": "stdout",
     "output_type": "stream",
     "text": [
      "loss= 0.2732710917034521\n"
     ]
    },
    {
     "name": "stderr",
     "output_type": "stream",
     "text": [
      "[W ParallelNative.cpp:212] Warning: Cannot set number of intraop threads after parallel work has started or after set_num_threads call when using native parallel backend (function set_num_threads)\n",
      "[W ParallelNative.cpp:212] Warning: Cannot set number of intraop threads after parallel work has started or after set_num_threads call when using native parallel backend (function set_num_threads)\n",
      "[W ParallelNative.cpp:212] Warning: Cannot set number of intraop threads after parallel work has started or after set_num_threads call when using native parallel backend (function set_num_threads)\n",
      "[W ParallelNative.cpp:212] Warning: Cannot set number of intraop threads after parallel work has started or after set_num_threads call when using native parallel backend (function set_num_threads)\n"
     ]
    },
    {
     "name": "stdout",
     "output_type": "stream",
     "text": [
      "Accuracy::  0.864583911619386 \n",
      "\n",
      "\n",
      "AuPR::  0.7200013208186316 \n",
      "\n",
      "\n",
      "              precision    recall  f1-score   support\n",
      "\n",
      "         0.0     0.9392    0.8823    0.9098    167389\n",
      "         1.0     0.6655    0.8038    0.7281     48767\n",
      "\n",
      "    accuracy                         0.8646    216156\n",
      "   macro avg     0.8023    0.8431    0.8190    216156\n",
      "weighted avg     0.8774    0.8646    0.8688    216156\n",
      " \n",
      "\n",
      "\n",
      "epoch= 7\n"
     ]
    },
    {
     "name": "stderr",
     "output_type": "stream",
     "text": [
      "[W ParallelNative.cpp:212] Warning: Cannot set number of intraop threads after parallel work has started or after set_num_threads call when using native parallel backend (function set_num_threads)\n",
      "[W ParallelNative.cpp:212] Warning: Cannot set number of intraop threads after parallel work has started or after set_num_threads call when using native parallel backend (function set_num_threads)\n",
      "[W ParallelNative.cpp:212] Warning: Cannot set number of intraop threads after parallel work has started or after set_num_threads call when using native parallel backend (function set_num_threads)\n",
      "[W ParallelNative.cpp:212] Warning: Cannot set number of intraop threads after parallel work has started or after set_num_threads call when using native parallel backend (function set_num_threads)\n"
     ]
    },
    {
     "name": "stdout",
     "output_type": "stream",
     "text": [
      "loss= 0.2724848968833214\n"
     ]
    },
    {
     "name": "stderr",
     "output_type": "stream",
     "text": [
      "[W ParallelNative.cpp:212] Warning: Cannot set number of intraop threads after parallel work has started or after set_num_threads call when using native parallel backend (function set_num_threads)\n",
      "[W ParallelNative.cpp:212] Warning: Cannot set number of intraop threads after parallel work has started or after set_num_threads call when using native parallel backend (function set_num_threads)\n",
      "[W ParallelNative.cpp:212] Warning: Cannot set number of intraop threads after parallel work has started or after set_num_threads call when using native parallel backend (function set_num_threads)\n",
      "[W ParallelNative.cpp:212] Warning: Cannot set number of intraop threads after parallel work has started or after set_num_threads call when using native parallel backend (function set_num_threads)\n"
     ]
    },
    {
     "name": "stdout",
     "output_type": "stream",
     "text": [
      "Accuracy::  0.8649123780973001 \n",
      "\n",
      "\n",
      "AuPR::  0.720759778099639 \n",
      "\n",
      "\n",
      "              precision    recall  f1-score   support\n",
      "\n",
      "         0.0     0.9401    0.8817    0.9100    167389\n",
      "         1.0     0.6653    0.8073    0.7295     48767\n",
      "\n",
      "    accuracy                         0.8649    216156\n",
      "   macro avg     0.8027    0.8445    0.8197    216156\n",
      "weighted avg     0.8781    0.8649    0.8693    216156\n",
      " \n",
      "\n",
      "\n",
      "epoch= 8\n"
     ]
    },
    {
     "name": "stderr",
     "output_type": "stream",
     "text": [
      "[W ParallelNative.cpp:212] Warning: Cannot set number of intraop threads after parallel work has started or after set_num_threads call when using native parallel backend (function set_num_threads)\n",
      "[W ParallelNative.cpp:212] Warning: Cannot set number of intraop threads after parallel work has started or after set_num_threads call when using native parallel backend (function set_num_threads)\n",
      "[W ParallelNative.cpp:212] Warning: Cannot set number of intraop threads after parallel work has started or after set_num_threads call when using native parallel backend (function set_num_threads)\n",
      "[W ParallelNative.cpp:212] Warning: Cannot set number of intraop threads after parallel work has started or after set_num_threads call when using native parallel backend (function set_num_threads)\n"
     ]
    },
    {
     "name": "stdout",
     "output_type": "stream",
     "text": [
      "loss= 0.27204711717411545\n"
     ]
    },
    {
     "name": "stderr",
     "output_type": "stream",
     "text": [
      "[W ParallelNative.cpp:212] Warning: Cannot set number of intraop threads after parallel work has started or after set_num_threads call when using native parallel backend (function set_num_threads)\n",
      "[W ParallelNative.cpp:212] Warning: Cannot set number of intraop threads after parallel work has started or after set_num_threads call when using native parallel backend (function set_num_threads)\n",
      "[W ParallelNative.cpp:212] Warning: Cannot set number of intraop threads after parallel work has started or after set_num_threads call when using native parallel backend (function set_num_threads)\n",
      "[W ParallelNative.cpp:212] Warning: Cannot set number of intraop threads after parallel work has started or after set_num_threads call when using native parallel backend (function set_num_threads)\n"
     ]
    },
    {
     "name": "stdout",
     "output_type": "stream",
     "text": [
      "Accuracy::  0.8654629064194378 \n",
      "\n",
      "\n",
      "AuPR::  0.7223074496477648 \n",
      "\n",
      "\n",
      "              precision    recall  f1-score   support\n",
      "\n",
      "         0.0     0.9430    0.8794    0.9101    167389\n",
      "         1.0     0.6639    0.8175    0.7327     48767\n",
      "\n",
      "    accuracy                         0.8655    216156\n",
      "   macro avg     0.8035    0.8485    0.8214    216156\n",
      "weighted avg     0.8800    0.8655    0.8701    216156\n",
      " \n",
      "\n",
      "\n",
      "epoch= 9\n"
     ]
    },
    {
     "name": "stderr",
     "output_type": "stream",
     "text": [
      "[W ParallelNative.cpp:212] Warning: Cannot set number of intraop threads after parallel work has started or after set_num_threads call when using native parallel backend (function set_num_threads)\n",
      "[W ParallelNative.cpp:212] Warning: Cannot set number of intraop threads after parallel work has started or after set_num_threads call when using native parallel backend (function set_num_threads)\n",
      "[W ParallelNative.cpp:212] Warning: Cannot set number of intraop threads after parallel work has started or after set_num_threads call when using native parallel backend (function set_num_threads)\n",
      "[W ParallelNative.cpp:212] Warning: Cannot set number of intraop threads after parallel work has started or after set_num_threads call when using native parallel backend (function set_num_threads)\n"
     ]
    },
    {
     "name": "stdout",
     "output_type": "stream",
     "text": [
      "loss= 0.2715023295569367\n"
     ]
    },
    {
     "name": "stderr",
     "output_type": "stream",
     "text": [
      "[W ParallelNative.cpp:212] Warning: Cannot set number of intraop threads after parallel work has started or after set_num_threads call when using native parallel backend (function set_num_threads)\n",
      "[W ParallelNative.cpp:212] Warning: Cannot set number of intraop threads after parallel work has started or after set_num_threads call when using native parallel backend (function set_num_threads)\n",
      "[W ParallelNative.cpp:212] Warning: Cannot set number of intraop threads after parallel work has started or after set_num_threads call when using native parallel backend (function set_num_threads)\n",
      "[W ParallelNative.cpp:212] Warning: Cannot set number of intraop threads after parallel work has started or after set_num_threads call when using native parallel backend (function set_num_threads)\n"
     ]
    },
    {
     "name": "stdout",
     "output_type": "stream",
     "text": [
      "Accuracy::  0.8651066822109957 \n",
      "\n",
      "\n",
      "AuPR::  0.7219985035521703 \n",
      "\n",
      "\n",
      "              precision    recall  f1-score   support\n",
      "\n",
      "         0.0     0.9322    0.8906    0.9109    167389\n",
      "         1.0     0.6744    0.7776    0.7223     48767\n",
      "\n",
      "    accuracy                         0.8651    216156\n",
      "   macro avg     0.8033    0.8341    0.8166    216156\n",
      "weighted avg     0.8740    0.8651    0.8684    216156\n",
      " \n",
      "\n",
      "\n"
     ]
    },
    {
     "data": {
      "image/png": "[encoded data removed]",
      "text/plain": [
       "<Figure size 432x288 with 1 Axes>"
      ]
     },
     "metadata": {
      "needs_background": "light"
     },
     "output_type": "display_data"
    }
   ],
   "source": [
    "model = LSTM_fixed_len(len(vocab)+2, 64, 64)\n",
    "train(train_loader, test_loader, model, 10)"
   ]
  },
  {
   "cell_type": "code",
   "execution_count": 563,
   "id": "b8896fad",
   "metadata": {},
   "outputs": [],
   "source": [
    "X_tmp = [list(el) for el in df_test.query_char]\n",
    "X_tmp = torch.tensor(X_tmp)"
   ]
  },
  {
   "cell_type": "code",
   "execution_count": 567,
   "id": "b32f60db",
   "metadata": {},
   "outputs": [],
   "source": [
    "y_prob = model.forward(X_tmp)\n",
    "y_prob = torch.sigmoid(y_prob.reshape((-1,)))\n",
    "y_tag = torch.round(y_prob)"
   ]
  },
  {
   "cell_type": "code",
   "execution_count": 568,
   "id": "86185af7",
   "metadata": {},
   "outputs": [],
   "source": [
    "y_prob = y_prob.detach().numpy()\n",
    "y_tag = y_tag.detach().numpy()"
   ]
  },
  {
   "cell_type": "code",
   "execution_count": 569,
   "id": "61c4da3f",
   "metadata": {},
   "outputs": [
    {
     "name": "stdout",
     "output_type": "stream",
     "text": [
      "2 (215724,)\n",
      "Accuracy::  0.8650173369676067 \n",
      "\n",
      "\n",
      "AuPR::  0.7221741239802015 \n",
      "\n",
      "\n",
      "              precision    recall  f1-score   support\n",
      "\n",
      "           0     0.9322    0.8904    0.9108    166996\n",
      "           1     0.6744    0.7782    0.7226     48728\n",
      "\n",
      "    accuracy                         0.8650    215724\n",
      "   macro avg     0.8033    0.8343    0.8167    215724\n",
      "weighted avg     0.8740    0.8650    0.8683    215724\n",
      " \n",
      "\n",
      "\n",
      "3 (212852,)\n",
      "Accuracy::  0.86416383214628 \n",
      "\n",
      "\n",
      "AuPR::  0.7229233971796242 \n",
      "\n",
      "\n",
      "              precision    recall  f1-score   support\n",
      "\n",
      "           0     0.9323    0.8886    0.9099    164330\n",
      "           1     0.6744    0.7815    0.7240     48522\n",
      "\n",
      "    accuracy                         0.8642    212852\n",
      "   macro avg     0.8033    0.8350    0.8169    212852\n",
      "weighted avg     0.8735    0.8642    0.8675    212852\n",
      " \n",
      "\n",
      "\n",
      "4 (203104,)\n",
      "Accuracy::  0.861366590515204 \n",
      "\n",
      "\n",
      "AuPR::  0.7254484493130475 \n",
      "\n",
      "\n",
      "              precision    recall  f1-score   support\n",
      "\n",
      "           0     0.9330    0.8821    0.9068    155338\n",
      "           1     0.6744    0.7938    0.7292     47766\n",
      "\n",
      "    accuracy                         0.8614    203104\n",
      "   macro avg     0.8037    0.8380    0.8180    203104\n",
      "weighted avg     0.8721    0.8614    0.8651    203104\n",
      " \n",
      "\n",
      "\n",
      "5 (187530,)\n",
      "Accuracy::  0.8588065909454488 \n",
      "\n",
      "\n",
      "AuPR::  0.7302353463827547 \n",
      "\n",
      "\n",
      "              precision    recall  f1-score   support\n",
      "\n",
      "           0     0.9378    0.8706    0.9029    141445\n",
      "           1     0.6744    0.8227    0.7412     46085\n",
      "\n",
      "    accuracy                         0.8588    187530\n",
      "   macro avg     0.8061    0.8466    0.8221    187530\n",
      "weighted avg     0.8730    0.8588    0.8632    187530\n",
      " \n",
      "\n",
      "\n",
      "6 (158451,)\n",
      "Accuracy::  0.8379499024935153 \n",
      "\n",
      "\n",
      "AuPR::  0.7335339071733211 \n",
      "\n",
      "\n",
      "              precision    recall  f1-score   support\n",
      "\n",
      "           0     0.9273    0.8389    0.8809    113168\n",
      "           1     0.6748    0.8356    0.7467     45283\n",
      "\n",
      "    accuracy                         0.8379    158451\n",
      "   macro avg     0.8011    0.8373    0.8138    158451\n",
      "weighted avg     0.8551    0.8379    0.8425    158451\n",
      " \n",
      "\n",
      "\n",
      "7 (142739,)\n",
      "Accuracy::  0.8271600613707536 \n",
      "\n",
      "\n",
      "AuPR::  0.7366158326980793 \n",
      "\n",
      "\n",
      "              precision    recall  f1-score   support\n",
      "\n",
      "           0     0.9216    0.8197    0.8676     98661\n",
      "           1     0.6764    0.8440    0.7510     44078\n",
      "\n",
      "    accuracy                         0.8272    142739\n",
      "   macro avg     0.7990    0.8318    0.8093    142739\n",
      "weighted avg     0.8459    0.8272    0.8316    142739\n",
      " \n",
      "\n",
      "\n",
      "8 (125944,)\n",
      "Accuracy::  0.8166486692498253 \n",
      "\n",
      "\n",
      "AuPR::  0.7397544268998124 \n",
      "\n",
      "\n",
      "              precision    recall  f1-score   support\n",
      "\n",
      "           0     0.9155    0.7993    0.8535     84139\n",
      "           1     0.6783    0.8516    0.7551     41805\n",
      "\n",
      "    accuracy                         0.8166    125944\n",
      "   macro avg     0.7969    0.8254    0.8043    125944\n",
      "weighted avg     0.8368    0.8166    0.8208    125944\n",
      " \n",
      "\n",
      "\n",
      "9 (107269,)\n",
      "Accuracy::  0.8040533611761087 \n",
      "\n",
      "\n",
      "AuPR::  0.7422866504099777 \n",
      "\n",
      "\n",
      "              precision    recall  f1-score   support\n",
      "\n",
      "           0     0.9079    0.7734    0.8353     68903\n",
      "           1     0.6786    0.8591    0.7582     38366\n",
      "\n",
      "    accuracy                         0.8041    107269\n",
      "   macro avg     0.7932    0.8163    0.7968    107269\n",
      "weighted avg     0.8259    0.8041    0.8077    107269\n",
      " \n",
      "\n",
      "\n",
      "10 (89883,)\n",
      "Accuracy::  0.7916068667044937 \n",
      "\n",
      "\n",
      "AuPR::  0.7434726537422778 \n",
      "\n",
      "\n",
      "              precision    recall  f1-score   support\n",
      "\n",
      "           0     0.8988    0.7471    0.8160     55577\n",
      "           1     0.6783    0.8637    0.7598     34306\n",
      "\n",
      "    accuracy                         0.7916     89883\n",
      "   macro avg     0.7885    0.8054    0.7879     89883\n",
      "weighted avg     0.8146    0.7916    0.7945     89883\n",
      " \n",
      "\n",
      "\n",
      "11 (75206,)\n",
      "Accuracy::  0.7797250219397388 \n",
      "\n",
      "\n",
      "AuPR::  0.7454859934649897 \n",
      "\n",
      "\n",
      "              precision    recall  f1-score   support\n",
      "\n",
      "           0     0.8889    0.7196    0.7953     44727\n",
      "           1     0.6784    0.8680    0.7616     30479\n",
      "\n",
      "    accuracy                         0.7797     75206\n",
      "   macro avg     0.7836    0.7938    0.7784     75206\n",
      "weighted avg     0.8036    0.7797    0.7816     75206\n",
      " \n",
      "\n",
      "\n",
      "12 (62173,)\n",
      "Accuracy::  0.7696749392823251 \n",
      "\n",
      "\n",
      "AuPR::  0.7509982921846086 \n",
      "\n",
      "\n",
      "              precision    recall  f1-score   support\n",
      "\n",
      "           0     0.8830    0.6852    0.7716     35303\n",
      "           1     0.6804    0.8807    0.7677     26870\n",
      "\n",
      "    accuracy                         0.7697     62173\n",
      "   macro avg     0.7817    0.7829    0.7697     62173\n",
      "weighted avg     0.7954    0.7697    0.7699     62173\n",
      " \n",
      "\n",
      "\n",
      "13 (50677,)\n",
      "Accuracy::  0.7573455413698522 \n",
      "\n",
      "\n",
      "AuPR::  0.7581320038502996 \n",
      "\n",
      "\n",
      "              precision    recall  f1-score   support\n",
      "\n",
      "           0     0.8698    0.6380    0.7361     26878\n",
      "           1     0.6858    0.8921    0.7754     23799\n",
      "\n",
      "    accuracy                         0.7573     50677\n",
      "   macro avg     0.7778    0.7651    0.7558     50677\n",
      "weighted avg     0.7833    0.7573    0.7546     50677\n",
      " \n",
      "\n",
      "\n",
      "14 (41197,)\n",
      "Accuracy::  0.7430638153263587 \n",
      "\n",
      "\n",
      "AuPR::  0.765273477192605 \n",
      "\n",
      "\n",
      "              precision    recall  f1-score   support\n",
      "\n",
      "           0     0.8565    0.5671    0.6824     20053\n",
      "           1     0.6891    0.9099    0.7843     21144\n",
      "\n",
      "    accuracy                         0.7431     41197\n",
      "   macro avg     0.7728    0.7385    0.7333     41197\n",
      "weighted avg     0.7706    0.7431    0.7347     41197\n",
      " \n",
      "\n",
      "\n"
     ]
    },
    {
     "data": {
      "image/png": "[encoded data removed]",
      "text/plain": [
       "<Figure size 432x288 with 1 Axes>"
      ]
     },
     "metadata": {
      "needs_background": "light"
     },
     "output_type": "display_data"
    }
   ],
   "source": [
    "for i in range(2, 15, 1):\n",
    "    \n",
    "    idx = np.where(df_test.length>=i)[0]\n",
    "    \n",
    "    label_tmp = df_test.label.iloc[idx]\n",
    "    y_prob_sub = y_prob[idx]\n",
    "    y_tag_sub = y_tag[idx]\n",
    "    \n",
    "    print(i, label_tmp.shape)\n",
    "    print_metric_v0(label_tmp, y_prob_sub, y_tag_sub)"
   ]
  },
  {
   "cell_type": "code",
   "execution_count": 539,
   "id": "b2b96fed",
   "metadata": {},
   "outputs": [],
   "source": [
    "def evaluate_modified(df_test, model):\n",
    "    model.eval()\n",
    "    with torch.no_grad():\n",
    "        \n",
    "        y_true = []\n",
    "        y_pred_prob = []\n",
    "        y_pred_tag = []\n",
    "        \n",
    "        for idx, (X, y) in enumerate(test_loader):\n",
    "                y_loc = model.forward(X)\n",
    "                #y_hat_tag = torch.round(torch.sigmoid(y_hat))\n",
    "                y_loc_prob = torch.sigmoid(y_loc.reshape((-1,)))\n",
    "                y_loc_tag = torch.round(y_loc_prob)\n",
    "                \n",
    "                \n",
    "                y_true.extend(y.tolist())\n",
    "                y_pred_prob.extend(y_loc_prob.tolist())\n",
    "                y_pred_tag.extend(y_loc_tag.tolist())\n",
    "        \n",
    "        y_true_sub = np.array(y_true)[idx]\n",
    "        y_pred_prob_sub = np.array(y_pred_prob)[idx]\n",
    "        y_pred_tag_sub = np.array(y_pred_tag)[idx]\n",
    "        \n",
    "        print_metric_v0(y_true_sub, y_pred_prob_sub, y_pred_tag_sub)"
   ]
  },
  {
   "cell_type": "markdown",
   "id": "d31b6598",
   "metadata": {},
   "source": [
    "# LSTM Padded"
   ]
  },
  {
   "cell_type": "code",
   "execution_count": 442,
   "id": "b3c2d7da",
   "metadata": {},
   "outputs": [
    {
     "data": {
      "text/plain": [
       "<torch._C.Generator at 0x112948390>"
      ]
     },
     "execution_count": 442,
     "metadata": {},
     "output_type": "execute_result"
    }
   ],
   "source": [
    "#Reproducing same results\n",
    "SEED = 2021\n",
    "torch.manual_seed(SEED)"
   ]
  },
  {
   "cell_type": "code",
   "execution_count": 443,
   "id": "cc4b09f2",
   "metadata": {},
   "outputs": [],
   "source": [
    "class dataset(Dataset):\n",
    "    def __init__(self, df):\n",
    "        self.X = df.query_char\n",
    "        self.len = df.length\n",
    "        self.y = df.label.astype(float)\n",
    "        \n",
    "    def __len__(self):\n",
    "        return len(self.y)\n",
    "    \n",
    "    def __getitem__(self, idx):\n",
    "        #return (torch.from_numpy(self.X.iloc[idx]), self.y.iloc[idx]-1, self.len.iloc[idx])\n",
    "        return (torch.from_numpy(self.X.iloc[idx]), self.y.iloc[idx], self.len.iloc[idx])"
   ]
  },
  {
   "cell_type": "code",
   "execution_count": 444,
   "id": "713f4dce",
   "metadata": {},
   "outputs": [],
   "source": [
    "data_train = dataset(df_train)\n",
    "data_test = dataset(df_test)\n",
    "\n",
    "train_loader = DataLoader(data_train, batch_size=64, shuffle=True, num_workers=4)\n",
    "test_loader = DataLoader(data_test, batch_size=64, shuffle=True, num_workers=4)"
   ]
  },
  {
   "cell_type": "code",
   "execution_count": 430,
   "id": "99ac8b97",
   "metadata": {},
   "outputs": [],
   "source": [
    "class LSTM(torch.nn.Module) :\n",
    "    def __init__(self, vocab_size, embedding_dim, hidden_dim) :\n",
    "        super().__init__()\n",
    "        self.embeddings = nn.Embedding(vocab_size, embedding_dim, padding_idx=0)\n",
    "        self.lstm = nn.LSTM(embedding_dim, hidden_dim, batch_first=True)\n",
    "        self.linear = nn.Linear(hidden_dim, 1)\n",
    "        self.dropout = nn.Dropout(0.5)\n",
    "        \n",
    "    def forward(self, x, s):\n",
    "        x = self.embeddings(x)\n",
    "        x = self.dropout(x)\n",
    "        x_pack = pack_padded_sequence(x, s, batch_first=True, enforce_sorted=False)\n",
    "        lstm_out, (ht, ct) = self.lstm(x_pack)\n",
    "        return self.linear(ht[-1])"
   ]
  },
  {
   "cell_type": "code",
   "execution_count": 445,
   "id": "82726afa",
   "metadata": {},
   "outputs": [],
   "source": [
    "def train(train_loader, test_loader, model, epochs=10, lr=.001):\n",
    "    \n",
    "    criterion = nn.BCEWithLogitsLoss()\n",
    "    optimizer = optim.Adam(model.parameters(), lr=lr)   \n",
    "    for epoch in range(epochs):\n",
    "        model.train()\n",
    "        print (\"epoch=\", epoch)\n",
    "        epoch_loss = 0\n",
    "        data_points = 0\n",
    "        for idx, (X, y, seq_len) in enumerate(train_loader):\n",
    "            optimizer.zero_grad()\n",
    "            y_hat = model.forward(X, seq_len)\n",
    "            loss = criterion(y_hat, y.unsqueeze(1))\n",
    "            loss.backward()\n",
    "            optimizer.step()\n",
    "            epoch_loss += loss.item()*y.shape[0]\n",
    "            data_points += y.shape[0]\n",
    "        print(\"loss=\", epoch_loss/data_points)\n",
    "        #print(\"acc\", evaluate(test_loader, model))\n",
    "        evaluate(test_loader, model)\n",
    "\n",
    "\n",
    "def evaluate(test_loader, model):\n",
    "    model.eval()\n",
    "    with torch.no_grad():\n",
    "        \n",
    "        y_true = []\n",
    "        y_pred_prob = []\n",
    "        y_pred_tag = []\n",
    "        \n",
    "        for idx, (X, y, seq_len) in enumerate(test_loader):\n",
    "                y_loc = model.forward(X, seq_len)\n",
    "                #y_hat_tag = torch.round(torch.sigmoid(y_hat))\n",
    "                y_loc_prob = torch.sigmoid(y_loc.reshape((-1,)))\n",
    "                y_loc_tag = torch.round(y_loc_prob)\n",
    "                \n",
    "                \n",
    "                y_true.extend(y.tolist())\n",
    "                y_pred_prob.extend(y_loc_prob.tolist())\n",
    "                y_pred_tag.extend(y_loc_tag.tolist())\n",
    "                \n",
    "        print_metric_v0(y_true, y_pred_prob, y_pred_tag)"
   ]
  },
  {
   "cell_type": "code",
   "execution_count": 432,
   "id": "3e3bac9d",
   "metadata": {},
   "outputs": [
    {
     "name": "stdout",
     "output_type": "stream",
     "text": [
      "epoch= 0\n"
     ]
    },
    {
     "name": "stderr",
     "output_type": "stream",
     "text": [
      "[W ParallelNative.cpp:212] Warning: Cannot set number of intraop threads after parallel work has started or after set_num_threads call when using native parallel backend (function set_num_threads)\n",
      "[W ParallelNative.cpp:212] Warning: Cannot set number of intraop threads after parallel work has started or after set_num_threads call when using native parallel backend (function set_num_threads)\n",
      "[W ParallelNative.cpp:212] Warning: Cannot set number of intraop threads after parallel work has started or after set_num_threads call when using native parallel backend (function set_num_threads)\n",
      "[W ParallelNative.cpp:212] Warning: Cannot set number of intraop threads after parallel work has started or after set_num_threads call when using native parallel backend (function set_num_threads)\n"
     ]
    },
    {
     "name": "stdout",
     "output_type": "stream",
     "text": [
      "loss= 0.29463301298694716\n"
     ]
    },
    {
     "name": "stderr",
     "output_type": "stream",
     "text": [
      "[W ParallelNative.cpp:212] Warning: Cannot set number of intraop threads after parallel work has started or after set_num_threads call when using native parallel backend (function set_num_threads)\n",
      "[W ParallelNative.cpp:212] Warning: Cannot set number of intraop threads after parallel work has started or after set_num_threads call when using native parallel backend (function set_num_threads)\n",
      "[W ParallelNative.cpp:212] Warning: Cannot set number of intraop threads after parallel work has started or after set_num_threads call when using native parallel backend (function set_num_threads)\n",
      "[W ParallelNative.cpp:212] Warning: Cannot set number of intraop threads after parallel work has started or after set_num_threads call when using native parallel backend (function set_num_threads)\n"
     ]
    },
    {
     "name": "stdout",
     "output_type": "stream",
     "text": [
      "Accuracy::  0.8577231258905605 \n",
      "\n",
      "\n",
      "AuPR::  0.6946618899484465 \n",
      "\n",
      "\n",
      "              precision    recall  f1-score   support\n",
      "\n",
      "         0.0     0.9346    0.8777    0.9052    167389\n",
      "         1.0     0.6527    0.7893    0.7145     48767\n",
      "\n",
      "    accuracy                         0.8577    216156\n",
      "   macro avg     0.7937    0.8335    0.8099    216156\n",
      "weighted avg     0.8710    0.8577    0.8622    216156\n",
      " \n",
      "\n",
      "\n",
      "epoch= 1\n"
     ]
    },
    {
     "name": "stderr",
     "output_type": "stream",
     "text": [
      "[W ParallelNative.cpp:212] Warning: Cannot set number of intraop threads after parallel work has started or after set_num_threads call when using native parallel backend (function set_num_threads)\n",
      "[W ParallelNative.cpp:212] Warning: Cannot set number of intraop threads after parallel work has started or after set_num_threads call when using native parallel backend (function set_num_threads)\n",
      "[W ParallelNative.cpp:212] Warning: Cannot set number of intraop threads after parallel work has started or after set_num_threads call when using native parallel backend (function set_num_threads)\n",
      "[W ParallelNative.cpp:212] Warning: Cannot set number of intraop threads after parallel work has started or after set_num_threads call when using native parallel backend (function set_num_threads)\n"
     ]
    },
    {
     "name": "stdout",
     "output_type": "stream",
     "text": [
      "loss= 0.27968719401820247\n"
     ]
    },
    {
     "name": "stderr",
     "output_type": "stream",
     "text": [
      "[W ParallelNative.cpp:212] Warning: Cannot set number of intraop threads after parallel work has started or after set_num_threads call when using native parallel backend (function set_num_threads)\n",
      "[W ParallelNative.cpp:212] Warning: Cannot set number of intraop threads after parallel work has started or after set_num_threads call when using native parallel backend (function set_num_threads)\n",
      "[W ParallelNative.cpp:212] Warning: Cannot set number of intraop threads after parallel work has started or after set_num_threads call when using native parallel backend (function set_num_threads)\n",
      "[W ParallelNative.cpp:212] Warning: Cannot set number of intraop threads after parallel work has started or after set_num_threads call when using native parallel backend (function set_num_threads)\n"
     ]
    },
    {
     "name": "stdout",
     "output_type": "stream",
     "text": [
      "Accuracy::  0.8606099298654676 \n",
      "\n",
      "\n",
      "AuPR::  0.7084168867766714 \n",
      "\n",
      "\n",
      "              precision    recall  f1-score   support\n",
      "\n",
      "         0.0     0.9427    0.8730    0.9065    167389\n",
      "         1.0     0.6524    0.8179    0.7259     48767\n",
      "\n",
      "    accuracy                         0.8606    216156\n",
      "   macro avg     0.7976    0.8455    0.8162    216156\n",
      "weighted avg     0.8772    0.8606    0.8658    216156\n",
      " \n",
      "\n",
      "\n",
      "epoch= 2\n"
     ]
    },
    {
     "name": "stderr",
     "output_type": "stream",
     "text": [
      "[W ParallelNative.cpp:212] Warning: Cannot set number of intraop threads after parallel work has started or after set_num_threads call when using native parallel backend (function set_num_threads)\n",
      "[W ParallelNative.cpp:212] Warning: Cannot set number of intraop threads after parallel work has started or after set_num_threads call when using native parallel backend (function set_num_threads)\n",
      "[W ParallelNative.cpp:212] Warning: Cannot set number of intraop threads after parallel work has started or after set_num_threads call when using native parallel backend (function set_num_threads)\n",
      "[W ParallelNative.cpp:212] Warning: Cannot set number of intraop threads after parallel work has started or after set_num_threads call when using native parallel backend (function set_num_threads)\n"
     ]
    },
    {
     "name": "stdout",
     "output_type": "stream",
     "text": [
      "loss= 0.2769262204548796\n"
     ]
    },
    {
     "name": "stderr",
     "output_type": "stream",
     "text": [
      "[W ParallelNative.cpp:212] Warning: Cannot set number of intraop threads after parallel work has started or after set_num_threads call when using native parallel backend (function set_num_threads)\n",
      "[W ParallelNative.cpp:212] Warning: Cannot set number of intraop threads after parallel work has started or after set_num_threads call when using native parallel backend (function set_num_threads)\n",
      "[W ParallelNative.cpp:212] Warning: Cannot set number of intraop threads after parallel work has started or after set_num_threads call when using native parallel backend (function set_num_threads)\n",
      "[W ParallelNative.cpp:212] Warning: Cannot set number of intraop threads after parallel work has started or after set_num_threads call when using native parallel backend (function set_num_threads)\n"
     ]
    },
    {
     "name": "stdout",
     "output_type": "stream",
     "text": [
      "Accuracy::  0.8616415921834231 \n",
      "\n",
      "\n",
      "AuPR::  0.7129188911284786 \n",
      "\n",
      "\n",
      "              precision    recall  f1-score   support\n",
      "\n",
      "         0.0     0.9371    0.8804    0.9079    167389\n",
      "         1.0     0.6601    0.7971    0.7222     48767\n",
      "\n",
      "    accuracy                         0.8616    216156\n",
      "   macro avg     0.7986    0.8388    0.8150    216156\n",
      "weighted avg     0.8746    0.8616    0.8660    216156\n",
      " \n",
      "\n",
      "\n",
      "epoch= 3\n"
     ]
    },
    {
     "name": "stderr",
     "output_type": "stream",
     "text": [
      "[W ParallelNative.cpp:212] Warning: Cannot set number of intraop threads after parallel work has started or after set_num_threads call when using native parallel backend (function set_num_threads)\n",
      "[W ParallelNative.cpp:212] Warning: Cannot set number of intraop threads after parallel work has started or after set_num_threads call when using native parallel backend (function set_num_threads)\n",
      "[W ParallelNative.cpp:212] Warning: Cannot set number of intraop threads after parallel work has started or after set_num_threads call when using native parallel backend (function set_num_threads)\n",
      "[W ParallelNative.cpp:212] Warning: Cannot set number of intraop threads after parallel work has started or after set_num_threads call when using native parallel backend (function set_num_threads)\n"
     ]
    },
    {
     "name": "stdout",
     "output_type": "stream",
     "text": [
      "loss= 0.27554840708844713\n"
     ]
    },
    {
     "name": "stderr",
     "output_type": "stream",
     "text": [
      "[W ParallelNative.cpp:212] Warning: Cannot set number of intraop threads after parallel work has started or after set_num_threads call when using native parallel backend (function set_num_threads)\n",
      "[W ParallelNative.cpp:212] Warning: Cannot set number of intraop threads after parallel work has started or after set_num_threads call when using native parallel backend (function set_num_threads)\n",
      "[W ParallelNative.cpp:212] Warning: Cannot set number of intraop threads after parallel work has started or after set_num_threads call when using native parallel backend (function set_num_threads)\n",
      "[W ParallelNative.cpp:212] Warning: Cannot set number of intraop threads after parallel work has started or after set_num_threads call when using native parallel backend (function set_num_threads)\n"
     ]
    },
    {
     "name": "stdout",
     "output_type": "stream",
     "text": [
      "Accuracy::  0.8619978163918651 \n",
      "\n",
      "\n",
      "AuPR::  0.7154816942231785 \n",
      "\n",
      "\n",
      "              precision    recall  f1-score   support\n",
      "\n",
      "         0.0     0.9247    0.8946    0.9094    167389\n",
      "         1.0     0.6746    0.7501    0.7104     48767\n",
      "\n",
      "    accuracy                         0.8620    216156\n",
      "   macro avg     0.7997    0.8223    0.8099    216156\n",
      "weighted avg     0.8683    0.8620    0.8645    216156\n",
      " \n",
      "\n",
      "\n",
      "epoch= 4\n"
     ]
    },
    {
     "name": "stderr",
     "output_type": "stream",
     "text": [
      "[W ParallelNative.cpp:212] Warning: Cannot set number of intraop threads after parallel work has started or after set_num_threads call when using native parallel backend (function set_num_threads)\n",
      "[W ParallelNative.cpp:212] Warning: Cannot set number of intraop threads after parallel work has started or after set_num_threads call when using native parallel backend (function set_num_threads)\n",
      "[W ParallelNative.cpp:212] Warning: Cannot set number of intraop threads after parallel work has started or after set_num_threads call when using native parallel backend (function set_num_threads)\n",
      "[W ParallelNative.cpp:212] Warning: Cannot set number of intraop threads after parallel work has started or after set_num_threads call when using native parallel backend (function set_num_threads)\n"
     ]
    },
    {
     "name": "stdout",
     "output_type": "stream",
     "text": [
      "loss= 0.2744109914363497\n"
     ]
    },
    {
     "name": "stderr",
     "output_type": "stream",
     "text": [
      "[W ParallelNative.cpp:212] Warning: Cannot set number of intraop threads after parallel work has started or after set_num_threads call when using native parallel backend (function set_num_threads)\n",
      "[W ParallelNative.cpp:212] Warning: Cannot set number of intraop threads after parallel work has started or after set_num_threads call when using native parallel backend (function set_num_threads)\n",
      "[W ParallelNative.cpp:212] Warning: Cannot set number of intraop threads after parallel work has started or after set_num_threads call when using native parallel backend (function set_num_threads)\n",
      "[W ParallelNative.cpp:212] Warning: Cannot set number of intraop threads after parallel work has started or after set_num_threads call when using native parallel backend (function set_num_threads)\n"
     ]
    },
    {
     "name": "stdout",
     "output_type": "stream",
     "text": [
      "Accuracy::  0.8626269916171654 \n",
      "\n",
      "\n",
      "AuPR::  0.7178317485855373 \n",
      "\n",
      "\n",
      "              precision    recall  f1-score   support\n",
      "\n",
      "         0.0     0.9276    0.8923    0.9096    167389\n",
      "         1.0     0.6730    0.7609    0.7142     48767\n",
      "\n",
      "    accuracy                         0.8626    216156\n",
      "   macro avg     0.8003    0.8266    0.8119    216156\n",
      "weighted avg     0.8701    0.8626    0.8655    216156\n",
      " \n",
      "\n",
      "\n",
      "epoch= 5\n"
     ]
    },
    {
     "name": "stderr",
     "output_type": "stream",
     "text": [
      "[W ParallelNative.cpp:212] Warning: Cannot set number of intraop threads after parallel work has started or after set_num_threads call when using native parallel backend (function set_num_threads)\n",
      "[W ParallelNative.cpp:212] Warning: Cannot set number of intraop threads after parallel work has started or after set_num_threads call when using native parallel backend (function set_num_threads)\n",
      "[W ParallelNative.cpp:212] Warning: Cannot set number of intraop threads after parallel work has started or after set_num_threads call when using native parallel backend (function set_num_threads)\n",
      "[W ParallelNative.cpp:212] Warning: Cannot set number of intraop threads after parallel work has started or after set_num_threads call when using native parallel backend (function set_num_threads)\n"
     ]
    },
    {
     "name": "stdout",
     "output_type": "stream",
     "text": [
      "loss= 0.27365292502604827\n"
     ]
    },
    {
     "name": "stderr",
     "output_type": "stream",
     "text": [
      "[W ParallelNative.cpp:212] Warning: Cannot set number of intraop threads after parallel work has started or after set_num_threads call when using native parallel backend (function set_num_threads)\n",
      "[W ParallelNative.cpp:212] Warning: Cannot set number of intraop threads after parallel work has started or after set_num_threads call when using native parallel backend (function set_num_threads)\n",
      "[W ParallelNative.cpp:212] Warning: Cannot set number of intraop threads after parallel work has started or after set_num_threads call when using native parallel backend (function set_num_threads)\n",
      "[W ParallelNative.cpp:212] Warning: Cannot set number of intraop threads after parallel work has started or after set_num_threads call when using native parallel backend (function set_num_threads)\n"
     ]
    },
    {
     "name": "stdout",
     "output_type": "stream",
     "text": [
      "Accuracy::  0.8633764503414201 \n",
      "\n",
      "\n",
      "AuPR::  0.7179470836043305 \n",
      "\n",
      "\n",
      "              precision    recall  f1-score   support\n",
      "\n",
      "         0.0     0.9332    0.8871    0.9096    167389\n",
      "         1.0     0.6686    0.7819    0.7209     48767\n",
      "\n",
      "    accuracy                         0.8634    216156\n",
      "   macro avg     0.8009    0.8345    0.8152    216156\n",
      "weighted avg     0.8735    0.8634    0.8670    216156\n",
      " \n",
      "\n",
      "\n",
      "epoch= 6\n"
     ]
    },
    {
     "name": "stderr",
     "output_type": "stream",
     "text": [
      "[W ParallelNative.cpp:212] Warning: Cannot set number of intraop threads after parallel work has started or after set_num_threads call when using native parallel backend (function set_num_threads)\n",
      "[W ParallelNative.cpp:212] Warning: Cannot set number of intraop threads after parallel work has started or after set_num_threads call when using native parallel backend (function set_num_threads)\n",
      "[W ParallelNative.cpp:212] Warning: Cannot set number of intraop threads after parallel work has started or after set_num_threads call when using native parallel backend (function set_num_threads)\n",
      "[W ParallelNative.cpp:212] Warning: Cannot set number of intraop threads after parallel work has started or after set_num_threads call when using native parallel backend (function set_num_threads)\n"
     ]
    },
    {
     "name": "stdout",
     "output_type": "stream",
     "text": [
      "loss= 0.27300895127983754\n"
     ]
    },
    {
     "name": "stderr",
     "output_type": "stream",
     "text": [
      "[W ParallelNative.cpp:212] Warning: Cannot set number of intraop threads after parallel work has started or after set_num_threads call when using native parallel backend (function set_num_threads)\n",
      "[W ParallelNative.cpp:212] Warning: Cannot set number of intraop threads after parallel work has started or after set_num_threads call when using native parallel backend (function set_num_threads)\n",
      "[W ParallelNative.cpp:212] Warning: Cannot set number of intraop threads after parallel work has started or after set_num_threads call when using native parallel backend (function set_num_threads)\n",
      "[W ParallelNative.cpp:212] Warning: Cannot set number of intraop threads after parallel work has started or after set_num_threads call when using native parallel backend (function set_num_threads)\n"
     ]
    },
    {
     "name": "stdout",
     "output_type": "stream",
     "text": [
      "Accuracy::  0.8638945946446085 \n",
      "\n",
      "\n",
      "AuPR::  0.7186453176124741 \n",
      "\n",
      "\n",
      "              precision    recall  f1-score   support\n",
      "\n",
      "         0.0     0.9311    0.8901    0.9101    167389\n",
      "         1.0     0.6723    0.7740    0.7196     48767\n",
      "\n",
      "    accuracy                         0.8639    216156\n",
      "   macro avg     0.8017    0.8320    0.8149    216156\n",
      "weighted avg     0.8727    0.8639    0.8671    216156\n",
      " \n",
      "\n",
      "\n",
      "epoch= 7\n"
     ]
    },
    {
     "name": "stderr",
     "output_type": "stream",
     "text": [
      "[W ParallelNative.cpp:212] Warning: Cannot set number of intraop threads after parallel work has started or after set_num_threads call when using native parallel backend (function set_num_threads)\n",
      "[W ParallelNative.cpp:212] Warning: Cannot set number of intraop threads after parallel work has started or after set_num_threads call when using native parallel backend (function set_num_threads)\n",
      "[W ParallelNative.cpp:212] Warning: Cannot set number of intraop threads after parallel work has started or after set_num_threads call when using native parallel backend (function set_num_threads)\n",
      "[W ParallelNative.cpp:212] Warning: Cannot set number of intraop threads after parallel work has started or after set_num_threads call when using native parallel backend (function set_num_threads)\n"
     ]
    },
    {
     "name": "stdout",
     "output_type": "stream",
     "text": [
      "loss= 0.2725175900625443\n"
     ]
    },
    {
     "name": "stderr",
     "output_type": "stream",
     "text": [
      "[W ParallelNative.cpp:212] Warning: Cannot set number of intraop threads after parallel work has started or after set_num_threads call when using native parallel backend (function set_num_threads)\n",
      "[W ParallelNative.cpp:212] Warning: Cannot set number of intraop threads after parallel work has started or after set_num_threads call when using native parallel backend (function set_num_threads)\n",
      "[W ParallelNative.cpp:212] Warning: Cannot set number of intraop threads after parallel work has started or after set_num_threads call when using native parallel backend (function set_num_threads)\n",
      "[W ParallelNative.cpp:212] Warning: Cannot set number of intraop threads after parallel work has started or after set_num_threads call when using native parallel backend (function set_num_threads)\n"
     ]
    },
    {
     "name": "stdout",
     "output_type": "stream",
     "text": [
      "Accuracy::  0.8644960121393808 \n",
      "\n",
      "\n",
      "AuPR::  0.7200955704694975 \n",
      "\n",
      "\n",
      "              precision    recall  f1-score   support\n",
      "\n",
      "         0.0     0.9318    0.8902    0.9105    167389\n",
      "         1.0     0.6732    0.7762    0.7210     48767\n",
      "\n",
      "    accuracy                         0.8645    216156\n",
      "   macro avg     0.8025    0.8332    0.8158    216156\n",
      "weighted avg     0.8734    0.8645    0.8678    216156\n",
      " \n",
      "\n",
      "\n",
      "epoch= 8\n"
     ]
    },
    {
     "name": "stderr",
     "output_type": "stream",
     "text": [
      "[W ParallelNative.cpp:212] Warning: Cannot set number of intraop threads after parallel work has started or after set_num_threads call when using native parallel backend (function set_num_threads)\n",
      "[W ParallelNative.cpp:212] Warning: Cannot set number of intraop threads after parallel work has started or after set_num_threads call when using native parallel backend (function set_num_threads)\n",
      "[W ParallelNative.cpp:212] Warning: Cannot set number of intraop threads after parallel work has started or after set_num_threads call when using native parallel backend (function set_num_threads)\n",
      "[W ParallelNative.cpp:212] Warning: Cannot set number of intraop threads after parallel work has started or after set_num_threads call when using native parallel backend (function set_num_threads)\n"
     ]
    },
    {
     "name": "stdout",
     "output_type": "stream",
     "text": [
      "loss= 0.2720805158268558\n"
     ]
    },
    {
     "name": "stderr",
     "output_type": "stream",
     "text": [
      "[W ParallelNative.cpp:212] Warning: Cannot set number of intraop threads after parallel work has started or after set_num_threads call when using native parallel backend (function set_num_threads)\n",
      "[W ParallelNative.cpp:212] Warning: Cannot set number of intraop threads after parallel work has started or after set_num_threads call when using native parallel backend (function set_num_threads)\n",
      "[W ParallelNative.cpp:212] Warning: Cannot set number of intraop threads after parallel work has started or after set_num_threads call when using native parallel backend (function set_num_threads)\n",
      "[W ParallelNative.cpp:212] Warning: Cannot set number of intraop threads after parallel work has started or after set_num_threads call when using native parallel backend (function set_num_threads)\n"
     ]
    },
    {
     "name": "stdout",
     "output_type": "stream",
     "text": [
      "Accuracy::  0.8642832028719999 \n",
      "\n",
      "\n",
      "AuPR::  0.721170161919323 \n",
      "\n",
      "\n",
      "              precision    recall  f1-score   support\n",
      "\n",
      "         0.0     0.9391    0.8819    0.9096    167389\n",
      "         1.0     0.6648    0.8038    0.7277     48767\n",
      "\n",
      "    accuracy                         0.8643    216156\n",
      "   macro avg     0.8019    0.8428    0.8187    216156\n",
      "weighted avg     0.8772    0.8643    0.8686    216156\n",
      " \n",
      "\n",
      "\n",
      "epoch= 9\n"
     ]
    },
    {
     "name": "stderr",
     "output_type": "stream",
     "text": [
      "[W ParallelNative.cpp:212] Warning: Cannot set number of intraop threads after parallel work has started or after set_num_threads call when using native parallel backend (function set_num_threads)\n",
      "[W ParallelNative.cpp:212] Warning: Cannot set number of intraop threads after parallel work has started or after set_num_threads call when using native parallel backend (function set_num_threads)\n",
      "[W ParallelNative.cpp:212] Warning: Cannot set number of intraop threads after parallel work has started or after set_num_threads call when using native parallel backend (function set_num_threads)\n",
      "[W ParallelNative.cpp:212] Warning: Cannot set number of intraop threads after parallel work has started or after set_num_threads call when using native parallel backend (function set_num_threads)\n"
     ]
    },
    {
     "name": "stdout",
     "output_type": "stream",
     "text": [
      "loss= 0.27174479223887554\n"
     ]
    },
    {
     "name": "stderr",
     "output_type": "stream",
     "text": [
      "[W ParallelNative.cpp:212] Warning: Cannot set number of intraop threads after parallel work has started or after set_num_threads call when using native parallel backend (function set_num_threads)\n",
      "[W ParallelNative.cpp:212] Warning: Cannot set number of intraop threads after parallel work has started or after set_num_threads call when using native parallel backend (function set_num_threads)\n",
      "[W ParallelNative.cpp:212] Warning: Cannot set number of intraop threads after parallel work has started or after set_num_threads call when using native parallel backend (function set_num_threads)\n",
      "[W ParallelNative.cpp:212] Warning: Cannot set number of intraop threads after parallel work has started or after set_num_threads call when using native parallel backend (function set_num_threads)\n"
     ]
    },
    {
     "name": "stdout",
     "output_type": "stream",
     "text": [
      "Accuracy::  0.8637789374340754 \n",
      "\n",
      "\n",
      "AuPR::  0.7210329421619828 \n",
      "\n",
      "\n",
      "              precision    recall  f1-score   support\n",
      "\n",
      "         0.0     0.9266    0.8950    0.9105    167389\n",
      "         1.0     0.6774    0.7565    0.7148     48767\n",
      "\n",
      "    accuracy                         0.8638    216156\n",
      "   macro avg     0.8020    0.8258    0.8126    216156\n",
      "weighted avg     0.8703    0.8638    0.8664    216156\n",
      " \n",
      "\n",
      "\n"
     ]
    },
    {
     "data": {
      "image/png": "[encoded data removed]",
      "text/plain": [
       "<Figure size 432x288 with 1 Axes>"
      ]
     },
     "metadata": {
      "needs_background": "light"
     },
     "output_type": "display_data"
    }
   ],
   "source": [
    "model = LSTM(len(vocab)+2, 64, 64)\n",
    "train(train_loader, test_loader, model, 10)"
   ]
  },
  {
   "cell_type": "code",
   "execution_count": 440,
   "id": "bd6d9d72",
   "metadata": {},
   "outputs": [
    {
     "data": {
      "text/plain": [
       "<torch._C.Generator at 0x112948390>"
      ]
     },
     "execution_count": 440,
     "metadata": {},
     "output_type": "execute_result"
    }
   ],
   "source": [
    "#Reproducing same results\n",
    "SEED = 2021\n",
    "torch.manual_seed(SEED)"
   ]
  },
  {
   "cell_type": "code",
   "execution_count": 446,
   "id": "ab76d65d",
   "metadata": {},
   "outputs": [],
   "source": [
    "# Bidirectional LSTM\n",
    "\n",
    "class BiLSTM(torch.nn.Module) :\n",
    "    def __init__(self, vocab_size, embedding_dim, hidden_dim) :\n",
    "        super().__init__()\n",
    "        self.embeddings = nn.Embedding(vocab_size, embedding_dim, padding_idx=0)\n",
    "        self.lstm = nn.LSTM(embedding_dim, hidden_dim, batch_first=True, bidirectional=True)\n",
    "        self.linear = nn.Linear(2*hidden_dim, 1)\n",
    "        self.dropout = nn.Dropout(0.5)\n",
    "        \n",
    "    def forward(self, x, s):\n",
    "        x = self.embeddings(x)\n",
    "        x = self.dropout(x)\n",
    "        x_pack = pack_padded_sequence(x, s, batch_first=True, enforce_sorted=False)\n",
    "        lstm_out, (ht, ct) = self.lstm(x_pack)\n",
    "        hidden = torch.cat((ht[0,:,:], ht[1,:,:]), dim = 1)\n",
    "        return self.linear(hidden)"
   ]
  },
  {
   "cell_type": "code",
   "execution_count": 447,
   "id": "a06259e3",
   "metadata": {},
   "outputs": [
    {
     "name": "stdout",
     "output_type": "stream",
     "text": [
      "epoch= 0\n"
     ]
    },
    {
     "name": "stderr",
     "output_type": "stream",
     "text": [
      "[W ParallelNative.cpp:212] Warning: Cannot set number of intraop threads after parallel work has started or after set_num_threads call when using native parallel backend (function set_num_threads)\n",
      "[W ParallelNative.cpp:212] Warning: Cannot set number of intraop threads after parallel work has started or after set_num_threads call when using native parallel backend (function set_num_threads)\n",
      "[W ParallelNative.cpp:212] Warning: Cannot set number of intraop threads after parallel work has started or after set_num_threads call when using native parallel backend (function set_num_threads)\n",
      "[W ParallelNative.cpp:212] Warning: Cannot set number of intraop threads after parallel work has started or after set_num_threads call when using native parallel backend (function set_num_threads)\n"
     ]
    },
    {
     "name": "stdout",
     "output_type": "stream",
     "text": [
      "loss= 0.29086201590659566\n"
     ]
    },
    {
     "name": "stderr",
     "output_type": "stream",
     "text": [
      "[W ParallelNative.cpp:212] Warning: Cannot set number of intraop threads after parallel work has started or after set_num_threads call when using native parallel backend (function set_num_threads)\n",
      "[W ParallelNative.cpp:212] Warning: Cannot set number of intraop threads after parallel work has started or after set_num_threads call when using native parallel backend (function set_num_threads)\n",
      "[W ParallelNative.cpp:212] Warning: Cannot set number of intraop threads after parallel work has started or after set_num_threads call when using native parallel backend (function set_num_threads)\n",
      "[W ParallelNative.cpp:212] Warning: Cannot set number of intraop threads after parallel work has started or after set_num_threads call when using native parallel backend (function set_num_threads)\n"
     ]
    },
    {
     "name": "stdout",
     "output_type": "stream",
     "text": [
      "Accuracy::  0.8596522881622531 \n",
      "\n",
      "\n",
      "AuPR::  0.7075055163762292 \n",
      "\n",
      "\n",
      "              precision    recall  f1-score   support\n",
      "\n",
      "         0.0     0.9466    0.8677    0.9054    167389\n",
      "         1.0     0.6469    0.8320    0.7279     48767\n",
      "\n",
      "    accuracy                         0.8597    216156\n",
      "   macro avg     0.7968    0.8499    0.8167    216156\n",
      "weighted avg     0.8790    0.8597    0.8654    216156\n",
      " \n",
      "\n",
      "\n",
      "epoch= 1\n"
     ]
    },
    {
     "name": "stderr",
     "output_type": "stream",
     "text": [
      "[W ParallelNative.cpp:212] Warning: Cannot set number of intraop threads after parallel work has started or after set_num_threads call when using native parallel backend (function set_num_threads)\n",
      "[W ParallelNative.cpp:212] Warning: Cannot set number of intraop threads after parallel work has started or after set_num_threads call when using native parallel backend (function set_num_threads)\n",
      "[W ParallelNative.cpp:212] Warning: Cannot set number of intraop threads after parallel work has started or after set_num_threads call when using native parallel backend (function set_num_threads)\n",
      "[W ParallelNative.cpp:212] Warning: Cannot set number of intraop threads after parallel work has started or after set_num_threads call when using native parallel backend (function set_num_threads)\n"
     ]
    },
    {
     "name": "stdout",
     "output_type": "stream",
     "text": [
      "loss= 0.27960763953829904\n"
     ]
    },
    {
     "name": "stderr",
     "output_type": "stream",
     "text": [
      "[W ParallelNative.cpp:212] Warning: Cannot set number of intraop threads after parallel work has started or after set_num_threads call when using native parallel backend (function set_num_threads)\n",
      "[W ParallelNative.cpp:212] Warning: Cannot set number of intraop threads after parallel work has started or after set_num_threads call when using native parallel backend (function set_num_threads)\n",
      "[W ParallelNative.cpp:212] Warning: Cannot set number of intraop threads after parallel work has started or after set_num_threads call when using native parallel backend (function set_num_threads)\n",
      "[W ParallelNative.cpp:212] Warning: Cannot set number of intraop threads after parallel work has started or after set_num_threads call when using native parallel backend (function set_num_threads)\n"
     ]
    },
    {
     "name": "stdout",
     "output_type": "stream",
     "text": [
      "Accuracy::  0.8620764632950276 \n",
      "\n",
      "\n",
      "AuPR::  0.7141829977383995 \n",
      "\n",
      "\n",
      "              precision    recall  f1-score   support\n",
      "\n",
      "         0.0     0.9390    0.8790    0.9080    167389\n",
      "         1.0     0.6594    0.8040    0.7246     48767\n",
      "\n",
      "    accuracy                         0.8621    216156\n",
      "   macro avg     0.7992    0.8415    0.8163    216156\n",
      "weighted avg     0.8759    0.8621    0.8666    216156\n",
      " \n",
      "\n",
      "\n",
      "epoch= 2\n"
     ]
    },
    {
     "name": "stderr",
     "output_type": "stream",
     "text": [
      "[W ParallelNative.cpp:212] Warning: Cannot set number of intraop threads after parallel work has started or after set_num_threads call when using native parallel backend (function set_num_threads)\n",
      "[W ParallelNative.cpp:212] Warning: Cannot set number of intraop threads after parallel work has started or after set_num_threads call when using native parallel backend (function set_num_threads)\n",
      "[W ParallelNative.cpp:212] Warning: Cannot set number of intraop threads after parallel work has started or after set_num_threads call when using native parallel backend (function set_num_threads)\n",
      "[W ParallelNative.cpp:212] Warning: Cannot set number of intraop threads after parallel work has started or after set_num_threads call when using native parallel backend (function set_num_threads)\n"
     ]
    },
    {
     "name": "stdout",
     "output_type": "stream",
     "text": [
      "loss= 0.276014038264322\n"
     ]
    },
    {
     "name": "stderr",
     "output_type": "stream",
     "text": [
      "[W ParallelNative.cpp:212] Warning: Cannot set number of intraop threads after parallel work has started or after set_num_threads call when using native parallel backend (function set_num_threads)\n",
      "[W ParallelNative.cpp:212] Warning: Cannot set number of intraop threads after parallel work has started or after set_num_threads call when using native parallel backend (function set_num_threads)\n",
      "[W ParallelNative.cpp:212] Warning: Cannot set number of intraop threads after parallel work has started or after set_num_threads call when using native parallel backend (function set_num_threads)\n",
      "[W ParallelNative.cpp:212] Warning: Cannot set number of intraop threads after parallel work has started or after set_num_threads call when using native parallel backend (function set_num_threads)\n"
     ]
    },
    {
     "name": "stdout",
     "output_type": "stream",
     "text": [
      "Accuracy::  0.8625159606950535 \n",
      "\n",
      "\n",
      "AuPR::  0.7148884669323899 \n",
      "\n",
      "\n",
      "              precision    recall  f1-score   support\n",
      "\n",
      "         0.0     0.9321    0.8871    0.9090    167389\n",
      "         1.0     0.6675    0.7783    0.7186     48767\n",
      "\n",
      "    accuracy                         0.8625    216156\n",
      "   macro avg     0.7998    0.8327    0.8138    216156\n",
      "weighted avg     0.8724    0.8625    0.8661    216156\n",
      " \n",
      "\n",
      "\n",
      "epoch= 3\n"
     ]
    },
    {
     "name": "stderr",
     "output_type": "stream",
     "text": [
      "[W ParallelNative.cpp:212] Warning: Cannot set number of intraop threads after parallel work has started or after set_num_threads call when using native parallel backend (function set_num_threads)\n",
      "[W ParallelNative.cpp:212] Warning: Cannot set number of intraop threads after parallel work has started or after set_num_threads call when using native parallel backend (function set_num_threads)\n",
      "[W ParallelNative.cpp:212] Warning: Cannot set number of intraop threads after parallel work has started or after set_num_threads call when using native parallel backend (function set_num_threads)\n",
      "[W ParallelNative.cpp:212] Warning: Cannot set number of intraop threads after parallel work has started or after set_num_threads call when using native parallel backend (function set_num_threads)\n"
     ]
    },
    {
     "name": "stdout",
     "output_type": "stream",
     "text": [
      "loss= 0.2744527222186946\n"
     ]
    },
    {
     "name": "stderr",
     "output_type": "stream",
     "text": [
      "[W ParallelNative.cpp:212] Warning: Cannot set number of intraop threads after parallel work has started or after set_num_threads call when using native parallel backend (function set_num_threads)\n",
      "[W ParallelNative.cpp:212] Warning: Cannot set number of intraop threads after parallel work has started or after set_num_threads call when using native parallel backend (function set_num_threads)\n",
      "[W ParallelNative.cpp:212] Warning: Cannot set number of intraop threads after parallel work has started or after set_num_threads call when using native parallel backend (function set_num_threads)\n",
      "[W ParallelNative.cpp:212] Warning: Cannot set number of intraop threads after parallel work has started or after set_num_threads call when using native parallel backend (function set_num_threads)\n"
     ]
    },
    {
     "name": "stdout",
     "output_type": "stream",
     "text": [
      "Accuracy::  0.864028757008827 \n",
      "\n",
      "\n",
      "AuPR::  0.7193624976536565 \n",
      "\n",
      "\n",
      "              precision    recall  f1-score   support\n",
      "\n",
      "         0.0     0.9381    0.8827    0.9095    167389\n",
      "         1.0     0.6652    0.7999    0.7264     48767\n",
      "\n",
      "    accuracy                         0.8640    216156\n",
      "   macro avg     0.8016    0.8413    0.8180    216156\n",
      "weighted avg     0.8765    0.8640    0.8682    216156\n",
      " \n",
      "\n",
      "\n",
      "epoch= 4\n"
     ]
    },
    {
     "name": "stderr",
     "output_type": "stream",
     "text": [
      "[W ParallelNative.cpp:212] Warning: Cannot set number of intraop threads after parallel work has started or after set_num_threads call when using native parallel backend (function set_num_threads)\n",
      "[W ParallelNative.cpp:212] Warning: Cannot set number of intraop threads after parallel work has started or after set_num_threads call when using native parallel backend (function set_num_threads)\n",
      "[W ParallelNative.cpp:212] Warning: Cannot set number of intraop threads after parallel work has started or after set_num_threads call when using native parallel backend (function set_num_threads)\n",
      "[W ParallelNative.cpp:212] Warning: Cannot set number of intraop threads after parallel work has started or after set_num_threads call when using native parallel backend (function set_num_threads)\n"
     ]
    },
    {
     "name": "stdout",
     "output_type": "stream",
     "text": [
      "loss= 0.2730570738912768\n"
     ]
    },
    {
     "name": "stderr",
     "output_type": "stream",
     "text": [
      "[W ParallelNative.cpp:212] Warning: Cannot set number of intraop threads after parallel work has started or after set_num_threads call when using native parallel backend (function set_num_threads)\n",
      "[W ParallelNative.cpp:212] Warning: Cannot set number of intraop threads after parallel work has started or after set_num_threads call when using native parallel backend (function set_num_threads)\n",
      "[W ParallelNative.cpp:212] Warning: Cannot set number of intraop threads after parallel work has started or after set_num_threads call when using native parallel backend (function set_num_threads)\n",
      "[W ParallelNative.cpp:212] Warning: Cannot set number of intraop threads after parallel work has started or after set_num_threads call when using native parallel backend (function set_num_threads)\n"
     ]
    },
    {
     "name": "stdout",
     "output_type": "stream",
     "text": [
      "Accuracy::  0.8638945946446085 \n",
      "\n",
      "\n",
      "AuPR::  0.7206918171442133 \n",
      "\n",
      "\n",
      "              precision    recall  f1-score   support\n",
      "\n",
      "         0.0     0.9449    0.8752    0.9088    167389\n",
      "         1.0     0.6583    0.8250    0.7323     48767\n",
      "\n",
      "    accuracy                         0.8639    216156\n",
      "   macro avg     0.8016    0.8501    0.8205    216156\n",
      "weighted avg     0.8803    0.8639    0.8689    216156\n",
      " \n",
      "\n",
      "\n",
      "epoch= 5\n"
     ]
    },
    {
     "name": "stderr",
     "output_type": "stream",
     "text": [
      "[W ParallelNative.cpp:212] Warning: Cannot set number of intraop threads after parallel work has started or after set_num_threads call when using native parallel backend (function set_num_threads)\n",
      "[W ParallelNative.cpp:212] Warning: Cannot set number of intraop threads after parallel work has started or after set_num_threads call when using native parallel backend (function set_num_threads)\n",
      "[W ParallelNative.cpp:212] Warning: Cannot set number of intraop threads after parallel work has started or after set_num_threads call when using native parallel backend (function set_num_threads)\n",
      "[W ParallelNative.cpp:212] Warning: Cannot set number of intraop threads after parallel work has started or after set_num_threads call when using native parallel backend (function set_num_threads)\n"
     ]
    },
    {
     "name": "stdout",
     "output_type": "stream",
     "text": [
      "loss= 0.27226345639747895\n"
     ]
    },
    {
     "name": "stderr",
     "output_type": "stream",
     "text": [
      "[W ParallelNative.cpp:212] Warning: Cannot set number of intraop threads after parallel work has started or after set_num_threads call when using native parallel backend (function set_num_threads)\n",
      "[W ParallelNative.cpp:212] Warning: Cannot set number of intraop threads after parallel work has started or after set_num_threads call when using native parallel backend (function set_num_threads)\n",
      "[W ParallelNative.cpp:212] Warning: Cannot set number of intraop threads after parallel work has started or after set_num_threads call when using native parallel backend (function set_num_threads)\n",
      "[W ParallelNative.cpp:212] Warning: Cannot set number of intraop threads after parallel work has started or after set_num_threads call when using native parallel backend (function set_num_threads)\n"
     ]
    },
    {
     "name": "stdout",
     "output_type": "stream",
     "text": [
      "Accuracy::  0.8645237698699088 \n",
      "\n",
      "\n",
      "AuPR::  0.7194530507036073 \n",
      "\n",
      "\n",
      "              precision    recall  f1-score   support\n",
      "\n",
      "         0.0     0.9377    0.8837    0.9099    167389\n",
      "         1.0     0.6668    0.7986    0.7268     48767\n",
      "\n",
      "    accuracy                         0.8645    216156\n",
      "   macro avg     0.8023    0.8412    0.8184    216156\n",
      "weighted avg     0.8766    0.8645    0.8686    216156\n",
      " \n",
      "\n",
      "\n",
      "epoch= 6\n"
     ]
    },
    {
     "name": "stderr",
     "output_type": "stream",
     "text": [
      "[W ParallelNative.cpp:212] Warning: Cannot set number of intraop threads after parallel work has started or after set_num_threads call when using native parallel backend (function set_num_threads)\n",
      "[W ParallelNative.cpp:212] Warning: Cannot set number of intraop threads after parallel work has started or after set_num_threads call when using native parallel backend (function set_num_threads)\n",
      "[W ParallelNative.cpp:212] Warning: Cannot set number of intraop threads after parallel work has started or after set_num_threads call when using native parallel backend (function set_num_threads)\n",
      "[W ParallelNative.cpp:212] Warning: Cannot set number of intraop threads after parallel work has started or after set_num_threads call when using native parallel backend (function set_num_threads)\n"
     ]
    },
    {
     "name": "stdout",
     "output_type": "stream",
     "text": [
      "loss= 0.2716080558302404\n"
     ]
    },
    {
     "name": "stderr",
     "output_type": "stream",
     "text": [
      "[W ParallelNative.cpp:212] Warning: Cannot set number of intraop threads after parallel work has started or after set_num_threads call when using native parallel backend (function set_num_threads)\n",
      "[W ParallelNative.cpp:212] Warning: Cannot set number of intraop threads after parallel work has started or after set_num_threads call when using native parallel backend (function set_num_threads)\n",
      "[W ParallelNative.cpp:212] Warning: Cannot set number of intraop threads after parallel work has started or after set_num_threads call when using native parallel backend (function set_num_threads)\n",
      "[W ParallelNative.cpp:212] Warning: Cannot set number of intraop threads after parallel work has started or after set_num_threads call when using native parallel backend (function set_num_threads)\n"
     ]
    },
    {
     "name": "stdout",
     "output_type": "stream",
     "text": [
      "Accuracy::  0.8644127389477969 \n",
      "\n",
      "\n",
      "AuPR::  0.7217943001131786 \n",
      "\n",
      "\n",
      "              precision    recall  f1-score   support\n",
      "\n",
      "         0.0     0.9427    0.8783    0.9094    167389\n",
      "         1.0     0.6616    0.8167    0.7310     48767\n",
      "\n",
      "    accuracy                         0.8644    216156\n",
      "   macro avg     0.8022    0.8475    0.8202    216156\n",
      "weighted avg     0.8793    0.8644    0.8691    216156\n",
      " \n",
      "\n",
      "\n",
      "epoch= 7\n"
     ]
    },
    {
     "name": "stderr",
     "output_type": "stream",
     "text": [
      "[W ParallelNative.cpp:212] Warning: Cannot set number of intraop threads after parallel work has started or after set_num_threads call when using native parallel backend (function set_num_threads)\n",
      "[W ParallelNative.cpp:212] Warning: Cannot set number of intraop threads after parallel work has started or after set_num_threads call when using native parallel backend (function set_num_threads)\n",
      "[W ParallelNative.cpp:212] Warning: Cannot set number of intraop threads after parallel work has started or after set_num_threads call when using native parallel backend (function set_num_threads)\n",
      "[W ParallelNative.cpp:212] Warning: Cannot set number of intraop threads after parallel work has started or after set_num_threads call when using native parallel backend (function set_num_threads)\n"
     ]
    },
    {
     "name": "stdout",
     "output_type": "stream",
     "text": [
      "loss= 0.27116846776180753\n"
     ]
    },
    {
     "name": "stderr",
     "output_type": "stream",
     "text": [
      "[W ParallelNative.cpp:212] Warning: Cannot set number of intraop threads after parallel work has started or after set_num_threads call when using native parallel backend (function set_num_threads)\n",
      "[W ParallelNative.cpp:212] Warning: Cannot set number of intraop threads after parallel work has started or after set_num_threads call when using native parallel backend (function set_num_threads)\n",
      "[W ParallelNative.cpp:212] Warning: Cannot set number of intraop threads after parallel work has started or after set_num_threads call when using native parallel backend (function set_num_threads)\n",
      "[W ParallelNative.cpp:212] Warning: Cannot set number of intraop threads after parallel work has started or after set_num_threads call when using native parallel backend (function set_num_threads)\n"
     ]
    },
    {
     "name": "stdout",
     "output_type": "stream",
     "text": [
      "Accuracy::  0.8635152389940598 \n",
      "\n",
      "\n",
      "AuPR::  0.7204927509617878 \n",
      "\n",
      "\n",
      "              precision    recall  f1-score   support\n",
      "\n",
      "         0.0     0.9220    0.8999    0.9108    167389\n",
      "         1.0     0.6825    0.7386    0.7094     48767\n",
      "\n",
      "    accuracy                         0.8635    216156\n",
      "   macro avg     0.8023    0.8192    0.8101    216156\n",
      "weighted avg     0.8679    0.8635    0.8654    216156\n",
      " \n",
      "\n",
      "\n",
      "epoch= 8\n"
     ]
    },
    {
     "name": "stderr",
     "output_type": "stream",
     "text": [
      "[W ParallelNative.cpp:212] Warning: Cannot set number of intraop threads after parallel work has started or after set_num_threads call when using native parallel backend (function set_num_threads)\n",
      "[W ParallelNative.cpp:212] Warning: Cannot set number of intraop threads after parallel work has started or after set_num_threads call when using native parallel backend (function set_num_threads)\n",
      "[W ParallelNative.cpp:212] Warning: Cannot set number of intraop threads after parallel work has started or after set_num_threads call when using native parallel backend (function set_num_threads)\n",
      "[W ParallelNative.cpp:212] Warning: Cannot set number of intraop threads after parallel work has started or after set_num_threads call when using native parallel backend (function set_num_threads)\n"
     ]
    },
    {
     "name": "stdout",
     "output_type": "stream",
     "text": [
      "loss= 0.2706945954404059\n"
     ]
    },
    {
     "name": "stderr",
     "output_type": "stream",
     "text": [
      "[W ParallelNative.cpp:212] Warning: Cannot set number of intraop threads after parallel work has started or after set_num_threads call when using native parallel backend (function set_num_threads)\n",
      "[W ParallelNative.cpp:212] Warning: Cannot set number of intraop threads after parallel work has started or after set_num_threads call when using native parallel backend (function set_num_threads)\n",
      "[W ParallelNative.cpp:212] Warning: Cannot set number of intraop threads after parallel work has started or after set_num_threads call when using native parallel backend (function set_num_threads)\n",
      "[W ParallelNative.cpp:212] Warning: Cannot set number of intraop threads after parallel work has started or after set_num_threads call when using native parallel backend (function set_num_threads)\n"
     ]
    },
    {
     "name": "stdout",
     "output_type": "stream",
     "text": [
      "Accuracy::  0.8652963600362701 \n",
      "\n",
      "\n",
      "AuPR::  0.7229572484996095 \n",
      "\n",
      "\n",
      "              precision    recall  f1-score   support\n",
      "\n",
      "         0.0     0.9355    0.8873    0.9107    167389\n",
      "         1.0     0.6712    0.7899    0.7257     48767\n",
      "\n",
      "    accuracy                         0.8653    216156\n",
      "   macro avg     0.8033    0.8386    0.8182    216156\n",
      "weighted avg     0.8758    0.8653    0.8690    216156\n",
      " \n",
      "\n",
      "\n",
      "epoch= 9\n"
     ]
    },
    {
     "name": "stderr",
     "output_type": "stream",
     "text": [
      "[W ParallelNative.cpp:212] Warning: Cannot set number of intraop threads after parallel work has started or after set_num_threads call when using native parallel backend (function set_num_threads)\n",
      "[W ParallelNative.cpp:212] Warning: Cannot set number of intraop threads after parallel work has started or after set_num_threads call when using native parallel backend (function set_num_threads)\n",
      "[W ParallelNative.cpp:212] Warning: Cannot set number of intraop threads after parallel work has started or after set_num_threads call when using native parallel backend (function set_num_threads)\n",
      "[W ParallelNative.cpp:212] Warning: Cannot set number of intraop threads after parallel work has started or after set_num_threads call when using native parallel backend (function set_num_threads)\n"
     ]
    },
    {
     "name": "stdout",
     "output_type": "stream",
     "text": [
      "loss= 0.27011895498306104\n"
     ]
    },
    {
     "name": "stderr",
     "output_type": "stream",
     "text": [
      "[W ParallelNative.cpp:212] Warning: Cannot set number of intraop threads after parallel work has started or after set_num_threads call when using native parallel backend (function set_num_threads)\n",
      "[W ParallelNative.cpp:212] Warning: Cannot set number of intraop threads after parallel work has started or after set_num_threads call when using native parallel backend (function set_num_threads)\n",
      "[W ParallelNative.cpp:212] Warning: Cannot set number of intraop threads after parallel work has started or after set_num_threads call when using native parallel backend (function set_num_threads)\n",
      "[W ParallelNative.cpp:212] Warning: Cannot set number of intraop threads after parallel work has started or after set_num_threads call when using native parallel backend (function set_num_threads)\n"
     ]
    },
    {
     "name": "stdout",
     "output_type": "stream",
     "text": [
      "Accuracy::  0.8647041951183405 \n",
      "\n",
      "\n",
      "AuPR::  0.7217046520333863 \n",
      "\n",
      "\n",
      "              precision    recall  f1-score   support\n",
      "\n",
      "         0.0     0.9301    0.8924    0.9108    167389\n",
      "         1.0     0.6757    0.7698    0.7197     48767\n",
      "\n",
      "    accuracy                         0.8647    216156\n",
      "   macro avg     0.8029    0.8311    0.8153    216156\n",
      "weighted avg     0.8727    0.8647    0.8677    216156\n",
      " \n",
      "\n",
      "\n"
     ]
    },
    {
     "data": {
      "image/png": "[encoded data removed]",
      "text/plain": [
       "<Figure size 432x288 with 1 Axes>"
      ]
     },
     "metadata": {
      "needs_background": "light"
     },
     "output_type": "display_data"
    }
   ],
   "source": [
    "model = BiLSTM(len(vocab)+2, 64, 64)\n",
    "train(train_loader, test_loader, model, 10)"
   ]
  },
  {
   "cell_type": "markdown",
   "id": "a0b2f0f4",
   "metadata": {},
   "source": [
    "TODOs:\n",
    "1. Change the LSTM length\n",
    "2. Incorporate padding\n",
    "3. overfitting?\n",
    "\n",
    "\n",
    "1. Length based performance analysis\n",
    "2. Which class is confusing\n",
    "3. Include count features\n",
    "3. LSTM + CNN\n"
   ]
  },
  {
   "cell_type": "markdown",
   "id": "f1215493",
   "metadata": {},
   "source": [
    "# char ngram + LR"
   ]
  },
  {
   "cell_type": "code",
   "execution_count": 673,
   "id": "92d96f43",
   "metadata": {},
   "outputs": [
    {
     "data": {
      "text/plain": [
       "(1, 531)"
      ]
     },
     "execution_count": 673,
     "metadata": {},
     "output_type": "execute_result"
    }
   ],
   "source": [
    "df_sam['len'] = df_sam.Query_Entered.apply(lambda x:len(x))\n",
    "df_sam['len'].min(), df_sam['len'].max()"
   ]
  },
  {
   "cell_type": "code",
   "execution_count": 674,
   "id": "6f032e2c",
   "metadata": {},
   "outputs": [
    {
     "data": {
      "text/html": [
       "<div>\n",
       "<style scoped>\n",
       "    .dataframe tbody tr th:only-of-type {\n",
       "        vertical-align: middle;\n",
       "    }\n",
       "\n",
       "    .dataframe tbody tr th {\n",
       "        vertical-align: top;\n",
       "    }\n",
       "\n",
       "    .dataframe thead th {\n",
       "        text-align: right;\n",
       "    }\n",
       "</style>\n",
       "<table border=\"1\" class=\"dataframe\">\n",
       "  <thead>\n",
       "    <tr style=\"text-align: right;\">\n",
       "      <th></th>\n",
       "      <th>Query_Entered</th>\n",
       "      <th>selected_suggestion_source</th>\n",
       "      <th>len</th>\n",
       "      <th>label</th>\n",
       "    </tr>\n",
       "  </thead>\n",
       "  <tbody>\n",
       "    <tr>\n",
       "      <th>0</th>\n",
       "      <td>20854</td>\n",
       "      <td>zip_code</td>\n",
       "      <td>5</td>\n",
       "      <td>0</td>\n",
       "    </tr>\n",
       "    <tr>\n",
       "      <th>1</th>\n",
       "      <td>paph1018386</td>\n",
       "      <td>mrsid</td>\n",
       "      <td>11</td>\n",
       "      <td>0</td>\n",
       "    </tr>\n",
       "    <tr>\n",
       "      <th>2</th>\n",
       "      <td>33 sleeper st</td>\n",
       "      <td>address_free_text</td>\n",
       "      <td>13</td>\n",
       "      <td>0</td>\n",
       "    </tr>\n",
       "    <tr>\n",
       "      <th>3</th>\n",
       "      <td>1118 berwind road, wynnewood, pa, 19096</td>\n",
       "      <td>address</td>\n",
       "      <td>39</td>\n",
       "      <td>1</td>\n",
       "    </tr>\n",
       "    <tr>\n",
       "      <th>4</th>\n",
       "      <td>127 valley road, ardmore, pa, 19003</td>\n",
       "      <td>address</td>\n",
       "      <td>35</td>\n",
       "      <td>1</td>\n",
       "    </tr>\n",
       "  </tbody>\n",
       "</table>\n",
       "</div>"
      ],
      "text/plain": [
       "                             Query_Entered selected_suggestion_source  len  \\\n",
       "0                                    20854                   zip_code    5   \n",
       "1                              paph1018386                      mrsid   11   \n",
       "2                            33 sleeper st          address_free_text   13   \n",
       "3  1118 berwind road, wynnewood, pa, 19096                    address   39   \n",
       "4      127 valley road, ardmore, pa, 19003                    address   35   \n",
       "\n",
       "   label  \n",
       "0      0  \n",
       "1      0  \n",
       "2      0  \n",
       "3      1  \n",
       "4      1  "
      ]
     },
     "execution_count": 674,
     "metadata": {},
     "output_type": "execute_result"
    }
   ],
   "source": [
    "df_sam.head()"
   ]
  },
  {
   "cell_type": "code",
   "execution_count": 631,
   "id": "b95d8d5e",
   "metadata": {},
   "outputs": [],
   "source": [
    "df_train, df_test = train_test_split(\n",
    "    df_sam, test_size=0.25, random_state=42, stratify=df_sam['label'])"
   ]
  },
  {
   "cell_type": "code",
   "execution_count": 632,
   "id": "b90009dd",
   "metadata": {},
   "outputs": [],
   "source": [
    "from sklearn.feature_extraction.text import CountVectorizer\n",
    "\n",
    "vectorizer = CountVectorizer(max_features = 200000, analyzer='char', ngram_range = (1, 4))\n",
    "X_train = vectorizer.fit_transform(df_train['Query_Entered'])\n",
    "X_test = vectorizer.transform(df_test['Query_Entered'])"
   ]
  },
  {
   "cell_type": "code",
   "execution_count": 633,
   "id": "02f01226",
   "metadata": {},
   "outputs": [
    {
     "data": {
      "text/plain": [
       "SGDClassifier(loss='log')"
      ]
     },
     "execution_count": 633,
     "metadata": {},
     "output_type": "execute_result"
    }
   ],
   "source": [
    "clf = SGDClassifier(loss='log')\n",
    "clf.fit(X_train, df_train.label)"
   ]
  },
  {
   "cell_type": "code",
   "execution_count": 617,
   "id": "cd7be37d",
   "metadata": {},
   "outputs": [],
   "source": [
    "# Metric\n",
    "def print_metric(clf, X_test, y_test):\n",
    "\n",
    "    pred = clf.predict_proba(X_test)\n",
    "    pred_tag = clf.predict(X_test)\n",
    "    \n",
    "    print(\"Accuracy:: \", accuracy_score(y_test, pred_tag), '\\n\\n')\n",
    "    \n",
    "    print(\"AuPR:: \", average_precision_score(y_test, pred[:, 1]), '\\n\\n')\n",
    "\n",
    "    print(classification_report(y_test, pred_tag, digits=4), '\\n\\n')\n",
    "    \n",
    "    precision, recall, thresholds = precision_recall_curve(\n",
    "        y_test, pred[:, 1])\n",
    "    plt.plot(recall, precision)\n",
    "    plt.xlabel('Recall')\n",
    "    plt.ylabel('Precision')"
   ]
  },
  {
   "cell_type": "code",
   "execution_count": 634,
   "id": "97d3abd4",
   "metadata": {},
   "outputs": [
    {
     "name": "stdout",
     "output_type": "stream",
     "text": [
      "Accuracy::  0.8643387183330558 \n",
      "\n",
      "\n",
      "AuPR::  0.7130174018008987 \n",
      "\n",
      "\n",
      "              precision    recall  f1-score   support\n",
      "\n",
      "           0     0.9235    0.8993    0.9112    167389\n",
      "           1     0.6829    0.7444    0.7123     48767\n",
      "\n",
      "    accuracy                         0.8643    216156\n",
      "   macro avg     0.8032    0.8218    0.8118    216156\n",
      "weighted avg     0.8692    0.8643    0.8664    216156\n",
      " \n",
      "\n",
      "\n"
     ]
    },
    {
     "data": {
      "image/png": "[encoded data removed]",
      "text/plain": [
       "<Figure size 432x288 with 1 Axes>"
      ]
     },
     "metadata": {},
     "output_type": "display_data"
    }
   ],
   "source": [
    "print_metric(clf, X_test, df_test.label)"
   ]
  },
  {
   "cell_type": "markdown",
   "id": "392a5773",
   "metadata": {},
   "source": [
    "# Length based analysis"
   ]
  },
  {
   "cell_type": "code",
   "execution_count": 517,
   "id": "8fab97d5",
   "metadata": {},
   "outputs": [
    {
     "name": "stdout",
     "output_type": "stream",
     "text": [
      "2 (215724,)\n",
      "Accuracy::  0.8634366134505201 \n",
      "\n",
      "\n",
      "AuPR::  0.7124589120058413 \n",
      "\n",
      "\n",
      "              precision    recall  f1-score   support\n",
      "\n",
      "           0     0.9230    0.8986    0.9106    166996\n",
      "           1     0.6813    0.7431    0.7108     48728\n",
      "\n",
      "    accuracy                         0.8634    215724\n",
      "   macro avg     0.8021    0.8208    0.8107    215724\n",
      "weighted avg     0.8684    0.8634    0.8655    215724\n",
      " \n",
      "\n",
      "\n"
     ]
    },
    {
     "data": {
      "image/png": "[encoded data removed]",
      "text/plain": [
       "<Figure size 432x288 with 1 Axes>"
      ]
     },
     "metadata": {
      "needs_background": "light"
     },
     "output_type": "display_data"
    },
    {
     "name": "stdout",
     "output_type": "stream",
     "text": [
      "3 (212852,)\n",
      "Accuracy::  0.8625617800161615 \n",
      "\n",
      "\n",
      "AuPR::  0.713432209401351 \n",
      "\n",
      "\n",
      "              precision    recall  f1-score   support\n",
      "\n",
      "           0     0.9229    0.8969    0.9097    164330\n",
      "           1     0.6813    0.7462    0.7123     48522\n",
      "\n",
      "    accuracy                         0.8626    212852\n",
      "   macro avg     0.8021    0.8216    0.8110    212852\n",
      "weighted avg     0.8678    0.8626    0.8647    212852\n",
      " \n",
      "\n",
      "\n"
     ]
    },
    {
     "data": {
      "image/png": "[encoded data removed]",
      "text/plain": [
       "<Figure size 432x288 with 1 Axes>"
      ]
     },
     "metadata": {
      "needs_background": "light"
     },
     "output_type": "display_data"
    },
    {
     "name": "stdout",
     "output_type": "stream",
     "text": [
      "4 (203104,)\n",
      "Accuracy::  0.8596876477075783 \n",
      "\n",
      "\n",
      "AuPR::  0.7166170891065534 \n",
      "\n",
      "\n",
      "              precision    recall  f1-score   support\n",
      "\n",
      "           0     0.9229    0.8909    0.9067    155338\n",
      "           1     0.6813    0.7580    0.7176     47766\n",
      "\n",
      "    accuracy                         0.8597    203104\n",
      "   macro avg     0.8021    0.8245    0.8121    203104\n",
      "weighted avg     0.8661    0.8597    0.8622    203104\n",
      " \n",
      "\n",
      "\n"
     ]
    },
    {
     "data": {
      "image/png": "[encoded data removed]",
      "text/plain": [
       "<Figure size 432x288 with 1 Axes>"
      ]
     },
     "metadata": {
      "needs_background": "light"
     },
     "output_type": "display_data"
    },
    {
     "name": "stdout",
     "output_type": "stream",
     "text": [
      "5 (187530,)\n",
      "Accuracy::  0.8570628699408095 \n",
      "\n",
      "\n",
      "AuPR::  0.7230213545462794 \n",
      "\n",
      "\n",
      "              precision    recall  f1-score   support\n",
      "\n",
      "           0     0.9265    0.8804    0.9028    141445\n",
      "           1     0.6815    0.7855    0.7298     46085\n",
      "\n",
      "    accuracy                         0.8571    187530\n",
      "   macro avg     0.8040    0.8329    0.8163    187530\n",
      "weighted avg     0.8663    0.8571    0.8603    187530\n",
      " \n",
      "\n",
      "\n"
     ]
    },
    {
     "data": {
      "image/png": "[encoded data removed]",
      "text/plain": [
       "<Figure size 432x288 with 1 Axes>"
      ]
     },
     "metadata": {
      "needs_background": "light"
     },
     "output_type": "display_data"
    },
    {
     "name": "stdout",
     "output_type": "stream",
     "text": [
      "6 (158451,)\n",
      "Accuracy::  0.8360565726943976 \n",
      "\n",
      "\n",
      "AuPR::  0.7278223663922723 \n",
      "\n",
      "\n",
      "              precision    recall  f1-score   support\n",
      "\n",
      "           0     0.9122    0.8525    0.8813    113168\n",
      "           1     0.6832    0.7950    0.7349     45283\n",
      "\n",
      "    accuracy                         0.8361    158451\n",
      "   macro avg     0.7977    0.8237    0.8081    158451\n",
      "weighted avg     0.8468    0.8361    0.8395    158451\n",
      " \n",
      "\n",
      "\n"
     ]
    },
    {
     "data": {
      "image/png": "[encoded data removed]",
      "text/plain": [
       "<Figure size 432x288 with 1 Axes>"
      ]
     },
     "metadata": {
      "needs_background": "light"
     },
     "output_type": "display_data"
    },
    {
     "name": "stdout",
     "output_type": "stream",
     "text": [
      "7 (142739,)\n",
      "Accuracy::  0.8254226245104701 \n",
      "\n",
      "\n",
      "AuPR::  0.7310765355948875 \n",
      "\n",
      "\n",
      "              precision    recall  f1-score   support\n",
      "\n",
      "           0     0.9037    0.8366    0.8688     98661\n",
      "           1     0.6863    0.8005    0.7390     44078\n",
      "\n",
      "    accuracy                         0.8254    142739\n",
      "   macro avg     0.7950    0.8185    0.8039    142739\n",
      "weighted avg     0.8366    0.8254    0.8288    142739\n",
      " \n",
      "\n",
      "\n"
     ]
    },
    {
     "data": {
      "image/png": "[encoded data removed]",
      "text/plain": [
       "<Figure size 432x288 with 1 Axes>"
      ]
     },
     "metadata": {
      "needs_background": "light"
     },
     "output_type": "display_data"
    },
    {
     "name": "stdout",
     "output_type": "stream",
     "text": [
      "8 (125944,)\n",
      "Accuracy::  0.8147668805183256 \n",
      "\n",
      "\n",
      "AuPR::  0.7347091837838999 \n",
      "\n",
      "\n",
      "              precision    recall  f1-score   support\n",
      "\n",
      "           0     0.8946    0.8192    0.8553     84139\n",
      "           1     0.6889    0.8058    0.7428     41805\n",
      "\n",
      "    accuracy                         0.8148    125944\n",
      "   macro avg     0.7918    0.8125    0.7990    125944\n",
      "weighted avg     0.8263    0.8148    0.8179    125944\n",
      " \n",
      "\n",
      "\n"
     ]
    },
    {
     "data": {
      "image/png": "[encoded data removed]",
      "text/plain": [
       "<Figure size 432x288 with 1 Axes>"
      ]
     },
     "metadata": {
      "needs_background": "light"
     },
     "output_type": "display_data"
    },
    {
     "name": "stdout",
     "output_type": "stream",
     "text": [
      "9 (107269,)\n",
      "Accuracy::  0.802160922540529 \n",
      "\n",
      "\n",
      "AuPR::  0.7385294982033919 \n",
      "\n",
      "\n",
      "              precision    recall  f1-score   support\n",
      "\n",
      "           0     0.8838    0.7967    0.8380     68903\n",
      "           1     0.6898    0.8119    0.7459     38366\n",
      "\n",
      "    accuracy                         0.8022    107269\n",
      "   macro avg     0.7868    0.8043    0.7920    107269\n",
      "weighted avg     0.8144    0.8022    0.8051    107269\n",
      " \n",
      "\n",
      "\n"
     ]
    },
    {
     "data": {
      "image/png": "[encoded data removed]",
      "text/plain": [
       "<Figure size 432x288 with 1 Axes>"
      ]
     },
     "metadata": {
      "needs_background": "light"
     },
     "output_type": "display_data"
    },
    {
     "name": "stdout",
     "output_type": "stream",
     "text": [
      "10 (89883,)\n",
      "Accuracy::  0.7896042633200939 \n",
      "\n",
      "\n",
      "AuPR::  0.7415214699935719 \n",
      "\n",
      "\n",
      "              precision    recall  f1-score   support\n",
      "\n",
      "           0     0.8726    0.7725    0.8195     55577\n",
      "           1     0.6892    0.8173    0.7478     34306\n",
      "\n",
      "    accuracy                         0.7896     89883\n",
      "   macro avg     0.7809    0.7949    0.7837     89883\n",
      "weighted avg     0.8026    0.7896    0.7921     89883\n",
      " \n",
      "\n",
      "\n"
     ]
    },
    {
     "data": {
      "image/png": "[encoded data removed]",
      "text/plain": [
       "<Figure size 432x288 with 1 Axes>"
      ]
     },
     "metadata": {
      "needs_background": "light"
     },
     "output_type": "display_data"
    },
    {
     "name": "stdout",
     "output_type": "stream",
     "text": [
      "11 (75206,)\n",
      "Accuracy::  0.7773847831290057 \n",
      "\n",
      "\n",
      "AuPR::  0.7447483763607792 \n",
      "\n",
      "\n",
      "              precision    recall  f1-score   support\n",
      "\n",
      "           0     0.8606    0.7466    0.7996     44727\n",
      "           1     0.6887    0.8226    0.7497     30479\n",
      "\n",
      "    accuracy                         0.7774     75206\n",
      "   macro avg     0.7746    0.7846    0.7746     75206\n",
      "weighted avg     0.7909    0.7774    0.7793     75206\n",
      " \n",
      "\n",
      "\n"
     ]
    },
    {
     "data": {
      "image/png": "[encoded data removed]",
      "text/plain": [
       "<Figure size 432x288 with 1 Axes>"
      ]
     },
     "metadata": {
      "needs_background": "light"
     },
     "output_type": "display_data"
    },
    {
     "name": "stdout",
     "output_type": "stream",
     "text": [
      "12 (62173,)\n",
      "Accuracy::  0.7672944847441816 \n",
      "\n",
      "\n",
      "AuPR::  0.7516236068839429 \n",
      "\n",
      "\n",
      "              precision    recall  f1-score   support\n",
      "\n",
      "           0     0.8488    0.7181    0.7780     35303\n",
      "           1     0.6919    0.8319    0.7555     26870\n",
      "\n",
      "    accuracy                         0.7673     62173\n",
      "   macro avg     0.7704    0.7750    0.7668     62173\n",
      "weighted avg     0.7810    0.7673    0.7683     62173\n",
      " \n",
      "\n",
      "\n"
     ]
    },
    {
     "data": {
      "image/png": "[encoded data removed]",
      "text/plain": [
       "<Figure size 432x288 with 1 Axes>"
      ]
     },
     "metadata": {
      "needs_background": "light"
     },
     "output_type": "display_data"
    },
    {
     "name": "stdout",
     "output_type": "stream",
     "text": [
      "13 (50677,)\n",
      "Accuracy::  0.7551749314284587 \n",
      "\n",
      "\n",
      "AuPR::  0.7598754470302083 \n",
      "\n",
      "\n",
      "              precision    recall  f1-score   support\n",
      "\n",
      "           0     0.8273    0.6804    0.7467     26878\n",
      "           1     0.6994    0.8396    0.7631     23799\n",
      "\n",
      "    accuracy                         0.7552     50677\n",
      "   macro avg     0.7633    0.7600    0.7549     50677\n",
      "weighted avg     0.7672    0.7552    0.7544     50677\n",
      " \n",
      "\n",
      "\n"
     ]
    },
    {
     "data": {
      "image/png": "[encoded data removed]",
      "text/plain": [
       "<Figure size 432x288 with 1 Axes>"
      ]
     },
     "metadata": {
      "needs_background": "light"
     },
     "output_type": "display_data"
    },
    {
     "name": "stdout",
     "output_type": "stream",
     "text": [
      "14 (41197,)\n",
      "Accuracy::  0.7411219263538608 \n",
      "\n",
      "\n",
      "AuPR::  0.767865781932722 \n",
      "\n",
      "\n",
      "              precision    recall  f1-score   support\n",
      "\n",
      "           0     0.8009    0.6230    0.7009     20053\n",
      "           1     0.7047    0.8531    0.7718     21144\n",
      "\n",
      "    accuracy                         0.7411     41197\n",
      "   macro avg     0.7528    0.7381    0.7363     41197\n",
      "weighted avg     0.7515    0.7411    0.7373     41197\n",
      " \n",
      "\n",
      "\n"
     ]
    },
    {
     "data": {
      "image/png": "[encoded data removed]",
      "text/plain": [
       "<Figure size 432x288 with 1 Axes>"
      ]
     },
     "metadata": {
      "needs_background": "light"
     },
     "output_type": "display_data"
    }
   ],
   "source": [
    "for i in range(2, 15, 1):\n",
    "    \n",
    "    idx = np.where(df_test.len>=i)[0]\n",
    "    \n",
    "    X_test_tmp = X_test[idx]\n",
    "    label_tmp = df_test.label.iloc[idx]\n",
    "    \n",
    "    print(i, label_tmp.shape)\n",
    "    print_metric(clf, X_test_tmp, label_tmp)\n",
    "    plt.show()"
   ]
  },
  {
   "cell_type": "markdown",
   "id": "aefc49e0",
   "metadata": {},
   "source": [
    "# Confusion metric"
   ]
  },
  {
   "cell_type": "code",
   "execution_count": 642,
   "id": "0ef98f85",
   "metadata": {},
   "outputs": [
    {
     "name": "stderr",
     "output_type": "stream",
     "text": [
      "/Users/avijit.saha/.pyenv/versions/3.7.9/envs/venv/lib/python3.7/site-packages/ipykernel_launcher.py:1: SettingWithCopyWarning: \n",
      "A value is trying to be set on a copy of a slice from a DataFrame.\n",
      "Try using .loc[row_indexer,col_indexer] = value instead\n",
      "\n",
      "See the caveats in the documentation: https://pandas.pydata.org/pandas-docs/stable/user_guide/indexing.html#returning-a-view-versus-a-copy\n",
      "  \"\"\"Entry point for launching an IPython kernel.\n"
     ]
    }
   ],
   "source": [
    "df_test['len'] = df_test.Query_Entered.apply(lambda x:len(x))"
   ]
  },
  {
   "cell_type": "code",
   "execution_count": 643,
   "id": "0be732a3",
   "metadata": {},
   "outputs": [
    {
     "data": {
      "text/html": [
       "<div>\n",
       "<style scoped>\n",
       "    .dataframe tbody tr th:only-of-type {\n",
       "        vertical-align: middle;\n",
       "    }\n",
       "\n",
       "    .dataframe tbody tr th {\n",
       "        vertical-align: top;\n",
       "    }\n",
       "\n",
       "    .dataframe thead th {\n",
       "        text-align: right;\n",
       "    }\n",
       "</style>\n",
       "<table border=\"1\" class=\"dataframe\">\n",
       "  <thead>\n",
       "    <tr style=\"text-align: right;\">\n",
       "      <th></th>\n",
       "      <th>Query_Entered</th>\n",
       "      <th>selected_suggestion_source</th>\n",
       "      <th>label</th>\n",
       "      <th>len</th>\n",
       "    </tr>\n",
       "  </thead>\n",
       "  <tbody>\n",
       "    <tr>\n",
       "      <th>426057</th>\n",
       "      <td>19115</td>\n",
       "      <td>zip_code</td>\n",
       "      <td>0</td>\n",
       "      <td>5</td>\n",
       "    </tr>\n",
       "    <tr>\n",
       "      <th>316775</th>\n",
       "      <td>1720</td>\n",
       "      <td>newbuilding</td>\n",
       "      <td>0</td>\n",
       "      <td>4</td>\n",
       "    </tr>\n",
       "    <tr>\n",
       "      <th>21202</th>\n",
       "      <td>29384</td>\n",
       "      <td>zip_code</td>\n",
       "      <td>0</td>\n",
       "      <td>5</td>\n",
       "    </tr>\n",
       "    <tr>\n",
       "      <th>260087</th>\n",
       "      <td>146 wendy</td>\n",
       "      <td>address</td>\n",
       "      <td>1</td>\n",
       "      <td>9</td>\n",
       "    </tr>\n",
       "    <tr>\n",
       "      <th>773542</th>\n",
       "      <td>27 west 72</td>\n",
       "      <td>building_address</td>\n",
       "      <td>0</td>\n",
       "      <td>10</td>\n",
       "    </tr>\n",
       "  </tbody>\n",
       "</table>\n",
       "</div>"
      ],
      "text/plain": [
       "       Query_Entered selected_suggestion_source  label  len\n",
       "426057         19115                   zip_code      0    5\n",
       "316775          1720                newbuilding      0    4\n",
       "21202          29384                   zip_code      0    5\n",
       "260087     146 wendy                    address      1    9\n",
       "773542    27 west 72           building_address      0   10"
      ]
     },
     "execution_count": 643,
     "metadata": {},
     "output_type": "execute_result"
    }
   ],
   "source": [
    "df_test.head()"
   ]
  },
  {
   "cell_type": "code",
   "execution_count": 663,
   "id": "b244590e",
   "metadata": {},
   "outputs": [
    {
     "data": {
      "text/plain": [
       "((216156, 4), (171486, 5))"
      ]
     },
     "execution_count": 663,
     "metadata": {},
     "output_type": "execute_result"
    }
   ],
   "source": [
    "df_test.shape, df_test_fil.shape"
   ]
  },
  {
   "cell_type": "code",
   "execution_count": 664,
   "id": "a5a4952c",
   "metadata": {},
   "outputs": [
    {
     "data": {
      "text/plain": [
       "0.7933436962193972"
      ]
     },
     "execution_count": 664,
     "metadata": {},
     "output_type": "execute_result"
    }
   ],
   "source": [
    "171486/216156.0"
   ]
  },
  {
   "cell_type": "code",
   "execution_count": 620,
   "id": "6c0b2645",
   "metadata": {},
   "outputs": [
    {
     "data": {
      "text/plain": [
       "city                            58293\n",
       "address                         48767\n",
       "neighborhood                    29307\n",
       "zip_code                        13167\n",
       "recentviewedlistings             6846\n",
       "building_address                 5360\n",
       "agent                            5187\n",
       "recent_viewed_listings           4559\n",
       "0                                3963\n",
       "mrsid                            3526\n",
       "new_building                     2790\n",
       "buildingaddress                  2626\n",
       "building_name                    2564\n",
       "zipcode                          2485\n",
       "address_free_text                2267\n",
       "newbuilding                      2254\n",
       "listing_based_city               1889\n",
       "7                                1513\n",
       "5                                1479\n",
       "freetextsubqueries               1342\n",
       "agent_office                     1189\n",
       "school                           1103\n",
       "26                               1099\n",
       "keywordfreetext                   991\n",
       "keyword_free_text                 973\n",
       "15                                911\n",
       "street                            888\n",
       "search_ui_builder                 760\n",
       "free_text_subqueries              742\n",
       "2                                 739\n",
       "agent_name_free_text              706\n",
       "6                                 686\n",
       "new_building_name                 584\n",
       "3                                 523\n",
       "buildingname                      514\n",
       "13                                437\n",
       "16                                395\n",
       "school_district                   369\n",
       "agentnamefreetext                 309\n",
       "newbuildingname                   292\n",
       "schooldistrict                    256\n",
       "amenity                           224\n",
       "noncompassagent                   177\n",
       "14                                171\n",
       "schoolnames_without_boundary      162\n",
       "8                                 152\n",
       "state                             120\n",
       "12                                117\n",
       "street_free_text                   85\n",
       "4                                  72\n",
       "21                                 69\n",
       "17                                 45\n",
       "18                                 38\n",
       "addressfreetext                    35\n",
       "agentoffice                        16\n",
       "multi_mls_ids                       9\n",
       "streetfreetext                      5\n",
       "mrisid                              4\n",
       "metalist                            3\n",
       "bedroom                             2\n",
       "Name: selected_suggestion_source, dtype: int64"
      ]
     },
     "execution_count": 620,
     "metadata": {},
     "output_type": "execute_result"
    }
   ],
   "source": [
    "df_test.selected_suggestion_source.value_counts()"
   ]
  },
  {
   "cell_type": "code",
   "execution_count": 621,
   "id": "e6f498d6",
   "metadata": {},
   "outputs": [
    {
     "data": {
      "text/plain": [
       "array(['zip_code', 'newbuilding', 'address', 'building_address', 'city',\n",
       "       'neighborhood', 'recent_viewed_listings', 'recentviewedlistings',\n",
       "       'keyword_free_text', 'building_name', '26', 'agent',\n",
       "       'new_building', '2', 'amenity', '13', 'address_free_text', 'mrsid',\n",
       "       'zipcode', 'keywordfreetext', 'school', '7', 'new_building_name',\n",
       "       '5', 'buildingname', '3', '15', 'buildingaddress', '17',\n",
       "       'freetextsubqueries', 'listing_based_city', '0', 'school_district',\n",
       "       'agent_office', 'search_ui_builder', 'street', '14',\n",
       "       'street_free_text', '6', 'free_text_subqueries', 'noncompassagent',\n",
       "       'newbuildingname', '16', 'addressfreetext', 'agent_name_free_text',\n",
       "       'state', 'schoolnames_without_boundary', 'schooldistrict', '8',\n",
       "       'agentnamefreetext', '12', '4', 'agentoffice', '18', '21',\n",
       "       'mrisid', 'streetfreetext', 'multi_mls_ids', 'metalist', 'bedroom'],\n",
       "      dtype=object)"
      ]
     },
     "execution_count": 621,
     "metadata": {},
     "output_type": "execute_result"
    }
   ],
   "source": [
    "df_test.selected_suggestion_source.unique()"
   ]
  },
  {
   "cell_type": "code",
   "execution_count": 644,
   "id": "7c3e4ae1",
   "metadata": {},
   "outputs": [
    {
     "name": "stdout",
     "output_type": "stream",
     "text": [
      "Accuracy::  0.8882357743489264 \n",
      "\n",
      "\n",
      "AuPR::  0.8680356913879173 \n",
      "\n",
      "\n",
      "              precision    recall  f1-score   support\n",
      "\n",
      "           0     0.9030    0.9454    0.9237    122719\n",
      "           1     0.8442    0.7444    0.7911     48767\n",
      "\n",
      "    accuracy                         0.8882    171486\n",
      "   macro avg     0.8736    0.8449    0.8574    171486\n",
      "weighted avg     0.8863    0.8882    0.8860    171486\n",
      " \n",
      "\n",
      "\n"
     ]
    },
    {
     "data": {
      "image/png": "[encoded data removed]",
      "text/plain": [
       "<Figure size 432x288 with 1 Axes>"
      ]
     },
     "metadata": {},
     "output_type": "display_data"
    }
   ],
   "source": [
    "selected_cat = ['city', 'address', 'neighborhood', 'zip_code', 'recentviewedlistings', 'building_address', 'agent',\\\n",
    "               'recent_viewed_listings']\n",
    "\n",
    "df_test_fil = df_test[df_test.selected_suggestion_source.isin(selected_cat)]\n",
    "df_test_fil.shape\n",
    "\n",
    "X_test_fil = vectorizer.transform(df_test_fil['Query_Entered'])\n",
    "\n",
    "pred = clf.predict_proba(X_test_fil)\n",
    "pred_tag = clf.predict(X_test_fil)\n",
    "\n",
    "cm = confusion_matrix(df_test_fil.label, pred_tag)\n",
    "\n",
    "print_metric(clf, X_test_fil, df_test_fil.label)"
   ]
  },
  {
   "cell_type": "code",
   "execution_count": 645,
   "id": "404bef2b",
   "metadata": {},
   "outputs": [
    {
     "data": {
      "text/html": [
       "<div>\n",
       "<style scoped>\n",
       "    .dataframe tbody tr th:only-of-type {\n",
       "        vertical-align: middle;\n",
       "    }\n",
       "\n",
       "    .dataframe tbody tr th {\n",
       "        vertical-align: top;\n",
       "    }\n",
       "\n",
       "    .dataframe thead th {\n",
       "        text-align: right;\n",
       "    }\n",
       "</style>\n",
       "<table border=\"1\" class=\"dataframe\">\n",
       "  <thead>\n",
       "    <tr style=\"text-align: right;\">\n",
       "      <th></th>\n",
       "      <th>Query_Entered</th>\n",
       "      <th>selected_suggestion_source</th>\n",
       "      <th>label</th>\n",
       "      <th>len</th>\n",
       "    </tr>\n",
       "  </thead>\n",
       "  <tbody>\n",
       "    <tr>\n",
       "      <th>426057</th>\n",
       "      <td>19115</td>\n",
       "      <td>zip_code</td>\n",
       "      <td>0</td>\n",
       "      <td>5</td>\n",
       "    </tr>\n",
       "    <tr>\n",
       "      <th>21202</th>\n",
       "      <td>29384</td>\n",
       "      <td>zip_code</td>\n",
       "      <td>0</td>\n",
       "      <td>5</td>\n",
       "    </tr>\n",
       "    <tr>\n",
       "      <th>260087</th>\n",
       "      <td>146 wendy</td>\n",
       "      <td>address</td>\n",
       "      <td>1</td>\n",
       "      <td>9</td>\n",
       "    </tr>\n",
       "    <tr>\n",
       "      <th>773542</th>\n",
       "      <td>27 west 72</td>\n",
       "      <td>building_address</td>\n",
       "      <td>0</td>\n",
       "      <td>10</td>\n",
       "    </tr>\n",
       "    <tr>\n",
       "      <th>5009</th>\n",
       "      <td>so</td>\n",
       "      <td>city</td>\n",
       "      <td>0</td>\n",
       "      <td>2</td>\n",
       "    </tr>\n",
       "  </tbody>\n",
       "</table>\n",
       "</div>"
      ],
      "text/plain": [
       "       Query_Entered selected_suggestion_source  label  len\n",
       "426057         19115                   zip_code      0    5\n",
       "21202          29384                   zip_code      0    5\n",
       "260087     146 wendy                    address      1    9\n",
       "773542    27 west 72           building_address      0   10\n",
       "5009              so                       city      0    2"
      ]
     },
     "execution_count": 645,
     "metadata": {},
     "output_type": "execute_result"
    }
   ],
   "source": [
    "df_test_fil.head()"
   ]
  },
  {
   "cell_type": "code",
   "execution_count": 647,
   "id": "2d0e4657",
   "metadata": {},
   "outputs": [
    {
     "name": "stdout",
     "output_type": "stream",
     "text": [
      "2 (171090,)\n",
      "Accuracy::  0.8882050382839441 \n",
      "\n",
      "\n",
      "AuPR::  0.8682712589438103 \n",
      "\n",
      "\n",
      "              precision    recall  f1-score   support\n",
      "\n",
      "           0     0.9030    0.9452    0.9236    122362\n",
      "           1     0.8442    0.7450    0.7915     48728\n",
      "\n",
      "    accuracy                         0.8882    171090\n",
      "   macro avg     0.8736    0.8451    0.8576    171090\n",
      "weighted avg     0.8862    0.8882    0.8860    171090\n",
      " \n",
      "\n",
      "\n",
      "3 (168569,)\n",
      "Accuracy::  0.887755162574376 \n",
      "\n",
      "\n",
      "AuPR::  0.8691783705595864 \n",
      "\n",
      "\n",
      "              precision    recall  f1-score   support\n",
      "\n",
      "           0     0.9027    0.9442    0.9230    120047\n",
      "           1     0.8442    0.7481    0.7933     48522\n",
      "\n",
      "    accuracy                         0.8878    168569\n",
      "   macro avg     0.8734    0.8462    0.8581    168569\n",
      "weighted avg     0.8858    0.8878    0.8856    168569\n",
      " \n",
      "\n",
      "\n",
      "4 (159842,)\n",
      "Accuracy::  0.8863565270704821 \n",
      "\n",
      "\n",
      "AuPR::  0.8719617879926833 \n",
      "\n",
      "\n",
      "              precision    recall  f1-score   support\n",
      "\n",
      "           0     0.9019    0.9402    0.9206    112076\n",
      "           1     0.8442    0.7600    0.7999     47766\n",
      "\n",
      "    accuracy                         0.8864    159842\n",
      "   macro avg     0.8730    0.8501    0.8603    159842\n",
      "weighted avg     0.8846    0.8864    0.8846    159842\n",
      " \n",
      "\n",
      "\n",
      "5 (146035,)\n",
      "Accuracy::  0.8871640360187626 \n",
      "\n",
      "\n",
      "AuPR::  0.8770984213869369 \n",
      "\n",
      "\n",
      "              precision    recall  f1-score   support\n",
      "\n",
      "           0     0.9050    0.9331    0.9188     99950\n",
      "           1     0.8444    0.7876    0.8150     46085\n",
      "\n",
      "    accuracy                         0.8872    146035\n",
      "   macro avg     0.8747    0.8603    0.8669    146035\n",
      "weighted avg     0.8859    0.8872    0.8861    146035\n",
      " \n",
      "\n",
      "\n",
      "6 (122141,)\n",
      "Accuracy::  0.8712799141975258 \n",
      "\n",
      "\n",
      "AuPR::  0.8823778483367999 \n",
      "\n",
      "\n",
      "              precision    recall  f1-score   support\n",
      "\n",
      "           0     0.8847    0.9147    0.8994     76858\n",
      "           1     0.8463    0.7977    0.8213     45283\n",
      "\n",
      "    accuracy                         0.8713    122141\n",
      "   macro avg     0.8655    0.8562    0.8603    122141\n",
      "weighted avg     0.8705    0.8713    0.8704    122141\n",
      " \n",
      "\n",
      "\n",
      "7 (108882,)\n",
      "Accuracy::  0.86320052901306 \n",
      "\n",
      "\n",
      "AuPR::  0.8857475341904104 \n",
      "\n",
      "\n",
      "              precision    recall  f1-score   support\n",
      "\n",
      "           0     0.8714    0.9034    0.8871     64804\n",
      "           1     0.8499    0.8041    0.8264     44078\n",
      "\n",
      "    accuracy                         0.8632    108882\n",
      "   macro avg     0.8607    0.8537    0.8568    108882\n",
      "weighted avg     0.8627    0.8632    0.8625    108882\n",
      " \n",
      "\n",
      "\n",
      "8 (95868,)\n",
      "Accuracy::  0.8574915508824634 \n",
      "\n",
      "\n",
      "AuPR::  0.8902391575013333 \n",
      "\n",
      "\n",
      "              precision    recall  f1-score   support\n",
      "\n",
      "           0     0.8593    0.8937    0.8761     54063\n",
      "           1     0.8550    0.8107    0.8323     41805\n",
      "\n",
      "    accuracy                         0.8575     95868\n",
      "   macro avg     0.8571    0.8522    0.8542     95868\n",
      "weighted avg     0.8574    0.8575    0.8570     95868\n",
      " \n",
      "\n",
      "\n",
      "9 (81695,)\n",
      "Accuracy::  0.8522430993328846 \n",
      "\n",
      "\n",
      "AuPR::  0.8957423424570411 \n",
      "\n",
      "\n",
      "              precision    recall  f1-score   support\n",
      "\n",
      "           0     0.8458    0.8822    0.8636     43329\n",
      "           1     0.8602    0.8184    0.8388     38366\n",
      "\n",
      "    accuracy                         0.8522     81695\n",
      "   macro avg     0.8530    0.8503    0.8512     81695\n",
      "weighted avg     0.8526    0.8522    0.8520     81695\n",
      " \n",
      "\n",
      "\n",
      "10 (68163,)\n",
      "Accuracy::  0.8473658729809428 \n",
      "\n",
      "\n",
      "AuPR::  0.900964404380353 \n",
      "\n",
      "\n",
      "              precision    recall  f1-score   support\n",
      "\n",
      "           0     0.8303    0.8706    0.8500     33857\n",
      "           1     0.8659    0.8244    0.8446     34306\n",
      "\n",
      "    accuracy                         0.8474     68163\n",
      "   macro avg     0.8481    0.8475    0.8473     68163\n",
      "weighted avg     0.8482    0.8474    0.8473     68163\n",
      " \n",
      "\n",
      "\n",
      "11 (56736,)\n",
      "Accuracy::  0.842974478285392 \n",
      "\n",
      "\n",
      "AuPR::  0.9061098209220279 \n",
      "\n",
      "\n",
      "              precision    recall  f1-score   support\n",
      "\n",
      "           0     0.8133    0.8576    0.8349     26257\n",
      "           1     0.8713    0.8304    0.8503     30479\n",
      "\n",
      "    accuracy                         0.8430     56736\n",
      "   macro avg     0.8423    0.8440    0.8426     56736\n",
      "weighted avg     0.8444    0.8430    0.8432     56736\n",
      " \n",
      "\n",
      "\n",
      "12 (46671,)\n",
      "Accuracy::  0.8409719097512374 \n",
      "\n",
      "\n",
      "AuPR::  0.9131731023199176 \n",
      "\n",
      "\n",
      "              precision    recall  f1-score   support\n",
      "\n",
      "           0     0.7947    0.8429    0.8181     19801\n",
      "           1     0.8788    0.8396    0.8587     26870\n",
      "\n",
      "    accuracy                         0.8410     46671\n",
      "   macro avg     0.8368    0.8412    0.8384     46671\n",
      "weighted avg     0.8431    0.8410    0.8415     46671\n",
      " \n",
      "\n",
      "\n",
      "13 (37610,)\n",
      "Accuracy::  0.8361871842595054 \n",
      "\n",
      "\n",
      "AuPR::  0.9206743911687826 \n",
      "\n",
      "\n",
      "              precision    recall  f1-score   support\n",
      "\n",
      "           0     0.7562    0.8175    0.7857     13811\n",
      "           1     0.8889    0.8470    0.8674     23799\n",
      "\n",
      "    accuracy                         0.8362     37610\n",
      "   macro avg     0.8225    0.8323    0.8265     37610\n",
      "weighted avg     0.8401    0.8362    0.8374     37610\n",
      " \n",
      "\n",
      "\n",
      "14 (30485,)\n",
      "Accuracy::  0.8314252911267836 \n",
      "\n",
      "\n",
      "AuPR::  0.9252677863465892 \n",
      "\n",
      "\n",
      "              precision    recall  f1-score   support\n",
      "\n",
      "           0     0.7068    0.7687    0.7364      9341\n",
      "           1     0.8937    0.8592    0.8761     21144\n",
      "\n",
      "    accuracy                         0.8314     30485\n",
      "   macro avg     0.8003    0.8139    0.8063     30485\n",
      "weighted avg     0.8364    0.8314    0.8333     30485\n",
      " \n",
      "\n",
      "\n"
     ]
    },
    {
     "data": {
      "image/png": "[encoded data removed]",
      "text/plain": [
       "<Figure size 432x288 with 1 Axes>"
      ]
     },
     "metadata": {},
     "output_type": "display_data"
    }
   ],
   "source": [
    "for i in range(2, 15, 1):\n",
    "    \n",
    "    idx = np.where(df_test_fil.len>=i)[0]\n",
    "    \n",
    "    X_test_tmp = X_test_fil[idx]\n",
    "    label_tmp = df_test_fil.label.iloc[idx]\n",
    "    \n",
    "    print(i, label_tmp.shape)\n",
    "    print_metric(clf, X_test_tmp, label_tmp)\n",
    "    #plt.show()"
   ]
  },
  {
   "cell_type": "code",
   "execution_count": 637,
   "id": "c5daf8a4",
   "metadata": {},
   "outputs": [
    {
     "data": {
      "text/plain": [
       "array([[116019,   6700],\n",
       "       [ 12466,  36301]])"
      ]
     },
     "execution_count": 637,
     "metadata": {},
     "output_type": "execute_result"
    }
   ],
   "source": [
    "cm"
   ]
  },
  {
   "cell_type": "markdown",
   "id": "34bbc69c",
   "metadata": {},
   "source": [
    "# False positive analysis"
   ]
  },
  {
   "cell_type": "code",
   "execution_count": 648,
   "id": "d368cb80",
   "metadata": {},
   "outputs": [
    {
     "data": {
      "text/html": [
       "<div>\n",
       "<style scoped>\n",
       "    .dataframe tbody tr th:only-of-type {\n",
       "        vertical-align: middle;\n",
       "    }\n",
       "\n",
       "    .dataframe tbody tr th {\n",
       "        vertical-align: top;\n",
       "    }\n",
       "\n",
       "    .dataframe thead th {\n",
       "        text-align: right;\n",
       "    }\n",
       "</style>\n",
       "<table border=\"1\" class=\"dataframe\">\n",
       "  <thead>\n",
       "    <tr style=\"text-align: right;\">\n",
       "      <th></th>\n",
       "      <th>Query_Entered</th>\n",
       "      <th>selected_suggestion_source</th>\n",
       "      <th>label</th>\n",
       "      <th>len</th>\n",
       "    </tr>\n",
       "  </thead>\n",
       "  <tbody>\n",
       "    <tr>\n",
       "      <th>426057</th>\n",
       "      <td>19115</td>\n",
       "      <td>zip_code</td>\n",
       "      <td>0</td>\n",
       "      <td>5</td>\n",
       "    </tr>\n",
       "    <tr>\n",
       "      <th>21202</th>\n",
       "      <td>29384</td>\n",
       "      <td>zip_code</td>\n",
       "      <td>0</td>\n",
       "      <td>5</td>\n",
       "    </tr>\n",
       "    <tr>\n",
       "      <th>260087</th>\n",
       "      <td>146 wendy</td>\n",
       "      <td>address</td>\n",
       "      <td>1</td>\n",
       "      <td>9</td>\n",
       "    </tr>\n",
       "    <tr>\n",
       "      <th>773542</th>\n",
       "      <td>27 west 72</td>\n",
       "      <td>building_address</td>\n",
       "      <td>0</td>\n",
       "      <td>10</td>\n",
       "    </tr>\n",
       "    <tr>\n",
       "      <th>5009</th>\n",
       "      <td>so</td>\n",
       "      <td>city</td>\n",
       "      <td>0</td>\n",
       "      <td>2</td>\n",
       "    </tr>\n",
       "  </tbody>\n",
       "</table>\n",
       "</div>"
      ],
      "text/plain": [
       "       Query_Entered selected_suggestion_source  label  len\n",
       "426057         19115                   zip_code      0    5\n",
       "21202          29384                   zip_code      0    5\n",
       "260087     146 wendy                    address      1    9\n",
       "773542    27 west 72           building_address      0   10\n",
       "5009              so                       city      0    2"
      ]
     },
     "execution_count": 648,
     "metadata": {},
     "output_type": "execute_result"
    }
   ],
   "source": [
    "df_test_fil.head()"
   ]
  },
  {
   "cell_type": "code",
   "execution_count": 651,
   "id": "a92df53c",
   "metadata": {},
   "outputs": [
    {
     "name": "stderr",
     "output_type": "stream",
     "text": [
      "/Users/avijit.saha/.pyenv/versions/3.7.9/envs/venv/lib/python3.7/site-packages/ipykernel_launcher.py:1: SettingWithCopyWarning: \n",
      "A value is trying to be set on a copy of a slice from a DataFrame.\n",
      "Try using .loc[row_indexer,col_indexer] = value instead\n",
      "\n",
      "See the caveats in the documentation: https://pandas.pydata.org/pandas-docs/stable/user_guide/indexing.html#returning-a-view-versus-a-copy\n",
      "  \"\"\"Entry point for launching an IPython kernel.\n"
     ]
    }
   ],
   "source": [
    "df_test_fil['pred'] = pred_tag"
   ]
  },
  {
   "cell_type": "code",
   "execution_count": 652,
   "id": "db316fbf",
   "metadata": {},
   "outputs": [
    {
     "data": {
      "text/html": [
       "<div>\n",
       "<style scoped>\n",
       "    .dataframe tbody tr th:only-of-type {\n",
       "        vertical-align: middle;\n",
       "    }\n",
       "\n",
       "    .dataframe tbody tr th {\n",
       "        vertical-align: top;\n",
       "    }\n",
       "\n",
       "    .dataframe thead th {\n",
       "        text-align: right;\n",
       "    }\n",
       "</style>\n",
       "<table border=\"1\" class=\"dataframe\">\n",
       "  <thead>\n",
       "    <tr style=\"text-align: right;\">\n",
       "      <th></th>\n",
       "      <th>Query_Entered</th>\n",
       "      <th>selected_suggestion_source</th>\n",
       "      <th>label</th>\n",
       "      <th>len</th>\n",
       "      <th>pred</th>\n",
       "    </tr>\n",
       "  </thead>\n",
       "  <tbody>\n",
       "    <tr>\n",
       "      <th>426057</th>\n",
       "      <td>19115</td>\n",
       "      <td>zip_code</td>\n",
       "      <td>0</td>\n",
       "      <td>5</td>\n",
       "      <td>0</td>\n",
       "    </tr>\n",
       "    <tr>\n",
       "      <th>21202</th>\n",
       "      <td>29384</td>\n",
       "      <td>zip_code</td>\n",
       "      <td>0</td>\n",
       "      <td>5</td>\n",
       "      <td>0</td>\n",
       "    </tr>\n",
       "    <tr>\n",
       "      <th>260087</th>\n",
       "      <td>146 wendy</td>\n",
       "      <td>address</td>\n",
       "      <td>1</td>\n",
       "      <td>9</td>\n",
       "      <td>1</td>\n",
       "    </tr>\n",
       "    <tr>\n",
       "      <th>773542</th>\n",
       "      <td>27 west 72</td>\n",
       "      <td>building_address</td>\n",
       "      <td>0</td>\n",
       "      <td>10</td>\n",
       "      <td>0</td>\n",
       "    </tr>\n",
       "    <tr>\n",
       "      <th>5009</th>\n",
       "      <td>so</td>\n",
       "      <td>city</td>\n",
       "      <td>0</td>\n",
       "      <td>2</td>\n",
       "      <td>0</td>\n",
       "    </tr>\n",
       "  </tbody>\n",
       "</table>\n",
       "</div>"
      ],
      "text/plain": [
       "       Query_Entered selected_suggestion_source  label  len  pred\n",
       "426057         19115                   zip_code      0    5     0\n",
       "21202          29384                   zip_code      0    5     0\n",
       "260087     146 wendy                    address      1    9     1\n",
       "773542    27 west 72           building_address      0   10     0\n",
       "5009              so                       city      0    2     0"
      ]
     },
     "execution_count": 652,
     "metadata": {},
     "output_type": "execute_result"
    }
   ],
   "source": [
    "df_test_fil.head()"
   ]
  },
  {
   "cell_type": "code",
   "execution_count": 654,
   "id": "da094ae3",
   "metadata": {},
   "outputs": [],
   "source": [
    "df_fp = df_test_fil[(df_test_fil.label == 0) & (df_test_fil.pred ==1)]"
   ]
  },
  {
   "cell_type": "code",
   "execution_count": 655,
   "id": "49dc6b09",
   "metadata": {},
   "outputs": [
    {
     "data": {
      "text/plain": [
       "(6700, 5)"
      ]
     },
     "execution_count": 655,
     "metadata": {},
     "output_type": "execute_result"
    }
   ],
   "source": [
    "df_fp.shape"
   ]
  },
  {
   "cell_type": "code",
   "execution_count": 656,
   "id": "594717b3",
   "metadata": {},
   "outputs": [
    {
     "data": {
      "text/html": [
       "<div>\n",
       "<style scoped>\n",
       "    .dataframe tbody tr th:only-of-type {\n",
       "        vertical-align: middle;\n",
       "    }\n",
       "\n",
       "    .dataframe tbody tr th {\n",
       "        vertical-align: top;\n",
       "    }\n",
       "\n",
       "    .dataframe thead th {\n",
       "        text-align: right;\n",
       "    }\n",
       "</style>\n",
       "<table border=\"1\" class=\"dataframe\">\n",
       "  <thead>\n",
       "    <tr style=\"text-align: right;\">\n",
       "      <th></th>\n",
       "      <th>Query_Entered</th>\n",
       "      <th>selected_suggestion_source</th>\n",
       "      <th>label</th>\n",
       "      <th>len</th>\n",
       "      <th>pred</th>\n",
       "    </tr>\n",
       "  </thead>\n",
       "  <tbody>\n",
       "    <tr>\n",
       "      <th>364199</th>\n",
       "      <td>21743 arr</td>\n",
       "      <td>building_address</td>\n",
       "      <td>0</td>\n",
       "      <td>9</td>\n",
       "      <td>1</td>\n",
       "    </tr>\n",
       "    <tr>\n",
       "      <th>452330</th>\n",
       "      <td>4850 eisenhower ave, unit 203</td>\n",
       "      <td>recent_viewed_listings</td>\n",
       "      <td>0</td>\n",
       "      <td>29</td>\n",
       "      <td>1</td>\n",
       "    </tr>\n",
       "    <tr>\n",
       "      <th>278342</th>\n",
       "      <td>101 su</td>\n",
       "      <td>recentviewedlistings</td>\n",
       "      <td>0</td>\n",
       "      <td>6</td>\n",
       "      <td>1</td>\n",
       "    </tr>\n",
       "    <tr>\n",
       "      <th>373712</th>\n",
       "      <td>275 indies</td>\n",
       "      <td>recentviewedlistings</td>\n",
       "      <td>0</td>\n",
       "      <td>10</td>\n",
       "      <td>1</td>\n",
       "    </tr>\n",
       "    <tr>\n",
       "      <th>318970</th>\n",
       "      <td>2020 walnut</td>\n",
       "      <td>building_address</td>\n",
       "      <td>0</td>\n",
       "      <td>11</td>\n",
       "      <td>1</td>\n",
       "    </tr>\n",
       "  </tbody>\n",
       "</table>\n",
       "</div>"
      ],
      "text/plain": [
       "                        Query_Entered selected_suggestion_source  label  len  \\\n",
       "364199                      21743 arr           building_address      0    9   \n",
       "452330  4850 eisenhower ave, unit 203     recent_viewed_listings      0   29   \n",
       "278342                         101 su       recentviewedlistings      0    6   \n",
       "373712                     275 indies       recentviewedlistings      0   10   \n",
       "318970                    2020 walnut           building_address      0   11   \n",
       "\n",
       "        pred  \n",
       "364199     1  \n",
       "452330     1  \n",
       "278342     1  \n",
       "373712     1  \n",
       "318970     1  "
      ]
     },
     "execution_count": 656,
     "metadata": {},
     "output_type": "execute_result"
    }
   ],
   "source": [
    "df_fp.head()"
   ]
  },
  {
   "cell_type": "code",
   "execution_count": 657,
   "id": "24988ab7",
   "metadata": {},
   "outputs": [
    {
     "data": {
      "text/plain": [
       "recent_viewed_listings    2239\n",
       "recentviewedlistings      2233\n",
       "building_address          2217\n",
       "zip_code                     5\n",
       "neighborhood                 5\n",
       "city                         1\n",
       "Name: selected_suggestion_source, dtype: int64"
      ]
     },
     "execution_count": 657,
     "metadata": {},
     "output_type": "execute_result"
    }
   ],
   "source": [
    "df_fp.selected_suggestion_source.value_counts()"
   ]
  },
  {
   "cell_type": "markdown",
   "id": "1b8f9dcb",
   "metadata": {},
   "source": [
    "# False negative analysis"
   ]
  },
  {
   "cell_type": "code",
   "execution_count": 658,
   "id": "48f2a57d",
   "metadata": {},
   "outputs": [],
   "source": [
    "df_fn = df_test_fil[(df_test_fil.label == 1) & (df_test_fil.pred ==0)]"
   ]
  },
  {
   "cell_type": "code",
   "execution_count": 659,
   "id": "18498fff",
   "metadata": {},
   "outputs": [
    {
     "data": {
      "text/plain": [
       "address    12466\n",
       "Name: selected_suggestion_source, dtype: int64"
      ]
     },
     "execution_count": 659,
     "metadata": {},
     "output_type": "execute_result"
    }
   ],
   "source": [
    "df_fn.selected_suggestion_source.value_counts()"
   ]
  },
  {
   "cell_type": "code",
   "execution_count": 661,
   "id": "f961f82d",
   "metadata": {},
   "outputs": [
    {
     "data": {
      "text/plain": [
       "['3 stowe',\n",
       " '171 3rd ave',\n",
       " '333 west hubbard street',\n",
       " 'brown court petaluma',\n",
       " '1101 washington',\n",
       " '5 paris ave',\n",
       " '111 east chestnut',\n",
       " '2843 n halsted st',\n",
       " 'winward',\n",
       " '851',\n",
       " '560 east 5th street boston',\n",
       " '6613',\n",
       " '684',\n",
       " '325 east 77',\n",
       " '822',\n",
       " 'eastbur',\n",
       " '1381 st.',\n",
       " '1000 river street',\n",
       " '111 south',\n",
       " '19111 collins ave 3003',\n",
       " '32 down',\n",
       " '10 east',\n",
       " '1026 e washington',\n",
       " '1020 union street',\n",
       " '6808',\n",
       " '55-07a 133rd st, flushing, ny 11355',\n",
       " '1001 beverly hills',\n",
       " '70 washington st, unit 3s',\n",
       " '2 narbonne newport beach',\n",
       " '24 hesketh street',\n",
       " '700 john',\n",
       " '36 sedgwick',\n",
       " '111 murray',\n",
       " '248 putnam',\n",
       " '7520 cove',\n",
       " '680',\n",
       " '338 prospect pl unit 3-b brooklyn, ny 11238',\n",
       " '18884-southeast-42nd-street-issaquah-wa-98027',\n",
       " '4033 lafrance',\n",
       " '819',\n",
       " '10 greaton',\n",
       " '6779',\n",
       " '3317 16th',\n",
       " '220 east 72',\n",
       " '196 east 75',\n",
       " '823 jefferson',\n",
       " '600',\n",
       " '242',\n",
       " '1910 heiman st,',\n",
       " 'amari',\n",
       " '9 brigh',\n",
       " '6 menton',\n",
       " '233 east 69',\n",
       " '423 west 22nd street',\n",
       " '2-14 st paul',\n",
       " '5 wince',\n",
       " '80 riverside blvd.',\n",
       " '3 laf',\n",
       " 'wright st north reading',\n",
       " '524 west 19',\n",
       " '3515',\n",
       " '41',\n",
       " '10 weston',\n",
       " '6 figtree',\n",
       " '435',\n",
       " '151 jora',\n",
       " '5133 grana',\n",
       " '35 wait',\n",
       " 'wind',\n",
       " '2230 kelton',\n",
       " '40 east 19',\n",
       " '145 west 55th street 7f',\n",
       " '30 mystic',\n",
       " '3120 73rd',\n",
       " 'banyan cir',\n",
       " '25 gore street',\n",
       " '25 state park rd',\n",
       " 'cachet way saugus, ca 91350',\n",
       " '144 carroll',\n",
       " '56 franklin winthrop',\n",
       " '1800 w roscoe 309',\n",
       " '15 ralph',\n",
       " 'mason dells',\n",
       " '85 jay',\n",
       " '6110',\n",
       " '34',\n",
       " '860 jadest',\n",
       " '7 woodridge ct',\n",
       " '30 woodsia',\n",
       " '34 rockport',\n",
       " '6039',\n",
       " 'laure',\n",
       " '15 newmar',\n",
       " '8808',\n",
       " '24',\n",
       " '2312',\n",
       " '400 cort',\n",
       " '65 sparks',\n",
       " '360 w illinois 211',\n",
       " '3205 sutton place']"
      ]
     },
     "execution_count": 661,
     "metadata": {},
     "output_type": "execute_result"
    }
   ],
   "source": [
    "list(df_fn.sample(100).Query_Entered)"
   ]
  },
  {
   "cell_type": "markdown",
   "id": "3c967864",
   "metadata": {},
   "source": [
    "# Change label and train"
   ]
  },
  {
   "cell_type": "code",
   "execution_count": 665,
   "id": "f50ada76",
   "metadata": {},
   "outputs": [
    {
     "data": {
      "text/html": [
       "<div>\n",
       "<style scoped>\n",
       "    .dataframe tbody tr th:only-of-type {\n",
       "        vertical-align: middle;\n",
       "    }\n",
       "\n",
       "    .dataframe tbody tr th {\n",
       "        vertical-align: top;\n",
       "    }\n",
       "\n",
       "    .dataframe thead th {\n",
       "        text-align: right;\n",
       "    }\n",
       "</style>\n",
       "<table border=\"1\" class=\"dataframe\">\n",
       "  <thead>\n",
       "    <tr style=\"text-align: right;\">\n",
       "      <th></th>\n",
       "      <th>Query_Entered</th>\n",
       "      <th>selected_suggestion_source</th>\n",
       "      <th>label</th>\n",
       "      <th>len</th>\n",
       "    </tr>\n",
       "  </thead>\n",
       "  <tbody>\n",
       "    <tr>\n",
       "      <th>426057</th>\n",
       "      <td>19115</td>\n",
       "      <td>zip_code</td>\n",
       "      <td>0</td>\n",
       "      <td>5</td>\n",
       "    </tr>\n",
       "    <tr>\n",
       "      <th>316775</th>\n",
       "      <td>1720</td>\n",
       "      <td>newbuilding</td>\n",
       "      <td>0</td>\n",
       "      <td>4</td>\n",
       "    </tr>\n",
       "    <tr>\n",
       "      <th>21202</th>\n",
       "      <td>29384</td>\n",
       "      <td>zip_code</td>\n",
       "      <td>0</td>\n",
       "      <td>5</td>\n",
       "    </tr>\n",
       "    <tr>\n",
       "      <th>260087</th>\n",
       "      <td>146 wendy</td>\n",
       "      <td>address</td>\n",
       "      <td>1</td>\n",
       "      <td>9</td>\n",
       "    </tr>\n",
       "    <tr>\n",
       "      <th>773542</th>\n",
       "      <td>27 west 72</td>\n",
       "      <td>building_address</td>\n",
       "      <td>0</td>\n",
       "      <td>10</td>\n",
       "    </tr>\n",
       "  </tbody>\n",
       "</table>\n",
       "</div>"
      ],
      "text/plain": [
       "       Query_Entered selected_suggestion_source  label  len\n",
       "426057         19115                   zip_code      0    5\n",
       "316775          1720                newbuilding      0    4\n",
       "21202          29384                   zip_code      0    5\n",
       "260087     146 wendy                    address      1    9\n",
       "773542    27 west 72           building_address      0   10"
      ]
     },
     "execution_count": 665,
     "metadata": {},
     "output_type": "execute_result"
    }
   ],
   "source": [
    "df_test.head()"
   ]
  },
  {
   "cell_type": "code",
   "execution_count": 675,
   "id": "ac7ea0e3",
   "metadata": {},
   "outputs": [],
   "source": [
    "# merge everything but address\n",
    "df_sam['label_cleaned'] = df_sam.selected_suggestion_source.apply(lambda x: 1 if x in ['address', '0'] else 0)"
   ]
  },
  {
   "cell_type": "code",
   "execution_count": 676,
   "id": "566d349e",
   "metadata": {},
   "outputs": [
    {
     "data": {
      "text/plain": [
       "0    653847\n",
       "1    210774\n",
       "Name: label_cleaned, dtype: int64"
      ]
     },
     "execution_count": 676,
     "metadata": {},
     "output_type": "execute_result"
    }
   ],
   "source": [
    "df_sam['label_cleaned'].value_counts()"
   ]
  },
  {
   "cell_type": "code",
   "execution_count": 678,
   "id": "ec892049",
   "metadata": {},
   "outputs": [],
   "source": [
    "df_train, df_test = train_test_split(\n",
    "    df_sam, test_size=0.25, random_state=42, stratify=df_sam['label_cleaned'])"
   ]
  },
  {
   "cell_type": "code",
   "execution_count": 679,
   "id": "595910cb",
   "metadata": {},
   "outputs": [
    {
     "name": "stdout",
     "output_type": "stream",
     "text": [
      "Accuracy::  0.8778613593885897 \n",
      "\n",
      "\n",
      "AuPR::  0.766912647785125 \n",
      "\n",
      "\n",
      "              precision    recall  f1-score   support\n",
      "\n",
      "           0     0.9378    0.8980    0.9175    163462\n",
      "           1     0.7204    0.8154    0.7650     52694\n",
      "\n",
      "    accuracy                         0.8779    216156\n",
      "   macro avg     0.8291    0.8567    0.8412    216156\n",
      "weighted avg     0.8848    0.8779    0.8803    216156\n",
      " \n",
      "\n",
      "\n"
     ]
    },
    {
     "data": {
      "image/png": "[encoded data removed]",
      "text/plain": [
       "<Figure size 432x288 with 1 Axes>"
      ]
     },
     "metadata": {},
     "output_type": "display_data"
    }
   ],
   "source": [
    "from sklearn.feature_extraction.text import CountVectorizer\n",
    "\n",
    "vectorizer = CountVectorizer(max_features = 200000, analyzer='char', ngram_range = (1, 4))\n",
    "X_train = vectorizer.fit_transform(df_train['Query_Entered'])\n",
    "X_test = vectorizer.transform(df_test['Query_Entered'])\n",
    "\n",
    "clf = SGDClassifier(loss='log')\n",
    "clf.fit(X_train, df_train.label_cleaned)\n",
    "\n",
    "print_metric(clf, X_test, df_test.label_cleaned)"
   ]
  },
  {
   "cell_type": "code",
   "execution_count": 680,
   "id": "f171d8d3",
   "metadata": {},
   "outputs": [],
   "source": [
    "pred = clf.predict_proba(X_test)\n",
    "pred_tag = clf.predict(X_test)\n",
    "\n",
    "cm = confusion_matrix(df_test.label_cleaned, pred_tag)"
   ]
  },
  {
   "cell_type": "code",
   "execution_count": 681,
   "id": "84aafb8c",
   "metadata": {},
   "outputs": [
    {
     "data": {
      "text/plain": [
       "array([[146789,  16673],\n",
       "       [  9728,  42966]])"
      ]
     },
     "execution_count": 681,
     "metadata": {},
     "output_type": "execute_result"
    }
   ],
   "source": [
    "cm"
   ]
  },
  {
   "cell_type": "code",
   "execution_count": 682,
   "id": "bf7c9f4b",
   "metadata": {},
   "outputs": [
    {
     "name": "stderr",
     "output_type": "stream",
     "text": [
      "/Users/avijit.saha/.pyenv/versions/3.7.9/envs/venv/lib/python3.7/site-packages/ipykernel_launcher.py:1: SettingWithCopyWarning: \n",
      "A value is trying to be set on a copy of a slice from a DataFrame.\n",
      "Try using .loc[row_indexer,col_indexer] = value instead\n",
      "\n",
      "See the caveats in the documentation: https://pandas.pydata.org/pandas-docs/stable/user_guide/indexing.html#returning-a-view-versus-a-copy\n",
      "  \"\"\"Entry point for launching an IPython kernel.\n"
     ]
    },
    {
     "data": {
      "text/plain": [
       "building_address                2736\n",
       "recent_viewed_listings          2677\n",
       "recentviewedlistings            2473\n",
       "buildingaddress                 1582\n",
       "address_free_text               1294\n",
       "new_building                    1240\n",
       "freetextsubqueries               756\n",
       "newbuilding                      742\n",
       "7                                684\n",
       "keywordfreetext                  657\n",
       "15                               529\n",
       "keyword_free_text                427\n",
       "free_text_subqueries             421\n",
       "13                               168\n",
       "agent_name_free_text              76\n",
       "street_free_text                  34\n",
       "agentnamefreetext                 32\n",
       "addressfreetext                   27\n",
       "building_name                     25\n",
       "17                                17\n",
       "buildingname                      14\n",
       "agent_office                      11\n",
       "newbuildingname                   10\n",
       "14                                10\n",
       "8                                  6\n",
       "new_building_name                  5\n",
       "zip_code                           5\n",
       "neighborhood                       4\n",
       "zipcode                            4\n",
       "multi_mls_ids                      3\n",
       "schoolnames_without_boundary       1\n",
       "agent                              1\n",
       "street                             1\n",
       "5                                  1\n",
       "Name: selected_suggestion_source, dtype: int64"
      ]
     },
     "execution_count": 682,
     "metadata": {},
     "output_type": "execute_result"
    }
   ],
   "source": [
    "df_test['pred'] = pred_tag\n",
    "df_fp = df_test[(df_test.label_cleaned == 0) & (df_test.pred ==1)]\n",
    "df_fp.selected_suggestion_source.value_counts()"
   ]
  },
  {
   "cell_type": "code",
   "execution_count": 683,
   "id": "1a5f9068",
   "metadata": {},
   "outputs": [],
   "source": [
    "df_fn = df_test[(df_test.label_cleaned == 1) & (df_test.pred ==0)]"
   ]
  },
  {
   "cell_type": "code",
   "execution_count": 684,
   "id": "76dfc5ab",
   "metadata": {},
   "outputs": [
    {
     "data": {
      "text/plain": [
       "(9728, 6)"
      ]
     },
     "execution_count": 684,
     "metadata": {},
     "output_type": "execute_result"
    }
   ],
   "source": [
    "df_fn.shape"
   ]
  },
  {
   "cell_type": "code",
   "execution_count": 685,
   "id": "9ea66baa",
   "metadata": {},
   "outputs": [
    {
     "data": {
      "text/plain": [
       "['5602',\n",
       " '222 east 81st',\n",
       " '2 cooper',\n",
       " '92 sycm',\n",
       " '807',\n",
       " '50 church st',\n",
       " '5917-mauritania-ave_oakland_',\n",
       " '960 5th ave s',\n",
       " '92 gor',\n",
       " '5 framing',\n",
       " 'mls # 1460842',\n",
       " '49 e. 96th street',\n",
       " '5730',\n",
       " '203 w fifth',\n",
       " '281 creeks',\n",
       " '8 ara',\n",
       " '4218troost',\n",
       " '925 14th street',\n",
       " '3612c west end a',\n",
       " '30 beach',\n",
       " '42',\n",
       " '4863',\n",
       " '4760 w 136th',\n",
       " '664 broadway',\n",
       " '156',\n",
       " '1340',\n",
       " 'pacific street',\n",
       " '110',\n",
       " '80 broad st',\n",
       " '226',\n",
       " '541 w 15th',\n",
       " '458 beacon',\n",
       " '3350 n s',\n",
       " '8235 w 4',\n",
       " '215 15',\n",
       " '400 banana',\n",
       " '300 10th',\n",
       " '600',\n",
       " 'se 19th ln',\n",
       " '325 99th st',\n",
       " '271 schenck ave',\n",
       " '235 east 87',\n",
       " '2721',\n",
       " '888 eighth',\n",
       " '1100',\n",
       " '150 columbus',\n",
       " '645 w 9th',\n",
       " 'medford',\n",
       " '11 west 17',\n",
       " '110 riverside dr',\n",
       " '238',\n",
       " '1407',\n",
       " 'deacons lan',\n",
       " '1600 brick',\n",
       " '5 willard',\n",
       " '1530',\n",
       " '5869',\n",
       " '1411',\n",
       " 'friar',\n",
       " 'highfield drive ne, lawrenceville, ga 30043',\n",
       " '6060',\n",
       " '6 lero',\n",
       " '6256',\n",
       " '742',\n",
       " '56 vos',\n",
       " 'corfu',\n",
       " '35 west 9th street',\n",
       " '105 w oxford st',\n",
       " 'erin',\n",
       " 'alta vista',\n",
       " '5 frank',\n",
       " 'pesto',\n",
       " '10 open sp',\n",
       " '555 4th',\n",
       " '3103',\n",
       " 'jessami t',\n",
       " '1936',\n",
       " '2711',\n",
       " '1097 kensington',\n",
       " '9 ever',\n",
       " '971 j',\n",
       " 'morning glory',\n",
       " '13',\n",
       " '74',\n",
       " '1664 lenox avenue',\n",
       " '1145 new york',\n",
       " 'sussex newark ca',\n",
       " 'hinsdale county road 20, lake city, co 81235',\n",
       " '303 east 43rd st',\n",
       " '1930 bayside',\n",
       " '525',\n",
       " '78 park',\n",
       " '31 star',\n",
       " 'rozelle',\n",
       " '59 masho',\n",
       " '95 horatio',\n",
       " '16',\n",
       " '1400',\n",
       " '850 w 47',\n",
       " '926 west georg']"
      ]
     },
     "execution_count": 685,
     "metadata": {},
     "output_type": "execute_result"
    }
   ],
   "source": [
    "list(df_fn.sample(100).Query_Entered)"
   ]
  },
  {
   "cell_type": "code",
   "execution_count": null,
   "id": "a855154c",
   "metadata": {},
   "outputs": [],
   "source": [
    "#TODOs:\n",
    "1. Try with only the agent data\n",
    "2. CTR + other features\n",
    "3. LSTM + CNN\n",
    "4. LSTM + CNN + features + wide and deep"
   ]
  },
  {
   "cell_type": "code",
   "execution_count": null,
   "id": "6d8a1222",
   "metadata": {},
   "outputs": [],
   "source": []
  },
  {
   "cell_type": "code",
   "execution_count": null,
   "id": "aa9f8ffa",
   "metadata": {},
   "outputs": [],
   "source": []
  },
  {
   "cell_type": "code",
   "execution_count": null,
   "id": "c70cf61e",
   "metadata": {},
   "outputs": [],
   "source": []
  },
  {
   "cell_type": "markdown",
   "id": "2c6f6e8f",
   "metadata": {},
   "source": [
    "# char ngram + word n-gram + LR"
   ]
  },
  {
   "cell_type": "code",
   "execution_count": 245,
   "id": "24d33df4",
   "metadata": {},
   "outputs": [
    {
     "name": "stdout",
     "output_type": "stream",
     "text": [
      "Accuracy::  0.8653148651899554 \n",
      "\n",
      "\n",
      "AuPR::  0.7145250479348451 \n",
      "\n",
      "\n",
      "              precision    recall  f1-score   support\n",
      "\n",
      "           0     0.9256    0.8983    0.9117    167389\n",
      "           1     0.6830    0.7522    0.7159     48767\n",
      "\n",
      "    accuracy                         0.8653    216156\n",
      "   macro avg     0.8043    0.8252    0.8138    216156\n",
      "weighted avg     0.8709    0.8653    0.8676    216156\n",
      " \n",
      "\n",
      "\n"
     ]
    },
    {
     "data": {
      "image/png": "[encoded data removed]",
      "text/plain": [
       "<Figure size 432x288 with 1 Axes>"
      ]
     },
     "metadata": {
      "needs_background": "light"
     },
     "output_type": "display_data"
    }
   ],
   "source": [
    "vectorizer_word = CountVectorizer(max_features = 50000)\n",
    "X_train_word = vectorizer_word.fit_transform(df_train['Query_Entered'])\n",
    "X_test_word = vectorizer_word.transform(df_test['Query_Entered'])\n",
    "\n",
    "X_train_all = hstack((X_train, X_train_word))\n",
    "X_test_all = hstack((X_test, X_test_word))\n",
    "\n",
    "clf = SGDClassifier(loss='log')\n",
    "clf.fit(X_train_all, df_train.label)\n",
    "\n",
    "print_metric(clf, X_test_all, df_test.label)"
   ]
  },
  {
   "cell_type": "markdown",
   "id": "ddc66b27",
   "metadata": {},
   "source": [
    "# char ngram + class weight + LR"
   ]
  },
  {
   "cell_type": "code",
   "execution_count": 250,
   "id": "2538ab43",
   "metadata": {},
   "outputs": [
    {
     "name": "stdout",
     "output_type": "stream",
     "text": [
      "Accuracy::  0.8448527915024334 \n",
      "\n",
      "\n",
      "AuPR::  0.7100986755260379 \n",
      "\n",
      "\n",
      "              precision    recall  f1-score   support\n",
      "\n",
      "           0     0.9683    0.8268    0.8919    167389\n",
      "           1     0.6040    0.9070    0.7251     48767\n",
      "\n",
      "    accuracy                         0.8449    216156\n",
      "   macro avg     0.7861    0.8669    0.8085    216156\n",
      "weighted avg     0.8861    0.8449    0.8543    216156\n",
      " \n",
      "\n",
      "\n"
     ]
    },
    {
     "data": {
      "image/png": "[encoded data removed]",
      "text/plain": [
       "<Figure size 432x288 with 1 Axes>"
      ]
     },
     "metadata": {
      "needs_background": "light"
     },
     "output_type": "display_data"
    }
   ],
   "source": [
    "vectorizer = CountVectorizer(max_features = 200000, analyzer='char', ngram_range = (1, 4))\n",
    "X_train = vectorizer.fit_transform(df_train['Query_Entered'])\n",
    "X_test = vectorizer.transform(df_test['Query_Entered'])\n",
    "\n",
    "clf = SGDClassifier(loss='log', class_weight = 'balanced')\n",
    "clf.fit(X_train, df_train.label)\n",
    "\n",
    "print_metric(clf, X_test, df_test.label)"
   ]
  },
  {
   "cell_type": "markdown",
   "id": "7b6515d9",
   "metadata": {},
   "source": [
    "# Gradient boosting"
   ]
  },
  {
   "cell_type": "code",
   "execution_count": 162,
   "id": "feb5447b",
   "metadata": {},
   "outputs": [],
   "source": [
    "from sklearn.datasets import make_hastie_10_2\n",
    "from sklearn.ensemble import GradientBoostingClassifier\n",
    "\n",
    "clf = GradientBoostingClassifier(n_estimators=100, random_state=0).fit(X_train, df_train.label)"
   ]
  },
  {
   "cell_type": "code",
   "execution_count": 163,
   "id": "1a51a66d",
   "metadata": {},
   "outputs": [
    {
     "name": "stdout",
     "output_type": "stream",
     "text": [
      "Accuracy::  0.8006069690408779 \n",
      "\n",
      "\n",
      "AuPR::  0.4200043601245637 \n",
      "\n",
      "\n",
      "              precision    recall  f1-score   support\n",
      "\n",
      "           0       0.81      0.97      0.88    167389\n",
      "           1       0.68      0.22      0.33     48767\n",
      "\n",
      "    accuracy                           0.80    216156\n",
      "   macro avg       0.74      0.60      0.61    216156\n",
      "weighted avg       0.78      0.80      0.76    216156\n",
      " \n",
      "\n",
      "\n"
     ]
    },
    {
     "data": {
      "image/png": "[encoded data removed]",
      "text/plain": [
       "<Figure size 432x288 with 1 Axes>"
      ]
     },
     "metadata": {
      "needs_background": "light"
     },
     "output_type": "display_data"
    }
   ],
   "source": [
    "print_metric(clf, X_test, df_test.label)"
   ]
  },
  {
   "cell_type": "markdown",
   "id": "9a0f47e8",
   "metadata": {},
   "source": [
    "## Class weight helps?"
   ]
  },
  {
   "cell_type": "code",
   "execution_count": 217,
   "id": "101b6629",
   "metadata": {},
   "outputs": [
    {
     "data": {
      "text/plain": [
       "SGDClassifier(class_weight='balanced', loss='log')"
      ]
     },
     "execution_count": 217,
     "metadata": {},
     "output_type": "execute_result"
    }
   ],
   "source": [
    "clf = SGDClassifier(loss='log', class_weight = 'balanced')\n",
    "clf.fit(X_train, df_train.label)"
   ]
  },
  {
   "cell_type": "code",
   "execution_count": 219,
   "id": "4ca85041",
   "metadata": {},
   "outputs": [
    {
     "name": "stdout",
     "output_type": "stream",
     "text": [
      "Accuracy::  0.8543921982272062 \n",
      "\n",
      "\n",
      "AuPR::  0.7143475012161362 \n",
      "\n",
      "\n",
      "              precision    recall  f1-score   support\n",
      "\n",
      "           0       0.96      0.84      0.90    167389\n",
      "           1       0.62      0.89      0.73     48767\n",
      "\n",
      "    accuracy                           0.85    216156\n",
      "   macro avg       0.79      0.87      0.82    216156\n",
      "weighted avg       0.89      0.85      0.86    216156\n",
      " \n",
      "\n",
      "\n"
     ]
    },
    {
     "data": {
      "image/png": "[encoded data removed]",
      "text/plain": [
       "<Figure size 432x288 with 1 Axes>"
      ]
     },
     "metadata": {
      "needs_background": "light"
     },
     "output_type": "display_data"
    }
   ],
   "source": [
    "clf = SGDClassifier(loss='log', class_weight = {0:1, 1:2})\n",
    "clf.fit(X_train, df_train.label)\n",
    "print_metric(clf, X_test, df_test.label)"
   ]
  },
  {
   "cell_type": "code",
   "execution_count": 220,
   "id": "f65ef65f",
   "metadata": {},
   "outputs": [
    {
     "data": {
      "text/html": [
       "<div>\n",
       "<style scoped>\n",
       "    .dataframe tbody tr th:only-of-type {\n",
       "        vertical-align: middle;\n",
       "    }\n",
       "\n",
       "    .dataframe tbody tr th {\n",
       "        vertical-align: top;\n",
       "    }\n",
       "\n",
       "    .dataframe thead th {\n",
       "        text-align: right;\n",
       "    }\n",
       "</style>\n",
       "<table border=\"1\" class=\"dataframe\">\n",
       "  <thead>\n",
       "    <tr style=\"text-align: right;\">\n",
       "      <th></th>\n",
       "      <th>Query_Entered</th>\n",
       "      <th>selected_suggestion_source</th>\n",
       "      <th>label</th>\n",
       "      <th>len</th>\n",
       "    </tr>\n",
       "  </thead>\n",
       "  <tbody>\n",
       "    <tr>\n",
       "      <th>0</th>\n",
       "      <td>20854</td>\n",
       "      <td>zip_code</td>\n",
       "      <td>0</td>\n",
       "      <td>5</td>\n",
       "    </tr>\n",
       "    <tr>\n",
       "      <th>1</th>\n",
       "      <td>paph1018386</td>\n",
       "      <td>mrsid</td>\n",
       "      <td>0</td>\n",
       "      <td>11</td>\n",
       "    </tr>\n",
       "    <tr>\n",
       "      <th>2</th>\n",
       "      <td>33 sleeper st</td>\n",
       "      <td>address_free_text</td>\n",
       "      <td>0</td>\n",
       "      <td>13</td>\n",
       "    </tr>\n",
       "    <tr>\n",
       "      <th>3</th>\n",
       "      <td>1118 berwind road, wynnewood, pa, 19096</td>\n",
       "      <td>address</td>\n",
       "      <td>1</td>\n",
       "      <td>39</td>\n",
       "    </tr>\n",
       "    <tr>\n",
       "      <th>4</th>\n",
       "      <td>127 valley road, ardmore, pa, 19003</td>\n",
       "      <td>address</td>\n",
       "      <td>1</td>\n",
       "      <td>35</td>\n",
       "    </tr>\n",
       "  </tbody>\n",
       "</table>\n",
       "</div>"
      ],
      "text/plain": [
       "                             Query_Entered selected_suggestion_source  label  \\\n",
       "0                                    20854                   zip_code      0   \n",
       "1                              paph1018386                      mrsid      0   \n",
       "2                            33 sleeper st          address_free_text      0   \n",
       "3  1118 berwind road, wynnewood, pa, 19096                    address      1   \n",
       "4      127 valley road, ardmore, pa, 19003                    address      1   \n",
       "\n",
       "   len  \n",
       "0    5  \n",
       "1   11  \n",
       "2   13  \n",
       "3   39  \n",
       "4   35  "
      ]
     },
     "execution_count": 220,
     "metadata": {},
     "output_type": "execute_result"
    }
   ],
   "source": [
    "df_sam.head()"
   ]
  },
  {
   "cell_type": "code",
   "execution_count": 221,
   "id": "b2d658b7",
   "metadata": {},
   "outputs": [
    {
     "data": {
      "text/plain": [
       "(864621, 4)"
      ]
     },
     "execution_count": 221,
     "metadata": {},
     "output_type": "execute_result"
    }
   ],
   "source": [
    "df_sam.shape"
   ]
  },
  {
   "cell_type": "code",
   "execution_count": 226,
   "id": "f21fe24a",
   "metadata": {},
   "outputs": [
    {
     "data": {
      "text/plain": [
       "Text(0, 0.5, 'count')"
      ]
     },
     "execution_count": 226,
     "metadata": {},
     "output_type": "execute_result"
    },
    {
     "data": {
      "image/png": "[encoded data removed]",
      "text/plain": [
       "<Figure size 432x288 with 1 Axes>"
      ]
     },
     "metadata": {
      "needs_background": "light"
     },
     "output_type": "display_data"
    }
   ],
   "source": [
    "df_sam.len.hist(bins=40, range = (1, 40))\n",
    "plt.xlabel('char length')\n",
    "plt.ylabel('count')"
   ]
  },
  {
   "cell_type": "code",
   "execution_count": null,
   "id": "db1f7aaa",
   "metadata": {},
   "outputs": [],
   "source": []
  },
  {
   "cell_type": "code",
   "execution_count": null,
   "id": "91e9cc5f",
   "metadata": {},
   "outputs": [],
   "source": []
  },
  {
   "cell_type": "code",
   "execution_count": null,
   "id": "cf325556",
   "metadata": {},
   "outputs": [],
   "source": []
  },
  {
   "cell_type": "code",
   "execution_count": null,
   "id": "ed6d2a34",
   "metadata": {},
   "outputs": [],
   "source": []
  }
 ],
 "metadata": {
  "kernelspec": {
   "display_name": "Python 3 (ipykernel)",
   "language": "python",
   "name": "python3"
  },
  "language_info": {
   "codemirror_mode": {
    "name": "ipython",
    "version": 3
   },
   "file_extension": ".py",
   "mimetype": "text/x-python",
   "name": "python",
   "nbconvert_exporter": "python",
   "pygments_lexer": "ipython3",
   "version": "3.7.9"
  }
 },
 "nbformat": 4,
 "nbformat_minor": 5
}
